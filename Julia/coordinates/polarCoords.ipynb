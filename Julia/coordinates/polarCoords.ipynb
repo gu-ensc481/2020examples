{
 "cells": [
  {
   "cell_type": "markdown",
   "metadata": {},
   "source": [
    "# Drawing Polar Coordinates\n",
    "\n",
    "## Given:\n",
    "Define the function $r(\\theta)$\n"
   ]
  },
  {
   "cell_type": "code",
   "execution_count": 1,
   "metadata": {},
   "outputs": [],
   "source": [
    "r(θ) = 1.5*(2 - cos(θ))\n",
    "angleRange = 0:5:360\n",
    ";"
   ]
  },
  {
   "cell_type": "markdown",
   "metadata": {},
   "source": [
    "##  Interactive Plot"
   ]
  },
  {
   "cell_type": "code",
   "execution_count": 2,
   "metadata": {},
   "outputs": [
    {
     "data": {
      "text/html": [
       "<script>\n",
       "// Immediately-invoked-function-expression to avoid global variables.\n",
       "(function() {\n",
       "    var warning_div = document.getElementById(\"webio-warning-7006266739367306398\");\n",
       "    var hide = function () {\n",
       "        var script = document.getElementById(\"webio-setup-13475619361203554377\");\n",
       "        var parent = script && script.parentElement;\n",
       "        var grandparent = parent && parent.parentElement;\n",
       "        if (grandparent) {\n",
       "            grandparent.style.display = \"none\";\n",
       "        }\n",
       "        warning_div.style.display = \"none\";\n",
       "    };\n",
       "    if (typeof Jupyter !== \"undefined\") {\n",
       "        console.log(\"WebIO detected Jupyter notebook environment.\");\n",
       "        // Jupyter notebook.\n",
       "        var extensions = (\n",
       "            Jupyter\n",
       "            && Jupyter.notebook.config.data\n",
       "            && Jupyter.notebook.config.data.load_extensions\n",
       "        );\n",
       "        if (extensions && extensions[\"webio-jupyter-notebook\"]) {\n",
       "            // Extension already loaded.\n",
       "            console.log(\"Jupyter WebIO nbextension detected; not loading ad-hoc.\");\n",
       "            hide();\n",
       "            return;\n",
       "        }\n",
       "    } else if (window.location.pathname.includes(\"/lab\")) {\n",
       "        // Guessing JupyterLa\n",
       "        console.log(\"Jupyter Lab detected; make sure the @webio/jupyter-lab-provider labextension is installed.\");\n",
       "        hide();\n",
       "        return;\n",
       "    }\n",
       "})();\n",
       "\n",
       "</script>\n",
       "<p\n",
       "    id=\"webio-warning-7006266739367306398\"\n",
       "    class=\"output_text output_stderr\"\n",
       "    style=\"padding: 1em; font-weight: bold;\"\n",
       ">\n",
       "    Unable to load WebIO. Please make sure WebIO works for your Jupyter client.\n",
       "    For troubleshooting, please see <a href=\"https://juliagizmos.github.io/WebIO.jl/latest/providers/ijulia/\">\n",
       "    the WebIO/IJulia documentation</a>.\n",
       "    <!-- TODO: link to installation docs. -->\n",
       "</p>\n"
      ],
      "text/plain": [
       "HTML{String}(\"<script>\\n// Immediately-invoked-function-expression to avoid global variables.\\n(function() {\\n    var warning_div = document.getElementById(\\\"webio-warning-7006266739367306398\\\");\\n    var hide = function () {\\n        var script = document.getElementById(\\\"webio-setup-13475619361203554377\\\");\\n        var parent = script && script.parentElement;\\n        var grandparent = parent && parent.parentElement;\\n        if (grandparent) {\\n            grandparent.style.display = \\\"none\\\";\\n        }\\n        warning_div.style.display = \\\"none\\\";\\n    };\\n    if (typeof Jupyter !== \\\"undefined\\\") {\\n        console.log(\\\"WebIO detected Jupyter notebook environment.\\\");\\n        // Jupyter notebook.\\n        var extensions = (\\n            Jupyter\\n            && Jupyter.notebook.config.data\\n            && Jupyter.notebook.config.data.load_extensions\\n        );\\n        if (extensions && extensions[\\\"webio-jupyter-notebook\\\"]) {\\n            // Extension already loaded.\\n            console.log(\\\"Jupyter WebIO nbextension detected; not loading ad-hoc.\\\");\\n            hide();\\n            return;\\n        }\\n    } else if (window.location.pathname.includes(\\\"/lab\\\")) {\\n        // Guessing JupyterLa\\n        console.log(\\\"Jupyter Lab detected; make sure the @webio/jupyter-lab-provider labextension is installed.\\\");\\n        hide();\\n        return;\\n    }\\n})();\\n\\n</script>\\n<p\\n    id=\\\"webio-warning-7006266739367306398\\\"\\n    class=\\\"output_text output_stderr\\\"\\n    style=\\\"padding: 1em; font-weight: bold;\\\"\\n>\\n    Unable to load WebIO. Please make sure WebIO works for your Jupyter client.\\n    For troubleshooting, please see <a href=\\\"https://juliagizmos.github.io/WebIO.jl/latest/providers/ijulia/\\\">\\n    the WebIO/IJulia documentation</a>.\\n    <!-- TODO: link to installation docs. -->\\n</p>\\n\")"
      ]
     },
     "metadata": {},
     "output_type": "display_data"
    },
    {
     "name": "stdout",
     "output_type": "stream",
     "text": [
      "\u001b[32m\u001b[1mActivating\u001b[22m\u001b[39m environment at `~/Documents/2020examples/Julia/coordinates/Project.toml`\n"
     ]
    }
   ],
   "source": [
    "using Pkg\n",
    "Pkg.activate(\".\")\n",
    "using Interact, Plots, ForwardDiff, Colors\n",
    "## Run First time to install the notebook extension, then restart the server:\n",
    "# using WebIO\n",
    "# WebIO.install_jupyter_nbextension()"
   ]
  },
  {
   "cell_type": "code",
   "execution_count": 3,
   "metadata": {},
   "outputs": [
    {
     "data": {
      "application/vnd.webio.node+json": {
       "children": [
        {
         "children": [
          {
           "children": [
            {
             "children": [
              {
               "children": [
                {
                 "children": [
                  "ϕ"
                 ],
                 "instanceArgs": {
                  "namespace": "html",
                  "tag": "label"
                 },
                 "nodeType": "DOM",
                 "props": {
                  "className": "interact ",
                  "style": {
                   "padding": "5px 10px 0px 10px"
                  }
                 },
                 "type": "node"
                }
               ],
               "instanceArgs": {
                "namespace": "html",
                "tag": "div"
               },
               "nodeType": "DOM",
               "props": {
                "className": "interact-flex-row-left"
               },
               "type": "node"
              },
              {
               "children": [
                {
                 "children": [],
                 "instanceArgs": {
                  "namespace": "html",
                  "tag": "input"
                 },
                 "nodeType": "DOM",
                 "props": {
                  "attributes": {
                   "data-bind": "numericValue: index, valueUpdate: 'input', event: {change: function (){this.changes(this.changes()+1)}}",
                   "orient": "horizontal",
                   "type": "range"
                  },
                  "className": "slider slider is-fullwidth",
                  "max": 73,
                  "min": 1,
                  "step": 1,
                  "style": {}
                 },
                 "type": "node"
                }
               ],
               "instanceArgs": {
                "namespace": "html",
                "tag": "div"
               },
               "nodeType": "DOM",
               "props": {
                "className": "interact-flex-row-center"
               },
               "type": "node"
              },
              {
               "children": [
                {
                 "children": [],
                 "instanceArgs": {
                  "namespace": "html",
                  "tag": "p"
                 },
                 "nodeType": "DOM",
                 "props": {
                  "attributes": {
                   "data-bind": "text: formatted_val"
                  }
                 },
                 "type": "node"
                }
               ],
               "instanceArgs": {
                "namespace": "html",
                "tag": "div"
               },
               "nodeType": "DOM",
               "props": {
                "className": "interact-flex-row-right"
               },
               "type": "node"
              }
             ],
             "instanceArgs": {
              "namespace": "html",
              "tag": "div"
             },
             "nodeType": "DOM",
             "props": {
              "className": "interact-flex-row interact-widget"
             },
             "type": "node"
            }
           ],
           "instanceArgs": {
            "handlers": {
             "changes": [
              "(function (val){return (val!=this.model[\"changes\"]()) ? (this.valueFromJulia[\"changes\"]=true, this.model[\"changes\"](val)) : undefined})"
             ],
             "index": [
              "(function (val){return (val!=this.model[\"index\"]()) ? (this.valueFromJulia[\"index\"]=true, this.model[\"index\"](val)) : undefined})"
             ]
            },
            "id": "10160039717019571389",
            "imports": {
             "data": [
              {
               "name": "knockout",
               "type": "js",
               "url": "/assetserver/916302f6d5e8a06b15ad797fed7e4e15a53527fc-knockout.js"
              },
              {
               "name": "knockout_punches",
               "type": "js",
               "url": "/assetserver/5e1c85d4bec9f031a297a6fa800fb73907cc8805-knockout_punches.js"
              },
              {
               "name": null,
               "type": "js",
               "url": "/assetserver/4959abf7cfde8ccf4bc14da1bfe9aa1ce154b37f-all.js"
              },
              {
               "name": null,
               "type": "css",
               "url": "/assetserver/ae5fba0ff44b12c8103fadacf9859ebdeb329277-style.css"
              },
              {
               "name": null,
               "type": "css",
               "url": "/assetserver/490ef550dcc5a3350ddc70818a3ef106047c42da-bulma_confined.min.css"
              }
             ],
             "type": "async_block"
            },
            "mount_callbacks": [
             "function () {\n    var handler = (function (ko, koPunches) {\n    ko.punches.enableAll();\n    ko.bindingHandlers.numericValue = {\n        init: function(element, valueAccessor, allBindings, data, context) {\n            var stringified = ko.observable(ko.unwrap(valueAccessor()));\n            stringified.subscribe(function(value) {\n                var val = parseFloat(value);\n                if (!isNaN(val)) {\n                    valueAccessor()(val);\n                }\n            });\n            valueAccessor().subscribe(function(value) {\n                var str = JSON.stringify(value);\n                if ((str == \"0\") && ([\"-0\", \"-0.\"].indexOf(stringified()) >= 0))\n                     return;\n                 if ([\"null\", \"\"].indexOf(str) >= 0)\n                     return;\n                stringified(str);\n            });\n            ko.applyBindingsToNode(\n                element,\n                {\n                    value: stringified,\n                    valueUpdate: allBindings.get('valueUpdate'),\n                },\n                context,\n            );\n        }\n    };\n    var json_data = {\"formatted_vals\":[\"0\",\"5\",\"10\",\"15\",\"20\",\"25\",\"30\",\"35\",\"40\",\"45\",\"50\",\"55\",\"60\",\"65\",\"70\",\"75\",\"80\",\"85\",\"90\",\"95\",\"100\",\"105\",\"110\",\"115\",\"120\",\"125\",\"130\",\"135\",\"140\",\"145\",\"150\",\"155\",\"160\",\"165\",\"170\",\"175\",\"180\",\"185\",\"190\",\"195\",\"200\",\"205\",\"210\",\"215\",\"220\",\"225\",\"230\",\"235\",\"240\",\"245\",\"250\",\"255\",\"260\",\"265\",\"270\",\"275\",\"280\",\"285\",\"290\",\"295\",\"300\",\"305\",\"310\",\"315\",\"320\",\"325\",\"330\",\"335\",\"340\",\"345\",\"350\",\"355\",\"360\"],\"changes\":WebIO.getval({\"name\":\"changes\",\"scope\":\"10160039717019571389\",\"id\":\"ob_03\",\"type\":\"observable\"}),\"index\":WebIO.getval({\"name\":\"index\",\"scope\":\"10160039717019571389\",\"id\":\"ob_02\",\"type\":\"observable\"})};\n    var self = this;\n    function AppViewModel() {\n        for (var key in json_data) {\n            var el = json_data[key];\n            this[key] = Array.isArray(el) ? ko.observableArray(el) : ko.observable(el);\n        }\n        \n        [this[\"formatted_val\"]=ko.computed(    function(){\n        return this.formatted_vals()[parseInt(this.index())-(1)];\n    }\n,this)]\n        [this[\"changes\"].subscribe((function (val){!(this.valueFromJulia[\"changes\"]) ? (WebIO.setval({\"name\":\"changes\",\"scope\":\"10160039717019571389\",\"id\":\"ob_03\",\"type\":\"observable\"},val)) : undefined; return this.valueFromJulia[\"changes\"]=false}),self),this[\"index\"].subscribe((function (val){!(this.valueFromJulia[\"index\"]) ? (WebIO.setval({\"name\":\"index\",\"scope\":\"10160039717019571389\",\"id\":\"ob_02\",\"type\":\"observable\"},val)) : undefined; return this.valueFromJulia[\"index\"]=false}),self)]\n        \n    }\n    self.model = new AppViewModel();\n    self.valueFromJulia = {};\n    for (var key in json_data) {\n        self.valueFromJulia[key] = false;\n    }\n    ko.applyBindings(self.model, self.dom);\n}\n);\n    (WebIO.importBlock({\"data\":[{\"name\":\"knockout\",\"type\":\"js\",\"url\":\"/assetserver/916302f6d5e8a06b15ad797fed7e4e15a53527fc-knockout.js\"},{\"name\":\"knockout_punches\",\"type\":\"js\",\"url\":\"/assetserver/5e1c85d4bec9f031a297a6fa800fb73907cc8805-knockout_punches.js\"}],\"type\":\"async_block\"})).then((imports) => handler.apply(this, imports));\n}\n"
            ],
            "observables": {
             "changes": {
              "id": "ob_03",
              "sync": false,
              "value": 0
             },
             "index": {
              "id": "ob_02",
              "sync": true,
              "value": 37
             }
            },
            "systemjs_options": null
           },
           "nodeType": "Scope",
           "props": {},
           "type": "node"
          }
         ],
         "instanceArgs": {
          "namespace": "html",
          "tag": "div"
         },
         "nodeType": "DOM",
         "props": {
          "className": "field interact-widget"
         },
         "type": "node"
        },
        {
         "children": [
          {
           "children": [
            {
             "children": [
              {
               "children": [
                {
                 "children": [],
                 "instanceArgs": {
                  "namespace": "html",
                  "tag": "input"
                 },
                 "nodeType": "DOM",
                 "props": {
                  "attributes": {
                   "data-bind": "checked: value, valueUpdate: 'change', event: {change: function (){this.changes(this.changes()+1)}}",
                   "type": "checkbox"
                  },
                  "className": "switch ",
                  "id": "##403",
                  "style": {}
                 },
                 "type": "node"
                },
                {
                 "children": [
                  "polar"
                 ],
                 "instanceArgs": {
                  "namespace": "html",
                  "tag": "label"
                 },
                 "nodeType": "DOM",
                 "props": {
                  "attributes": {
                   "className": "",
                   "for": "##403"
                  }
                 },
                 "type": "node"
                }
               ],
               "instanceArgs": {
                "namespace": "html",
                "tag": "div"
               },
               "nodeType": "DOM",
               "props": {
                "className": "field interact-widget"
               },
               "type": "node"
              }
             ],
             "instanceArgs": {
              "handlers": {
               "changes": [
                "(function (val){return (val!=this.model[\"changes\"]()) ? (this.valueFromJulia[\"changes\"]=true, this.model[\"changes\"](val)) : undefined})"
               ],
               "value": [
                "(function (val){return (val!=this.model[\"value\"]()) ? (this.valueFromJulia[\"value\"]=true, this.model[\"value\"](val)) : undefined})"
               ]
              },
              "id": "4362986278218828489",
              "imports": {
               "data": [
                {
                 "name": "knockout",
                 "type": "js",
                 "url": "/assetserver/916302f6d5e8a06b15ad797fed7e4e15a53527fc-knockout.js"
                },
                {
                 "name": "knockout_punches",
                 "type": "js",
                 "url": "/assetserver/5e1c85d4bec9f031a297a6fa800fb73907cc8805-knockout_punches.js"
                },
                {
                 "name": null,
                 "type": "js",
                 "url": "/assetserver/4959abf7cfde8ccf4bc14da1bfe9aa1ce154b37f-all.js"
                },
                {
                 "name": null,
                 "type": "css",
                 "url": "/assetserver/ae5fba0ff44b12c8103fadacf9859ebdeb329277-style.css"
                },
                {
                 "name": null,
                 "type": "css",
                 "url": "/assetserver/490ef550dcc5a3350ddc70818a3ef106047c42da-bulma_confined.min.css"
                }
               ],
               "type": "async_block"
              },
              "mount_callbacks": [
               "function () {\n    var handler = (function (ko, koPunches) {\n    ko.punches.enableAll();\n    ko.bindingHandlers.numericValue = {\n        init: function(element, valueAccessor, allBindings, data, context) {\n            var stringified = ko.observable(ko.unwrap(valueAccessor()));\n            stringified.subscribe(function(value) {\n                var val = parseFloat(value);\n                if (!isNaN(val)) {\n                    valueAccessor()(val);\n                }\n            });\n            valueAccessor().subscribe(function(value) {\n                var str = JSON.stringify(value);\n                if ((str == \"0\") && ([\"-0\", \"-0.\"].indexOf(stringified()) >= 0))\n                     return;\n                 if ([\"null\", \"\"].indexOf(str) >= 0)\n                     return;\n                stringified(str);\n            });\n            ko.applyBindingsToNode(\n                element,\n                {\n                    value: stringified,\n                    valueUpdate: allBindings.get('valueUpdate'),\n                },\n                context,\n            );\n        }\n    };\n    var json_data = {\"changes\":WebIO.getval({\"name\":\"changes\",\"scope\":\"4362986278218828489\",\"id\":\"ob_05\",\"type\":\"observable\"}),\"value\":WebIO.getval({\"name\":\"value\",\"scope\":\"4362986278218828489\",\"id\":\"ob_04\",\"type\":\"observable\"})};\n    var self = this;\n    function AppViewModel() {\n        for (var key in json_data) {\n            var el = json_data[key];\n            this[key] = Array.isArray(el) ? ko.observableArray(el) : ko.observable(el);\n        }\n        \n        \n        [this[\"changes\"].subscribe((function (val){!(this.valueFromJulia[\"changes\"]) ? (WebIO.setval({\"name\":\"changes\",\"scope\":\"4362986278218828489\",\"id\":\"ob_05\",\"type\":\"observable\"},val)) : undefined; return this.valueFromJulia[\"changes\"]=false}),self),this[\"value\"].subscribe((function (val){!(this.valueFromJulia[\"value\"]) ? (WebIO.setval({\"name\":\"value\",\"scope\":\"4362986278218828489\",\"id\":\"ob_04\",\"type\":\"observable\"},val)) : undefined; return this.valueFromJulia[\"value\"]=false}),self)]\n        \n    }\n    self.model = new AppViewModel();\n    self.valueFromJulia = {};\n    for (var key in json_data) {\n        self.valueFromJulia[key] = false;\n    }\n    ko.applyBindings(self.model, self.dom);\n}\n);\n    (WebIO.importBlock({\"data\":[{\"name\":\"knockout\",\"type\":\"js\",\"url\":\"/assetserver/916302f6d5e8a06b15ad797fed7e4e15a53527fc-knockout.js\"},{\"name\":\"knockout_punches\",\"type\":\"js\",\"url\":\"/assetserver/5e1c85d4bec9f031a297a6fa800fb73907cc8805-knockout_punches.js\"}],\"type\":\"async_block\"})).then((imports) => handler.apply(this, imports));\n}\n"
              ],
              "observables": {
               "changes": {
                "id": "ob_05",
                "sync": false,
                "value": 0
               },
               "value": {
                "id": "ob_04",
                "sync": true,
                "value": true
               }
              },
              "systemjs_options": null
             },
             "nodeType": "Scope",
             "props": {},
             "type": "node"
            }
           ],
           "instanceArgs": {
            "namespace": "html",
            "tag": "div"
           },
           "nodeType": "DOM",
           "props": {
            "className": "field interact-widget"
           },
           "type": "node"
          }
         ],
         "instanceArgs": {
          "namespace": "html",
          "tag": "div"
         },
         "nodeType": "DOM",
         "props": {
          "className": "interact-flex-row interact-widget"
         },
         "type": "node"
        },
        {
         "children": [
          {
           "children": [
            {
             "children": [
              {
               "children": [
                {
                 "children": [],
                 "instanceArgs": {
                  "namespace": "html",
                  "tag": "input"
                 },
                 "nodeType": "DOM",
                 "props": {
                  "attributes": {
                   "data-bind": "checked: value, valueUpdate: 'change', event: {change: function (){this.changes(this.changes()+1)}}",
                   "type": "checkbox"
                  },
                  "className": "switch ",
                  "id": "##404",
                  "style": {}
                 },
                 "type": "node"
                },
                {
                 "children": [
                  "nt"
                 ],
                 "instanceArgs": {
                  "namespace": "html",
                  "tag": "label"
                 },
                 "nodeType": "DOM",
                 "props": {
                  "attributes": {
                   "className": "",
                   "for": "##404"
                  }
                 },
                 "type": "node"
                }
               ],
               "instanceArgs": {
                "namespace": "html",
                "tag": "div"
               },
               "nodeType": "DOM",
               "props": {
                "className": "field interact-widget"
               },
               "type": "node"
              }
             ],
             "instanceArgs": {
              "handlers": {
               "changes": [
                "(function (val){return (val!=this.model[\"changes\"]()) ? (this.valueFromJulia[\"changes\"]=true, this.model[\"changes\"](val)) : undefined})"
               ],
               "value": [
                "(function (val){return (val!=this.model[\"value\"]()) ? (this.valueFromJulia[\"value\"]=true, this.model[\"value\"](val)) : undefined})"
               ]
              },
              "id": "3300353413754703010",
              "imports": {
               "data": [
                {
                 "name": "knockout",
                 "type": "js",
                 "url": "/assetserver/916302f6d5e8a06b15ad797fed7e4e15a53527fc-knockout.js"
                },
                {
                 "name": "knockout_punches",
                 "type": "js",
                 "url": "/assetserver/5e1c85d4bec9f031a297a6fa800fb73907cc8805-knockout_punches.js"
                },
                {
                 "name": null,
                 "type": "js",
                 "url": "/assetserver/4959abf7cfde8ccf4bc14da1bfe9aa1ce154b37f-all.js"
                },
                {
                 "name": null,
                 "type": "css",
                 "url": "/assetserver/ae5fba0ff44b12c8103fadacf9859ebdeb329277-style.css"
                },
                {
                 "name": null,
                 "type": "css",
                 "url": "/assetserver/490ef550dcc5a3350ddc70818a3ef106047c42da-bulma_confined.min.css"
                }
               ],
               "type": "async_block"
              },
              "mount_callbacks": [
               "function () {\n    var handler = (function (ko, koPunches) {\n    ko.punches.enableAll();\n    ko.bindingHandlers.numericValue = {\n        init: function(element, valueAccessor, allBindings, data, context) {\n            var stringified = ko.observable(ko.unwrap(valueAccessor()));\n            stringified.subscribe(function(value) {\n                var val = parseFloat(value);\n                if (!isNaN(val)) {\n                    valueAccessor()(val);\n                }\n            });\n            valueAccessor().subscribe(function(value) {\n                var str = JSON.stringify(value);\n                if ((str == \"0\") && ([\"-0\", \"-0.\"].indexOf(stringified()) >= 0))\n                     return;\n                 if ([\"null\", \"\"].indexOf(str) >= 0)\n                     return;\n                stringified(str);\n            });\n            ko.applyBindingsToNode(\n                element,\n                {\n                    value: stringified,\n                    valueUpdate: allBindings.get('valueUpdate'),\n                },\n                context,\n            );\n        }\n    };\n    var json_data = {\"changes\":WebIO.getval({\"name\":\"changes\",\"scope\":\"3300353413754703010\",\"id\":\"ob_07\",\"type\":\"observable\"}),\"value\":WebIO.getval({\"name\":\"value\",\"scope\":\"3300353413754703010\",\"id\":\"ob_06\",\"type\":\"observable\"})};\n    var self = this;\n    function AppViewModel() {\n        for (var key in json_data) {\n            var el = json_data[key];\n            this[key] = Array.isArray(el) ? ko.observableArray(el) : ko.observable(el);\n        }\n        \n        \n        [this[\"changes\"].subscribe((function (val){!(this.valueFromJulia[\"changes\"]) ? (WebIO.setval({\"name\":\"changes\",\"scope\":\"3300353413754703010\",\"id\":\"ob_07\",\"type\":\"observable\"},val)) : undefined; return this.valueFromJulia[\"changes\"]=false}),self),this[\"value\"].subscribe((function (val){!(this.valueFromJulia[\"value\"]) ? (WebIO.setval({\"name\":\"value\",\"scope\":\"3300353413754703010\",\"id\":\"ob_06\",\"type\":\"observable\"},val)) : undefined; return this.valueFromJulia[\"value\"]=false}),self)]\n        \n    }\n    self.model = new AppViewModel();\n    self.valueFromJulia = {};\n    for (var key in json_data) {\n        self.valueFromJulia[key] = false;\n    }\n    ko.applyBindings(self.model, self.dom);\n}\n);\n    (WebIO.importBlock({\"data\":[{\"name\":\"knockout\",\"type\":\"js\",\"url\":\"/assetserver/916302f6d5e8a06b15ad797fed7e4e15a53527fc-knockout.js\"},{\"name\":\"knockout_punches\",\"type\":\"js\",\"url\":\"/assetserver/5e1c85d4bec9f031a297a6fa800fb73907cc8805-knockout_punches.js\"}],\"type\":\"async_block\"})).then((imports) => handler.apply(this, imports));\n}\n"
              ],
              "observables": {
               "changes": {
                "id": "ob_07",
                "sync": false,
                "value": 0
               },
               "value": {
                "id": "ob_06",
                "sync": true,
                "value": false
               }
              },
              "systemjs_options": null
             },
             "nodeType": "Scope",
             "props": {},
             "type": "node"
            }
           ],
           "instanceArgs": {
            "namespace": "html",
            "tag": "div"
           },
           "nodeType": "DOM",
           "props": {
            "className": "field interact-widget"
           },
           "type": "node"
          }
         ],
         "instanceArgs": {
          "namespace": "html",
          "tag": "div"
         },
         "nodeType": "DOM",
         "props": {
          "className": "interact-flex-row interact-widget"
         },
         "type": "node"
        },
        {
         "children": [
          {
           "children": [
            {
             "children": [
              {
               "children": [
                {
                 "children": [],
                 "instanceArgs": {
                  "namespace": "html",
                  "tag": "input"
                 },
                 "nodeType": "DOM",
                 "props": {
                  "attributes": {
                   "data-bind": "checked: value, valueUpdate: 'change', event: {change: function (){this.changes(this.changes()+1)}}",
                   "type": "checkbox"
                  },
                  "className": "switch ",
                  "id": "##405",
                  "style": {}
                 },
                 "type": "node"
                },
                {
                 "children": [
                  "circleOfRotation"
                 ],
                 "instanceArgs": {
                  "namespace": "html",
                  "tag": "label"
                 },
                 "nodeType": "DOM",
                 "props": {
                  "attributes": {
                   "className": "",
                   "for": "##405"
                  }
                 },
                 "type": "node"
                }
               ],
               "instanceArgs": {
                "namespace": "html",
                "tag": "div"
               },
               "nodeType": "DOM",
               "props": {
                "className": "field interact-widget"
               },
               "type": "node"
              }
             ],
             "instanceArgs": {
              "handlers": {
               "changes": [
                "(function (val){return (val!=this.model[\"changes\"]()) ? (this.valueFromJulia[\"changes\"]=true, this.model[\"changes\"](val)) : undefined})"
               ],
               "value": [
                "(function (val){return (val!=this.model[\"value\"]()) ? (this.valueFromJulia[\"value\"]=true, this.model[\"value\"](val)) : undefined})"
               ]
              },
              "id": "17299066999596822484",
              "imports": {
               "data": [
                {
                 "name": "knockout",
                 "type": "js",
                 "url": "/assetserver/916302f6d5e8a06b15ad797fed7e4e15a53527fc-knockout.js"
                },
                {
                 "name": "knockout_punches",
                 "type": "js",
                 "url": "/assetserver/5e1c85d4bec9f031a297a6fa800fb73907cc8805-knockout_punches.js"
                },
                {
                 "name": null,
                 "type": "js",
                 "url": "/assetserver/4959abf7cfde8ccf4bc14da1bfe9aa1ce154b37f-all.js"
                },
                {
                 "name": null,
                 "type": "css",
                 "url": "/assetserver/ae5fba0ff44b12c8103fadacf9859ebdeb329277-style.css"
                },
                {
                 "name": null,
                 "type": "css",
                 "url": "/assetserver/490ef550dcc5a3350ddc70818a3ef106047c42da-bulma_confined.min.css"
                }
               ],
               "type": "async_block"
              },
              "mount_callbacks": [
               "function () {\n    var handler = (function (ko, koPunches) {\n    ko.punches.enableAll();\n    ko.bindingHandlers.numericValue = {\n        init: function(element, valueAccessor, allBindings, data, context) {\n            var stringified = ko.observable(ko.unwrap(valueAccessor()));\n            stringified.subscribe(function(value) {\n                var val = parseFloat(value);\n                if (!isNaN(val)) {\n                    valueAccessor()(val);\n                }\n            });\n            valueAccessor().subscribe(function(value) {\n                var str = JSON.stringify(value);\n                if ((str == \"0\") && ([\"-0\", \"-0.\"].indexOf(stringified()) >= 0))\n                     return;\n                 if ([\"null\", \"\"].indexOf(str) >= 0)\n                     return;\n                stringified(str);\n            });\n            ko.applyBindingsToNode(\n                element,\n                {\n                    value: stringified,\n                    valueUpdate: allBindings.get('valueUpdate'),\n                },\n                context,\n            );\n        }\n    };\n    var json_data = {\"changes\":WebIO.getval({\"name\":\"changes\",\"scope\":\"17299066999596822484\",\"id\":\"ob_09\",\"type\":\"observable\"}),\"value\":WebIO.getval({\"name\":\"value\",\"scope\":\"17299066999596822484\",\"id\":\"ob_08\",\"type\":\"observable\"})};\n    var self = this;\n    function AppViewModel() {\n        for (var key in json_data) {\n            var el = json_data[key];\n            this[key] = Array.isArray(el) ? ko.observableArray(el) : ko.observable(el);\n        }\n        \n        \n        [this[\"changes\"].subscribe((function (val){!(this.valueFromJulia[\"changes\"]) ? (WebIO.setval({\"name\":\"changes\",\"scope\":\"17299066999596822484\",\"id\":\"ob_09\",\"type\":\"observable\"},val)) : undefined; return this.valueFromJulia[\"changes\"]=false}),self),this[\"value\"].subscribe((function (val){!(this.valueFromJulia[\"value\"]) ? (WebIO.setval({\"name\":\"value\",\"scope\":\"17299066999596822484\",\"id\":\"ob_08\",\"type\":\"observable\"},val)) : undefined; return this.valueFromJulia[\"value\"]=false}),self)]\n        \n    }\n    self.model = new AppViewModel();\n    self.valueFromJulia = {};\n    for (var key in json_data) {\n        self.valueFromJulia[key] = false;\n    }\n    ko.applyBindings(self.model, self.dom);\n}\n);\n    (WebIO.importBlock({\"data\":[{\"name\":\"knockout\",\"type\":\"js\",\"url\":\"/assetserver/916302f6d5e8a06b15ad797fed7e4e15a53527fc-knockout.js\"},{\"name\":\"knockout_punches\",\"type\":\"js\",\"url\":\"/assetserver/5e1c85d4bec9f031a297a6fa800fb73907cc8805-knockout_punches.js\"}],\"type\":\"async_block\"})).then((imports) => handler.apply(this, imports));\n}\n"
              ],
              "observables": {
               "changes": {
                "id": "ob_09",
                "sync": false,
                "value": 0
               },
               "value": {
                "id": "ob_08",
                "sync": true,
                "value": false
               }
              },
              "systemjs_options": null
             },
             "nodeType": "Scope",
             "props": {},
             "type": "node"
            }
           ],
           "instanceArgs": {
            "namespace": "html",
            "tag": "div"
           },
           "nodeType": "DOM",
           "props": {
            "className": "field interact-widget"
           },
           "type": "node"
          }
         ],
         "instanceArgs": {
          "namespace": "html",
          "tag": "div"
         },
         "nodeType": "DOM",
         "props": {
          "className": "interact-flex-row interact-widget"
         },
         "type": "node"
        },
        {
         "children": [
          {
           "children": [],
           "instanceArgs": {
            "id": "ob_15",
            "name": "obs-node"
           },
           "nodeType": "ObservableNode",
           "props": {},
           "type": "node"
          }
         ],
         "instanceArgs": {
          "handlers": {},
          "id": "12003496926804673118",
          "imports": {
           "data": [],
           "type": "async_block"
          },
          "mount_callbacks": [],
          "observables": {
           "obs-node": {
            "id": "ob_15",
            "sync": false,
            "value": {
             "children": [
              {
               "children": [],
               "instanceArgs": {
                "namespace": "html",
                "tag": "div"
               },
               "nodeType": "DOM",
               "props": {
                "setInnerHtml": "<?xml version=\"1.0\" encoding=\"utf-8\"?>\n<svg xmlns=\"http://www.w3.org/2000/svg\" xmlns:xlink=\"http://www.w3.org/1999/xlink\" width=\"600\" height=\"400\" viewBox=\"0 0 2400 1600\">\n<defs>\n  <clipPath id=\"clip8000\">\n    <rect x=\"0\" y=\"0\" width=\"2400\" height=\"1600\"/>\n  </clipPath>\n</defs>\n<path clip-path=\"url(#clip8000)\" d=\"\nM0 1600 L2400 1600 L2400 0 L0 0  Z\n  \" fill=\"#ffffff\" fill-rule=\"evenodd\" fill-opacity=\"1\"/>\n<defs>\n  <clipPath id=\"clip8001\">\n    <rect x=\"480\" y=\"0\" width=\"1681\" height=\"1600\"/>\n  </clipPath>\n</defs>\n<path clip-path=\"url(#clip8000)\" d=\"\nM628.398 1425.62 L1928.08 1425.62 L1928.08 47.2441 L628.398 47.2441  Z\n  \" fill=\"#ffffff\" fill-rule=\"evenodd\" fill-opacity=\"1\"/>\n<defs>\n  <clipPath id=\"clip8002\">\n    <rect x=\"628\" y=\"47\" width=\"1301\" height=\"1379\"/>\n  </clipPath>\n</defs>\n<polyline clip-path=\"url(#clip8002)\" style=\"stroke:#000000; stroke-width:2; stroke-opacity:0.1; fill:none\" points=\"\n  726.487,1425.62 726.487,47.2441 \n  \"/>\n<polyline clip-path=\"url(#clip8002)\" style=\"stroke:#000000; stroke-width:2; stroke-opacity:0.1; fill:none\" points=\"\n  971.71,1425.62 971.71,47.2441 \n  \"/>\n<polyline clip-path=\"url(#clip8002)\" style=\"stroke:#000000; stroke-width:2; stroke-opacity:0.1; fill:none\" points=\"\n  1216.93,1425.62 1216.93,47.2441 \n  \"/>\n<polyline clip-path=\"url(#clip8002)\" style=\"stroke:#000000; stroke-width:2; stroke-opacity:0.1; fill:none\" points=\"\n  1462.16,1425.62 1462.16,47.2441 \n  \"/>\n<polyline clip-path=\"url(#clip8002)\" style=\"stroke:#000000; stroke-width:2; stroke-opacity:0.1; fill:none\" points=\"\n  1707.38,1425.62 1707.38,47.2441 \n  \"/>\n<polyline clip-path=\"url(#clip8002)\" style=\"stroke:#000000; stroke-width:2; stroke-opacity:0.1; fill:none\" points=\"\n  628.398,1226.88 1928.08,1226.88 \n  \"/>\n<polyline clip-path=\"url(#clip8002)\" style=\"stroke:#000000; stroke-width:2; stroke-opacity:0.1; fill:none\" points=\"\n  628.398,981.654 1928.08,981.654 \n  \"/>\n<polyline clip-path=\"url(#clip8002)\" style=\"stroke:#000000; stroke-width:2; stroke-opacity:0.1; fill:none\" points=\"\n  628.398,736.431 1928.08,736.431 \n  \"/>\n<polyline clip-path=\"url(#clip8002)\" style=\"stroke:#000000; stroke-width:2; stroke-opacity:0.1; fill:none\" points=\"\n  628.398,491.208 1928.08,491.208 \n  \"/>\n<polyline clip-path=\"url(#clip8002)\" style=\"stroke:#000000; stroke-width:2; stroke-opacity:0.1; fill:none\" points=\"\n  628.398,245.986 1928.08,245.986 \n  \"/>\n<polyline clip-path=\"url(#clip8000)\" style=\"stroke:#000000; stroke-width:4; stroke-opacity:1; fill:none\" points=\"\n  628.398,1425.62 1928.08,1425.62 \n  \"/>\n<polyline clip-path=\"url(#clip8000)\" style=\"stroke:#000000; stroke-width:4; stroke-opacity:1; fill:none\" points=\"\n  628.398,1425.62 628.398,47.2441 \n  \"/>\n<polyline clip-path=\"url(#clip8000)\" style=\"stroke:#000000; stroke-width:4; stroke-opacity:1; fill:none\" points=\"\n  726.487,1425.62 726.487,1409.08 \n  \"/>\n<polyline clip-path=\"url(#clip8000)\" style=\"stroke:#000000; stroke-width:4; stroke-opacity:1; fill:none\" points=\"\n  971.71,1425.62 971.71,1409.08 \n  \"/>\n<polyline clip-path=\"url(#clip8000)\" style=\"stroke:#000000; stroke-width:4; stroke-opacity:1; fill:none\" points=\"\n  1216.93,1425.62 1216.93,1409.08 \n  \"/>\n<polyline clip-path=\"url(#clip8000)\" style=\"stroke:#000000; stroke-width:4; stroke-opacity:1; fill:none\" points=\"\n  1462.16,1425.62 1462.16,1409.08 \n  \"/>\n<polyline clip-path=\"url(#clip8000)\" style=\"stroke:#000000; stroke-width:4; stroke-opacity:1; fill:none\" points=\"\n  1707.38,1425.62 1707.38,1409.08 \n  \"/>\n<polyline clip-path=\"url(#clip8000)\" style=\"stroke:#000000; stroke-width:4; stroke-opacity:1; fill:none\" points=\"\n  628.398,1226.88 643.994,1226.88 \n  \"/>\n<polyline clip-path=\"url(#clip8000)\" style=\"stroke:#000000; stroke-width:4; stroke-opacity:1; fill:none\" points=\"\n  628.398,981.654 643.994,981.654 \n  \"/>\n<polyline clip-path=\"url(#clip8000)\" style=\"stroke:#000000; stroke-width:4; stroke-opacity:1; fill:none\" points=\"\n  628.398,736.431 643.994,736.431 \n  \"/>\n<polyline clip-path=\"url(#clip8000)\" style=\"stroke:#000000; stroke-width:4; stroke-opacity:1; fill:none\" points=\"\n  628.398,491.208 643.994,491.208 \n  \"/>\n<polyline clip-path=\"url(#clip8000)\" style=\"stroke:#000000; stroke-width:4; stroke-opacity:1; fill:none\" points=\"\n  628.398,245.986 643.994,245.986 \n  \"/>\n<g clip-path=\"url(#clip8000)\">\n<text style=\"fill:#000000; fill-opacity:1; font-family:Arial,Helvetica Neue,Helvetica,sans-serif; font-size:48px; text-anchor:middle;\" transform=\"rotate(0, 726.487, 1479.62)\" x=\"726.487\" y=\"1479.62\">-6</text>\n</g>\n<g clip-path=\"url(#clip8000)\">\n<text style=\"fill:#000000; fill-opacity:1; font-family:Arial,Helvetica Neue,Helvetica,sans-serif; font-size:48px; text-anchor:middle;\" transform=\"rotate(0, 971.71, 1479.62)\" x=\"971.71\" y=\"1479.62\">-4</text>\n</g>\n<g clip-path=\"url(#clip8000)\">\n<text style=\"fill:#000000; fill-opacity:1; font-family:Arial,Helvetica Neue,Helvetica,sans-serif; font-size:48px; text-anchor:middle;\" transform=\"rotate(0, 1216.93, 1479.62)\" x=\"1216.93\" y=\"1479.62\">-2</text>\n</g>\n<g clip-path=\"url(#clip8000)\">\n<text style=\"fill:#000000; fill-opacity:1; font-family:Arial,Helvetica Neue,Helvetica,sans-serif; font-size:48px; text-anchor:middle;\" transform=\"rotate(0, 1462.16, 1479.62)\" x=\"1462.16\" y=\"1479.62\">0</text>\n</g>\n<g clip-path=\"url(#clip8000)\">\n<text style=\"fill:#000000; fill-opacity:1; font-family:Arial,Helvetica Neue,Helvetica,sans-serif; font-size:48px; text-anchor:middle;\" transform=\"rotate(0, 1707.38, 1479.62)\" x=\"1707.38\" y=\"1479.62\">2</text>\n</g>\n<g clip-path=\"url(#clip8000)\">\n<text style=\"fill:#000000; fill-opacity:1; font-family:Arial,Helvetica Neue,Helvetica,sans-serif; font-size:48px; text-anchor:end;\" transform=\"rotate(0, 604.398, 1244.38)\" x=\"604.398\" y=\"1244.38\">-4</text>\n</g>\n<g clip-path=\"url(#clip8000)\">\n<text style=\"fill:#000000; fill-opacity:1; font-family:Arial,Helvetica Neue,Helvetica,sans-serif; font-size:48px; text-anchor:end;\" transform=\"rotate(0, 604.398, 999.154)\" x=\"604.398\" y=\"999.154\">-2</text>\n</g>\n<g clip-path=\"url(#clip8000)\">\n<text style=\"fill:#000000; fill-opacity:1; font-family:Arial,Helvetica Neue,Helvetica,sans-serif; font-size:48px; text-anchor:end;\" transform=\"rotate(0, 604.398, 753.931)\" x=\"604.398\" y=\"753.931\">0</text>\n</g>\n<g clip-path=\"url(#clip8000)\">\n<text style=\"fill:#000000; fill-opacity:1; font-family:Arial,Helvetica Neue,Helvetica,sans-serif; font-size:48px; text-anchor:end;\" transform=\"rotate(0, 604.398, 508.708)\" x=\"604.398\" y=\"508.708\">2</text>\n</g>\n<g clip-path=\"url(#clip8000)\">\n<text style=\"fill:#000000; fill-opacity:1; font-family:Arial,Helvetica Neue,Helvetica,sans-serif; font-size:48px; text-anchor:end;\" transform=\"rotate(0, 604.398, 263.486)\" x=\"604.398\" y=\"263.486\">4</text>\n</g>\n<g clip-path=\"url(#clip8000)\">\n<text style=\"fill:#000000; fill-opacity:1; font-family:Arial,Helvetica Neue,Helvetica,sans-serif; font-size:66px; text-anchor:middle;\" transform=\"rotate(0, 1278.24, 1559.48)\" x=\"1278.24\" y=\"1559.48\">x</text>\n</g>\n<g clip-path=\"url(#clip8000)\">\n<text style=\"fill:#000000; fill-opacity:1; font-family:Arial,Helvetica Neue,Helvetica,sans-serif; font-size:66px; text-anchor:middle;\" transform=\"rotate(-90, 513.963, 736.431)\" x=\"513.963\" y=\"736.431\">y</text>\n</g>\n<polyline clip-path=\"url(#clip8002)\" style=\"stroke:#377eb8; stroke-width:12; stroke-opacity:1; fill:none\" points=\"\n  1646.07,736.431 1646.07,730.622 1646.07,724.802 1646.07,718.959 1646.06,713.081 1646.04,707.157 1646.01,701.178 1645.96,695.132 1645.89,689.01 1645.78,682.801 \n  1645.62,676.499 1645.42,670.093 1645.15,663.578 1644.8,656.947 1644.37,650.194 1643.84,643.314 1643.2,636.303 1642.44,629.16 1641.53,621.882 1640.47,614.469 \n  1639.23,606.921 1637.82,599.24 1636.2,591.429 1634.37,583.493 1632.3,575.436 1629.99,567.264 1627.42,558.987 1624.57,550.612 1621.44,542.15 1618,533.612 \n  1614.24,525.011 1610.15,516.36 1605.71,507.674 1600.93,498.968 1595.77,490.259 1590.25,481.565 1584.34,472.905 1578.04,464.297 1571.34,455.763 1564.23,447.322 \n  1556.73,438.997 1548.81,430.81 1540.47,422.783 1531.73,414.94 1522.57,407.303 1513.01,399.897 1503.04,392.745 1492.67,385.872 1481.91,379.3 1470.76,373.054 \n  1459.24,367.157 1447.36,361.632 1435.12,356.503 1422.55,351.791 1409.65,347.519 1396.45,343.708 1382.97,340.377 1369.22,337.547 1355.22,335.236 1341,333.462 \n  1326.58,332.241 1311.98,331.589 1297.24,331.519 1282.37,332.045 1267.4,333.179 1252.36,334.93 1237.29,337.306 1222.2,340.316 1207.14,343.964 1192.12,348.255 \n  1177.19,353.19 1162.37,358.771 1147.7,364.995 1133.2,371.861 1118.91,379.364 1104.86,387.498 1091.08,396.254 1077.6,405.624 1064.46,415.595 1051.68,426.154 \n  1039.29,437.287 1027.32,448.978 1015.8,461.208 1004.76,473.958 994.224,487.207 984.214,500.932 974.756,515.11 965.873,529.716 957.587,544.723 949.918,560.104 \n  942.884,575.83 936.503,591.871 930.791,608.196 925.762,624.775 921.427,641.575 917.798,658.563 914.885,675.706 912.693,692.969 911.229,710.32 910.496,727.722 \n  910.496,745.141 911.229,762.543 912.693,779.893 914.885,797.157 917.798,814.299 921.427,831.287 925.762,848.087 930.791,864.666 936.503,880.992 942.884,897.033 \n  949.918,912.759 957.587,928.139 965.873,943.146 974.756,957.752 984.214,971.931 994.224,985.656 1004.76,998.905 1015.8,1011.66 1027.32,1023.89 1039.29,1035.58 \n  1051.68,1046.71 1064.46,1057.27 1077.6,1067.24 1091.08,1076.61 1104.86,1085.36 1118.91,1093.5 1133.2,1101 1147.7,1107.87 1162.37,1114.09 1177.19,1119.67 \n  1192.12,1124.61 1207.14,1128.9 1222.2,1132.55 1237.29,1135.56 1252.36,1137.93 1267.4,1139.68 1282.37,1140.82 1297.24,1141.34 1311.98,1141.27 1326.58,1140.62 \n  1341,1139.4 1355.22,1137.63 1369.22,1135.32 1382.97,1132.49 1396.45,1129.15 1409.65,1125.34 1422.55,1121.07 1435.12,1116.36 1447.36,1111.23 1459.24,1105.71 \n  1470.76,1099.81 1481.91,1093.56 1492.67,1086.99 1503.04,1080.12 1513.01,1072.97 1522.57,1065.56 1531.73,1057.92 1540.47,1050.08 1548.81,1042.05 1556.73,1033.87 \n  1564.23,1025.54 1571.34,1017.1 1578.04,1008.57 1584.34,999.958 1590.25,991.298 1595.77,982.604 1600.93,973.895 1605.71,965.189 1610.15,956.503 1614.24,947.852 \n  1618,939.25 1621.44,930.712 1624.57,922.25 1627.42,913.876 1629.99,905.598 1632.3,897.427 1634.37,889.37 1636.2,881.433 1637.82,873.623 1639.23,865.942 \n  1640.47,858.394 1641.53,850.981 1642.44,843.703 1643.2,836.559 1643.84,829.549 1644.37,822.669 1644.8,815.916 1645.15,809.284 1645.42,802.769 1645.62,796.364 \n  1645.78,790.061 1645.89,783.853 1645.96,777.731 1646.01,771.685 1646.04,765.705 1646.06,759.782 1646.07,753.904 1646.07,748.061 1646.07,742.24 1646.07,736.431 \n  \n  \"/>\n<polyline clip-path=\"url(#clip8002)\" style=\"stroke:#999999; stroke-width:4; stroke-opacity:1; fill:none\" points=\"\n  1462.16,736.431 1891.3,736.431 \n  \"/>\n<polyline clip-path=\"url(#clip8002)\" style=\"stroke:#999999; stroke-width:4; stroke-opacity:1; fill:none\" points=\"\n  1498.94,736.431 1498.93,735.851 1498.92,735.27 1498.9,734.69 1498.87,734.11 1498.82,733.531 1498.77,732.952 1498.71,732.375 1498.65,731.798 1498.57,731.223 \n  1498.48,730.648 1498.39,730.076 1498.28,729.505 1498.17,728.935 1498.04,728.368 1497.91,727.802 1497.77,727.239 1497.62,726.678 1497.46,726.119 1497.3,725.563 \n  1497.12,725.009 1496.94,724.459 1496.74,723.911 1496.54,723.367 1496.33,722.826 1496.11,722.288 1495.88,721.754 1495.65,721.223 1495.4,720.696 1495.15,720.173 \n  1494.89,719.654 1494.62,719.14 1494.34,718.629 1494.06,718.124 1493.77,717.622 1493.47,717.125 1493.16,716.634 1492.84,716.147 1492.52,715.665 1492.18,715.188 \n  1491.85,714.717 1491.5,714.251 1491.15,713.79 1490.78,713.335 1490.42,712.886 1490.04,712.443 1489.66,712.006 1489.27,711.575 1488.87,711.15 1488.47,710.731 \n  1488.06,710.319 1487.65,709.913 1487.23,709.514 1486.8,709.122 1486.36,708.736 1485.92,708.358 1485.48,707.986 1485.02,707.621 1484.57,707.264 1484.1,706.914 \n  1483.64,706.571 1483.16,706.236 1482.68,705.908 1482.2,705.587 1481.71,705.275 1481.21,704.97 1480.71,704.673 1480.21,704.384 1479.7,704.103 1479.19,703.83 \n  1478.67,703.565 1478.15,703.309 1477.63,703.06 1477.1,702.82 1476.57,702.588 1476.03,702.365 1475.49,702.15 1474.95,701.944 1474.4,701.746 1473.85,701.557 \n  1473.3,701.377 1472.75,701.206 1472.19,701.043 1471.63,700.889 1471.07,700.744 1470.5,700.607 1469.94,700.48 1469.37,700.362 1468.8,700.252 1468.22,700.152 \n  1467.65,700.061 1467.08,699.979 1466.5,699.905 1465.92,699.841 1465.35,699.786 1464.77,699.741 1464.19,699.704 1463.61,699.677 1463.03,699.658 1462.45,699.649 \n  1461.87,699.649 1461.28,699.658 1460.7,699.677 1460.12,699.704 1459.54,699.741 1458.97,699.786 1458.39,699.841 1457.81,699.905 1457.23,699.979 1456.66,700.061 \n  1456.09,700.152 1455.51,700.252 1454.94,700.362 1454.38,700.48 1453.81,700.607 1453.24,700.744 1452.68,700.889 1452.12,701.043 1451.56,701.206 1451.01,701.377 \n  1450.46,701.557 1449.91,701.746 1449.36,701.944 1448.82,702.15 1448.28,702.365 1447.74,702.588 1447.21,702.82 1446.68,703.06 1446.16,703.309 1445.64,703.565 \n  1445.12,703.83 1444.61,704.103 1444.1,704.384 1443.6,704.673 1443.1,704.97 1442.6,705.275 1442.11,705.587 1441.63,705.908 1441.15,706.236 1440.68,706.571 \n  1440.21,706.914 1439.74,707.264 1439.29,707.621 1438.83,707.986 1438.39,708.358 1437.95,708.736 1437.51,709.122 1437.09,709.514 1436.66,709.913 1436.25,710.319 \n  1435.84,710.731 1435.44,711.15 1435.04,711.575 1434.65,712.006 1434.27,712.443 1433.89,712.886 1433.53,713.335 1433.17,713.79 1432.81,714.251 1432.47,714.717 \n  1432.13,715.188 1431.79,715.665 1431.47,716.147 1431.15,716.634 1430.85,717.125 1430.54,717.622 1430.25,718.124 1429.97,718.629 1429.69,719.14 1429.42,719.654 \n  1429.16,720.173 1428.91,720.696 1428.66,721.223 1428.43,721.754 1428.2,722.288 1427.98,722.826 1427.77,723.367 1427.57,723.911 1427.37,724.459 1427.19,725.009 \n  1427.01,725.563 1426.85,726.119 1426.69,726.678 1426.54,727.239 1426.4,727.802 1426.27,728.368 1426.14,728.935 1426.03,729.505 1425.93,730.076 1425.83,730.648 \n  1425.74,731.223 1425.66,731.798 1425.6,732.375 1425.54,732.952 1425.49,733.531 1425.45,734.11 1425.41,734.69 1425.39,735.27 1425.38,735.851 1425.37,736.431 \n  \n  \"/>\n<polyline clip-path=\"url(#clip8002)\" style=\"stroke:#984ea3; stroke-width:12; stroke-opacity:1; fill:none\" points=\"\n  1462.16,736.431 910.404,736.431 \n  \"/>\n<polyline clip-path=\"url(#clip8002)\" style=\"stroke:#e41a1c; stroke-width:12; stroke-opacity:1; fill:none\" points=\"\n  910.404,736.431 787.792,736.431 \n  \"/>\n<polyline clip-path=\"url(#clip8002)\" style=\"stroke:#e41a1c; stroke-width:12; stroke-opacity:1; fill:none\" points=\"\n  823.792,754.431 787.792,736.431 823.792,718.431 \n  \"/>\n<polyline clip-path=\"url(#clip8002)\" style=\"stroke:#e41a1c; stroke-width:12; stroke-opacity:1; fill:none\" points=\"\n  787.792,736.431 910.404,736.431 \n  \"/>\n<polyline clip-path=\"url(#clip8002)\" style=\"stroke:#e41a1c; stroke-width:12; stroke-opacity:1; fill:none\" points=\"\n  910.404,736.431 910.404,859.043 \n  \"/>\n<polyline clip-path=\"url(#clip8002)\" style=\"stroke:#e41a1c; stroke-width:12; stroke-opacity:1; fill:none\" points=\"\n  928.404,823.043 910.404,859.043 892.404,823.043 \n  \"/>\n<polyline clip-path=\"url(#clip8002)\" style=\"stroke:#e41a1c; stroke-width:12; stroke-opacity:1; fill:none\" points=\"\n  910.404,859.043 910.404,736.431 \n  \"/>\n</svg>\n"
               },
               "type": "node"
              }
             ],
             "instanceArgs": {
              "namespace": "html",
              "tag": "div"
             },
             "nodeType": "DOM",
             "props": {
              "className": "interact-flex-row interact-widget"
             },
             "type": "node"
            }
           }
          },
          "systemjs_options": null
         },
         "nodeType": "Scope",
         "props": {},
         "type": "node"
        }
       ],
       "instanceArgs": {
        "namespace": "html",
        "tag": "div"
       },
       "nodeType": "DOM",
       "props": {},
       "type": "node"
      },
      "text/html": [
       "<div\n",
       "    class=\"webio-mountpoint\"\n",
       "    data-webio-mountpoint=\"1373618312719967290\"\n",
       ">\n",
       "    <script>\n",
       "    if (window.require && require.defined && require.defined(\"nbextensions/webio-jupyter-notebook\")) {\n",
       "        console.log(\"Jupyter WebIO extension detected, not mounting.\");\n",
       "    } else if (window.WebIO) {\n",
       "        WebIO.mount(\n",
       "            document.querySelector('[data-webio-mountpoint=\"1373618312719967290\"]'),\n",
       "            {\"props\":{},\"nodeType\":\"DOM\",\"type\":\"node\",\"instanceArgs\":{\"namespace\":\"html\",\"tag\":\"div\"},\"children\":[{\"props\":{\"className\":\"field interact-widget\"},\"nodeType\":\"DOM\",\"type\":\"node\",\"instanceArgs\":{\"namespace\":\"html\",\"tag\":\"div\"},\"children\":[{\"props\":{},\"nodeType\":\"Scope\",\"type\":\"node\",\"instanceArgs\":{\"imports\":{\"data\":[{\"name\":\"knockout\",\"type\":\"js\",\"url\":\"\\/assetserver\\/916302f6d5e8a06b15ad797fed7e4e15a53527fc-knockout.js\"},{\"name\":\"knockout_punches\",\"type\":\"js\",\"url\":\"\\/assetserver\\/5e1c85d4bec9f031a297a6fa800fb73907cc8805-knockout_punches.js\"},{\"name\":null,\"type\":\"js\",\"url\":\"\\/assetserver\\/4959abf7cfde8ccf4bc14da1bfe9aa1ce154b37f-all.js\"},{\"name\":null,\"type\":\"css\",\"url\":\"\\/assetserver\\/ae5fba0ff44b12c8103fadacf9859ebdeb329277-style.css\"},{\"name\":null,\"type\":\"css\",\"url\":\"\\/assetserver\\/490ef550dcc5a3350ddc70818a3ef106047c42da-bulma_confined.min.css\"}],\"type\":\"async_block\"},\"id\":\"10160039717019571389\",\"handlers\":{\"changes\":[\"(function (val){return (val!=this.model[\\\"changes\\\"]()) ? (this.valueFromJulia[\\\"changes\\\"]=true, this.model[\\\"changes\\\"](val)) : undefined})\"],\"index\":[\"(function (val){return (val!=this.model[\\\"index\\\"]()) ? (this.valueFromJulia[\\\"index\\\"]=true, this.model[\\\"index\\\"](val)) : undefined})\"]},\"systemjs_options\":null,\"mount_callbacks\":[\"function () {\\n    var handler = (function (ko, koPunches) {\\n    ko.punches.enableAll();\\n    ko.bindingHandlers.numericValue = {\\n        init: function(element, valueAccessor, allBindings, data, context) {\\n            var stringified = ko.observable(ko.unwrap(valueAccessor()));\\n            stringified.subscribe(function(value) {\\n                var val = parseFloat(value);\\n                if (!isNaN(val)) {\\n                    valueAccessor()(val);\\n                }\\n            });\\n            valueAccessor().subscribe(function(value) {\\n                var str = JSON.stringify(value);\\n                if ((str == \\\"0\\\") && ([\\\"-0\\\", \\\"-0.\\\"].indexOf(stringified()) >= 0))\\n                     return;\\n                 if ([\\\"null\\\", \\\"\\\"].indexOf(str) >= 0)\\n                     return;\\n                stringified(str);\\n            });\\n            ko.applyBindingsToNode(\\n                element,\\n                {\\n                    value: stringified,\\n                    valueUpdate: allBindings.get('valueUpdate'),\\n                },\\n                context,\\n            );\\n        }\\n    };\\n    var json_data = {\\\"formatted_vals\\\":[\\\"0\\\",\\\"5\\\",\\\"10\\\",\\\"15\\\",\\\"20\\\",\\\"25\\\",\\\"30\\\",\\\"35\\\",\\\"40\\\",\\\"45\\\",\\\"50\\\",\\\"55\\\",\\\"60\\\",\\\"65\\\",\\\"70\\\",\\\"75\\\",\\\"80\\\",\\\"85\\\",\\\"90\\\",\\\"95\\\",\\\"100\\\",\\\"105\\\",\\\"110\\\",\\\"115\\\",\\\"120\\\",\\\"125\\\",\\\"130\\\",\\\"135\\\",\\\"140\\\",\\\"145\\\",\\\"150\\\",\\\"155\\\",\\\"160\\\",\\\"165\\\",\\\"170\\\",\\\"175\\\",\\\"180\\\",\\\"185\\\",\\\"190\\\",\\\"195\\\",\\\"200\\\",\\\"205\\\",\\\"210\\\",\\\"215\\\",\\\"220\\\",\\\"225\\\",\\\"230\\\",\\\"235\\\",\\\"240\\\",\\\"245\\\",\\\"250\\\",\\\"255\\\",\\\"260\\\",\\\"265\\\",\\\"270\\\",\\\"275\\\",\\\"280\\\",\\\"285\\\",\\\"290\\\",\\\"295\\\",\\\"300\\\",\\\"305\\\",\\\"310\\\",\\\"315\\\",\\\"320\\\",\\\"325\\\",\\\"330\\\",\\\"335\\\",\\\"340\\\",\\\"345\\\",\\\"350\\\",\\\"355\\\",\\\"360\\\"],\\\"changes\\\":WebIO.getval({\\\"name\\\":\\\"changes\\\",\\\"scope\\\":\\\"10160039717019571389\\\",\\\"id\\\":\\\"ob_03\\\",\\\"type\\\":\\\"observable\\\"}),\\\"index\\\":WebIO.getval({\\\"name\\\":\\\"index\\\",\\\"scope\\\":\\\"10160039717019571389\\\",\\\"id\\\":\\\"ob_02\\\",\\\"type\\\":\\\"observable\\\"})};\\n    var self = this;\\n    function AppViewModel() {\\n        for (var key in json_data) {\\n            var el = json_data[key];\\n            this[key] = Array.isArray(el) ? ko.observableArray(el) : ko.observable(el);\\n        }\\n        \\n        [this[\\\"formatted_val\\\"]=ko.computed(    function(){\\n        return this.formatted_vals()[parseInt(this.index())-(1)];\\n    }\\n,this)]\\n        [this[\\\"changes\\\"].subscribe((function (val){!(this.valueFromJulia[\\\"changes\\\"]) ? (WebIO.setval({\\\"name\\\":\\\"changes\\\",\\\"scope\\\":\\\"10160039717019571389\\\",\\\"id\\\":\\\"ob_03\\\",\\\"type\\\":\\\"observable\\\"},val)) : undefined; return this.valueFromJulia[\\\"changes\\\"]=false}),self),this[\\\"index\\\"].subscribe((function (val){!(this.valueFromJulia[\\\"index\\\"]) ? (WebIO.setval({\\\"name\\\":\\\"index\\\",\\\"scope\\\":\\\"10160039717019571389\\\",\\\"id\\\":\\\"ob_02\\\",\\\"type\\\":\\\"observable\\\"},val)) : undefined; return this.valueFromJulia[\\\"index\\\"]=false}),self)]\\n        \\n    }\\n    self.model = new AppViewModel();\\n    self.valueFromJulia = {};\\n    for (var key in json_data) {\\n        self.valueFromJulia[key] = false;\\n    }\\n    ko.applyBindings(self.model, self.dom);\\n}\\n);\\n    (WebIO.importBlock({\\\"data\\\":[{\\\"name\\\":\\\"knockout\\\",\\\"type\\\":\\\"js\\\",\\\"url\\\":\\\"\\/assetserver\\/916302f6d5e8a06b15ad797fed7e4e15a53527fc-knockout.js\\\"},{\\\"name\\\":\\\"knockout_punches\\\",\\\"type\\\":\\\"js\\\",\\\"url\\\":\\\"\\/assetserver\\/5e1c85d4bec9f031a297a6fa800fb73907cc8805-knockout_punches.js\\\"}],\\\"type\\\":\\\"async_block\\\"})).then((imports) => handler.apply(this, imports));\\n}\\n\"],\"observables\":{\"changes\":{\"sync\":false,\"id\":\"ob_03\",\"value\":0},\"index\":{\"sync\":true,\"id\":\"ob_02\",\"value\":37}}},\"children\":[{\"props\":{\"className\":\"interact-flex-row interact-widget\"},\"nodeType\":\"DOM\",\"type\":\"node\",\"instanceArgs\":{\"namespace\":\"html\",\"tag\":\"div\"},\"children\":[{\"props\":{\"className\":\"interact-flex-row-left\"},\"nodeType\":\"DOM\",\"type\":\"node\",\"instanceArgs\":{\"namespace\":\"html\",\"tag\":\"div\"},\"children\":[{\"props\":{\"className\":\"interact \",\"style\":{\"padding\":\"5px 10px 0px 10px\"}},\"nodeType\":\"DOM\",\"type\":\"node\",\"instanceArgs\":{\"namespace\":\"html\",\"tag\":\"label\"},\"children\":[\"ϕ\"]}]},{\"props\":{\"className\":\"interact-flex-row-center\"},\"nodeType\":\"DOM\",\"type\":\"node\",\"instanceArgs\":{\"namespace\":\"html\",\"tag\":\"div\"},\"children\":[{\"props\":{\"max\":73,\"min\":1,\"attributes\":{\"type\":\"range\",\"data-bind\":\"numericValue: index, valueUpdate: 'input', event: {change: function (){this.changes(this.changes()+1)}}\",\"orient\":\"horizontal\"},\"step\":1,\"className\":\"slider slider is-fullwidth\",\"style\":{}},\"nodeType\":\"DOM\",\"type\":\"node\",\"instanceArgs\":{\"namespace\":\"html\",\"tag\":\"input\"},\"children\":[]}]},{\"props\":{\"className\":\"interact-flex-row-right\"},\"nodeType\":\"DOM\",\"type\":\"node\",\"instanceArgs\":{\"namespace\":\"html\",\"tag\":\"div\"},\"children\":[{\"props\":{\"attributes\":{\"data-bind\":\"text: formatted_val\"}},\"nodeType\":\"DOM\",\"type\":\"node\",\"instanceArgs\":{\"namespace\":\"html\",\"tag\":\"p\"},\"children\":[]}]}]}]}]},{\"props\":{\"className\":\"interact-flex-row interact-widget\"},\"nodeType\":\"DOM\",\"type\":\"node\",\"instanceArgs\":{\"namespace\":\"html\",\"tag\":\"div\"},\"children\":[{\"props\":{\"className\":\"field interact-widget\"},\"nodeType\":\"DOM\",\"type\":\"node\",\"instanceArgs\":{\"namespace\":\"html\",\"tag\":\"div\"},\"children\":[{\"props\":{},\"nodeType\":\"Scope\",\"type\":\"node\",\"instanceArgs\":{\"imports\":{\"data\":[{\"name\":\"knockout\",\"type\":\"js\",\"url\":\"\\/assetserver\\/916302f6d5e8a06b15ad797fed7e4e15a53527fc-knockout.js\"},{\"name\":\"knockout_punches\",\"type\":\"js\",\"url\":\"\\/assetserver\\/5e1c85d4bec9f031a297a6fa800fb73907cc8805-knockout_punches.js\"},{\"name\":null,\"type\":\"js\",\"url\":\"\\/assetserver\\/4959abf7cfde8ccf4bc14da1bfe9aa1ce154b37f-all.js\"},{\"name\":null,\"type\":\"css\",\"url\":\"\\/assetserver\\/ae5fba0ff44b12c8103fadacf9859ebdeb329277-style.css\"},{\"name\":null,\"type\":\"css\",\"url\":\"\\/assetserver\\/490ef550dcc5a3350ddc70818a3ef106047c42da-bulma_confined.min.css\"}],\"type\":\"async_block\"},\"id\":\"4362986278218828489\",\"handlers\":{\"changes\":[\"(function (val){return (val!=this.model[\\\"changes\\\"]()) ? (this.valueFromJulia[\\\"changes\\\"]=true, this.model[\\\"changes\\\"](val)) : undefined})\"],\"value\":[\"(function (val){return (val!=this.model[\\\"value\\\"]()) ? (this.valueFromJulia[\\\"value\\\"]=true, this.model[\\\"value\\\"](val)) : undefined})\"]},\"systemjs_options\":null,\"mount_callbacks\":[\"function () {\\n    var handler = (function (ko, koPunches) {\\n    ko.punches.enableAll();\\n    ko.bindingHandlers.numericValue = {\\n        init: function(element, valueAccessor, allBindings, data, context) {\\n            var stringified = ko.observable(ko.unwrap(valueAccessor()));\\n            stringified.subscribe(function(value) {\\n                var val = parseFloat(value);\\n                if (!isNaN(val)) {\\n                    valueAccessor()(val);\\n                }\\n            });\\n            valueAccessor().subscribe(function(value) {\\n                var str = JSON.stringify(value);\\n                if ((str == \\\"0\\\") && ([\\\"-0\\\", \\\"-0.\\\"].indexOf(stringified()) >= 0))\\n                     return;\\n                 if ([\\\"null\\\", \\\"\\\"].indexOf(str) >= 0)\\n                     return;\\n                stringified(str);\\n            });\\n            ko.applyBindingsToNode(\\n                element,\\n                {\\n                    value: stringified,\\n                    valueUpdate: allBindings.get('valueUpdate'),\\n                },\\n                context,\\n            );\\n        }\\n    };\\n    var json_data = {\\\"changes\\\":WebIO.getval({\\\"name\\\":\\\"changes\\\",\\\"scope\\\":\\\"4362986278218828489\\\",\\\"id\\\":\\\"ob_05\\\",\\\"type\\\":\\\"observable\\\"}),\\\"value\\\":WebIO.getval({\\\"name\\\":\\\"value\\\",\\\"scope\\\":\\\"4362986278218828489\\\",\\\"id\\\":\\\"ob_04\\\",\\\"type\\\":\\\"observable\\\"})};\\n    var self = this;\\n    function AppViewModel() {\\n        for (var key in json_data) {\\n            var el = json_data[key];\\n            this[key] = Array.isArray(el) ? ko.observableArray(el) : ko.observable(el);\\n        }\\n        \\n        \\n        [this[\\\"changes\\\"].subscribe((function (val){!(this.valueFromJulia[\\\"changes\\\"]) ? (WebIO.setval({\\\"name\\\":\\\"changes\\\",\\\"scope\\\":\\\"4362986278218828489\\\",\\\"id\\\":\\\"ob_05\\\",\\\"type\\\":\\\"observable\\\"},val)) : undefined; return this.valueFromJulia[\\\"changes\\\"]=false}),self),this[\\\"value\\\"].subscribe((function (val){!(this.valueFromJulia[\\\"value\\\"]) ? (WebIO.setval({\\\"name\\\":\\\"value\\\",\\\"scope\\\":\\\"4362986278218828489\\\",\\\"id\\\":\\\"ob_04\\\",\\\"type\\\":\\\"observable\\\"},val)) : undefined; return this.valueFromJulia[\\\"value\\\"]=false}),self)]\\n        \\n    }\\n    self.model = new AppViewModel();\\n    self.valueFromJulia = {};\\n    for (var key in json_data) {\\n        self.valueFromJulia[key] = false;\\n    }\\n    ko.applyBindings(self.model, self.dom);\\n}\\n);\\n    (WebIO.importBlock({\\\"data\\\":[{\\\"name\\\":\\\"knockout\\\",\\\"type\\\":\\\"js\\\",\\\"url\\\":\\\"\\/assetserver\\/916302f6d5e8a06b15ad797fed7e4e15a53527fc-knockout.js\\\"},{\\\"name\\\":\\\"knockout_punches\\\",\\\"type\\\":\\\"js\\\",\\\"url\\\":\\\"\\/assetserver\\/5e1c85d4bec9f031a297a6fa800fb73907cc8805-knockout_punches.js\\\"}],\\\"type\\\":\\\"async_block\\\"})).then((imports) => handler.apply(this, imports));\\n}\\n\"],\"observables\":{\"changes\":{\"sync\":false,\"id\":\"ob_05\",\"value\":0},\"value\":{\"sync\":true,\"id\":\"ob_04\",\"value\":true}}},\"children\":[{\"props\":{\"className\":\"field interact-widget\"},\"nodeType\":\"DOM\",\"type\":\"node\",\"instanceArgs\":{\"namespace\":\"html\",\"tag\":\"div\"},\"children\":[{\"props\":{\"attributes\":{\"type\":\"checkbox\",\"data-bind\":\"checked: value, valueUpdate: 'change', event: {change: function (){this.changes(this.changes()+1)}}\"},\"id\":\"##403\",\"className\":\"switch \",\"style\":{}},\"nodeType\":\"DOM\",\"type\":\"node\",\"instanceArgs\":{\"namespace\":\"html\",\"tag\":\"input\"},\"children\":[]},{\"props\":{\"attributes\":{\"className\":\"\",\"for\":\"##403\"}},\"nodeType\":\"DOM\",\"type\":\"node\",\"instanceArgs\":{\"namespace\":\"html\",\"tag\":\"label\"},\"children\":[\"polar\"]}]}]}]}]},{\"props\":{\"className\":\"interact-flex-row interact-widget\"},\"nodeType\":\"DOM\",\"type\":\"node\",\"instanceArgs\":{\"namespace\":\"html\",\"tag\":\"div\"},\"children\":[{\"props\":{\"className\":\"field interact-widget\"},\"nodeType\":\"DOM\",\"type\":\"node\",\"instanceArgs\":{\"namespace\":\"html\",\"tag\":\"div\"},\"children\":[{\"props\":{},\"nodeType\":\"Scope\",\"type\":\"node\",\"instanceArgs\":{\"imports\":{\"data\":[{\"name\":\"knockout\",\"type\":\"js\",\"url\":\"\\/assetserver\\/916302f6d5e8a06b15ad797fed7e4e15a53527fc-knockout.js\"},{\"name\":\"knockout_punches\",\"type\":\"js\",\"url\":\"\\/assetserver\\/5e1c85d4bec9f031a297a6fa800fb73907cc8805-knockout_punches.js\"},{\"name\":null,\"type\":\"js\",\"url\":\"\\/assetserver\\/4959abf7cfde8ccf4bc14da1bfe9aa1ce154b37f-all.js\"},{\"name\":null,\"type\":\"css\",\"url\":\"\\/assetserver\\/ae5fba0ff44b12c8103fadacf9859ebdeb329277-style.css\"},{\"name\":null,\"type\":\"css\",\"url\":\"\\/assetserver\\/490ef550dcc5a3350ddc70818a3ef106047c42da-bulma_confined.min.css\"}],\"type\":\"async_block\"},\"id\":\"3300353413754703010\",\"handlers\":{\"changes\":[\"(function (val){return (val!=this.model[\\\"changes\\\"]()) ? (this.valueFromJulia[\\\"changes\\\"]=true, this.model[\\\"changes\\\"](val)) : undefined})\"],\"value\":[\"(function (val){return (val!=this.model[\\\"value\\\"]()) ? (this.valueFromJulia[\\\"value\\\"]=true, this.model[\\\"value\\\"](val)) : undefined})\"]},\"systemjs_options\":null,\"mount_callbacks\":[\"function () {\\n    var handler = (function (ko, koPunches) {\\n    ko.punches.enableAll();\\n    ko.bindingHandlers.numericValue = {\\n        init: function(element, valueAccessor, allBindings, data, context) {\\n            var stringified = ko.observable(ko.unwrap(valueAccessor()));\\n            stringified.subscribe(function(value) {\\n                var val = parseFloat(value);\\n                if (!isNaN(val)) {\\n                    valueAccessor()(val);\\n                }\\n            });\\n            valueAccessor().subscribe(function(value) {\\n                var str = JSON.stringify(value);\\n                if ((str == \\\"0\\\") && ([\\\"-0\\\", \\\"-0.\\\"].indexOf(stringified()) >= 0))\\n                     return;\\n                 if ([\\\"null\\\", \\\"\\\"].indexOf(str) >= 0)\\n                     return;\\n                stringified(str);\\n            });\\n            ko.applyBindingsToNode(\\n                element,\\n                {\\n                    value: stringified,\\n                    valueUpdate: allBindings.get('valueUpdate'),\\n                },\\n                context,\\n            );\\n        }\\n    };\\n    var json_data = {\\\"changes\\\":WebIO.getval({\\\"name\\\":\\\"changes\\\",\\\"scope\\\":\\\"3300353413754703010\\\",\\\"id\\\":\\\"ob_07\\\",\\\"type\\\":\\\"observable\\\"}),\\\"value\\\":WebIO.getval({\\\"name\\\":\\\"value\\\",\\\"scope\\\":\\\"3300353413754703010\\\",\\\"id\\\":\\\"ob_06\\\",\\\"type\\\":\\\"observable\\\"})};\\n    var self = this;\\n    function AppViewModel() {\\n        for (var key in json_data) {\\n            var el = json_data[key];\\n            this[key] = Array.isArray(el) ? ko.observableArray(el) : ko.observable(el);\\n        }\\n        \\n        \\n        [this[\\\"changes\\\"].subscribe((function (val){!(this.valueFromJulia[\\\"changes\\\"]) ? (WebIO.setval({\\\"name\\\":\\\"changes\\\",\\\"scope\\\":\\\"3300353413754703010\\\",\\\"id\\\":\\\"ob_07\\\",\\\"type\\\":\\\"observable\\\"},val)) : undefined; return this.valueFromJulia[\\\"changes\\\"]=false}),self),this[\\\"value\\\"].subscribe((function (val){!(this.valueFromJulia[\\\"value\\\"]) ? (WebIO.setval({\\\"name\\\":\\\"value\\\",\\\"scope\\\":\\\"3300353413754703010\\\",\\\"id\\\":\\\"ob_06\\\",\\\"type\\\":\\\"observable\\\"},val)) : undefined; return this.valueFromJulia[\\\"value\\\"]=false}),self)]\\n        \\n    }\\n    self.model = new AppViewModel();\\n    self.valueFromJulia = {};\\n    for (var key in json_data) {\\n        self.valueFromJulia[key] = false;\\n    }\\n    ko.applyBindings(self.model, self.dom);\\n}\\n);\\n    (WebIO.importBlock({\\\"data\\\":[{\\\"name\\\":\\\"knockout\\\",\\\"type\\\":\\\"js\\\",\\\"url\\\":\\\"\\/assetserver\\/916302f6d5e8a06b15ad797fed7e4e15a53527fc-knockout.js\\\"},{\\\"name\\\":\\\"knockout_punches\\\",\\\"type\\\":\\\"js\\\",\\\"url\\\":\\\"\\/assetserver\\/5e1c85d4bec9f031a297a6fa800fb73907cc8805-knockout_punches.js\\\"}],\\\"type\\\":\\\"async_block\\\"})).then((imports) => handler.apply(this, imports));\\n}\\n\"],\"observables\":{\"changes\":{\"sync\":false,\"id\":\"ob_07\",\"value\":0},\"value\":{\"sync\":true,\"id\":\"ob_06\",\"value\":false}}},\"children\":[{\"props\":{\"className\":\"field interact-widget\"},\"nodeType\":\"DOM\",\"type\":\"node\",\"instanceArgs\":{\"namespace\":\"html\",\"tag\":\"div\"},\"children\":[{\"props\":{\"attributes\":{\"type\":\"checkbox\",\"data-bind\":\"checked: value, valueUpdate: 'change', event: {change: function (){this.changes(this.changes()+1)}}\"},\"id\":\"##404\",\"className\":\"switch \",\"style\":{}},\"nodeType\":\"DOM\",\"type\":\"node\",\"instanceArgs\":{\"namespace\":\"html\",\"tag\":\"input\"},\"children\":[]},{\"props\":{\"attributes\":{\"className\":\"\",\"for\":\"##404\"}},\"nodeType\":\"DOM\",\"type\":\"node\",\"instanceArgs\":{\"namespace\":\"html\",\"tag\":\"label\"},\"children\":[\"nt\"]}]}]}]}]},{\"props\":{\"className\":\"interact-flex-row interact-widget\"},\"nodeType\":\"DOM\",\"type\":\"node\",\"instanceArgs\":{\"namespace\":\"html\",\"tag\":\"div\"},\"children\":[{\"props\":{\"className\":\"field interact-widget\"},\"nodeType\":\"DOM\",\"type\":\"node\",\"instanceArgs\":{\"namespace\":\"html\",\"tag\":\"div\"},\"children\":[{\"props\":{},\"nodeType\":\"Scope\",\"type\":\"node\",\"instanceArgs\":{\"imports\":{\"data\":[{\"name\":\"knockout\",\"type\":\"js\",\"url\":\"\\/assetserver\\/916302f6d5e8a06b15ad797fed7e4e15a53527fc-knockout.js\"},{\"name\":\"knockout_punches\",\"type\":\"js\",\"url\":\"\\/assetserver\\/5e1c85d4bec9f031a297a6fa800fb73907cc8805-knockout_punches.js\"},{\"name\":null,\"type\":\"js\",\"url\":\"\\/assetserver\\/4959abf7cfde8ccf4bc14da1bfe9aa1ce154b37f-all.js\"},{\"name\":null,\"type\":\"css\",\"url\":\"\\/assetserver\\/ae5fba0ff44b12c8103fadacf9859ebdeb329277-style.css\"},{\"name\":null,\"type\":\"css\",\"url\":\"\\/assetserver\\/490ef550dcc5a3350ddc70818a3ef106047c42da-bulma_confined.min.css\"}],\"type\":\"async_block\"},\"id\":\"17299066999596822484\",\"handlers\":{\"changes\":[\"(function (val){return (val!=this.model[\\\"changes\\\"]()) ? (this.valueFromJulia[\\\"changes\\\"]=true, this.model[\\\"changes\\\"](val)) : undefined})\"],\"value\":[\"(function (val){return (val!=this.model[\\\"value\\\"]()) ? (this.valueFromJulia[\\\"value\\\"]=true, this.model[\\\"value\\\"](val)) : undefined})\"]},\"systemjs_options\":null,\"mount_callbacks\":[\"function () {\\n    var handler = (function (ko, koPunches) {\\n    ko.punches.enableAll();\\n    ko.bindingHandlers.numericValue = {\\n        init: function(element, valueAccessor, allBindings, data, context) {\\n            var stringified = ko.observable(ko.unwrap(valueAccessor()));\\n            stringified.subscribe(function(value) {\\n                var val = parseFloat(value);\\n                if (!isNaN(val)) {\\n                    valueAccessor()(val);\\n                }\\n            });\\n            valueAccessor().subscribe(function(value) {\\n                var str = JSON.stringify(value);\\n                if ((str == \\\"0\\\") && ([\\\"-0\\\", \\\"-0.\\\"].indexOf(stringified()) >= 0))\\n                     return;\\n                 if ([\\\"null\\\", \\\"\\\"].indexOf(str) >= 0)\\n                     return;\\n                stringified(str);\\n            });\\n            ko.applyBindingsToNode(\\n                element,\\n                {\\n                    value: stringified,\\n                    valueUpdate: allBindings.get('valueUpdate'),\\n                },\\n                context,\\n            );\\n        }\\n    };\\n    var json_data = {\\\"changes\\\":WebIO.getval({\\\"name\\\":\\\"changes\\\",\\\"scope\\\":\\\"17299066999596822484\\\",\\\"id\\\":\\\"ob_09\\\",\\\"type\\\":\\\"observable\\\"}),\\\"value\\\":WebIO.getval({\\\"name\\\":\\\"value\\\",\\\"scope\\\":\\\"17299066999596822484\\\",\\\"id\\\":\\\"ob_08\\\",\\\"type\\\":\\\"observable\\\"})};\\n    var self = this;\\n    function AppViewModel() {\\n        for (var key in json_data) {\\n            var el = json_data[key];\\n            this[key] = Array.isArray(el) ? ko.observableArray(el) : ko.observable(el);\\n        }\\n        \\n        \\n        [this[\\\"changes\\\"].subscribe((function (val){!(this.valueFromJulia[\\\"changes\\\"]) ? (WebIO.setval({\\\"name\\\":\\\"changes\\\",\\\"scope\\\":\\\"17299066999596822484\\\",\\\"id\\\":\\\"ob_09\\\",\\\"type\\\":\\\"observable\\\"},val)) : undefined; return this.valueFromJulia[\\\"changes\\\"]=false}),self),this[\\\"value\\\"].subscribe((function (val){!(this.valueFromJulia[\\\"value\\\"]) ? (WebIO.setval({\\\"name\\\":\\\"value\\\",\\\"scope\\\":\\\"17299066999596822484\\\",\\\"id\\\":\\\"ob_08\\\",\\\"type\\\":\\\"observable\\\"},val)) : undefined; return this.valueFromJulia[\\\"value\\\"]=false}),self)]\\n        \\n    }\\n    self.model = new AppViewModel();\\n    self.valueFromJulia = {};\\n    for (var key in json_data) {\\n        self.valueFromJulia[key] = false;\\n    }\\n    ko.applyBindings(self.model, self.dom);\\n}\\n);\\n    (WebIO.importBlock({\\\"data\\\":[{\\\"name\\\":\\\"knockout\\\",\\\"type\\\":\\\"js\\\",\\\"url\\\":\\\"\\/assetserver\\/916302f6d5e8a06b15ad797fed7e4e15a53527fc-knockout.js\\\"},{\\\"name\\\":\\\"knockout_punches\\\",\\\"type\\\":\\\"js\\\",\\\"url\\\":\\\"\\/assetserver\\/5e1c85d4bec9f031a297a6fa800fb73907cc8805-knockout_punches.js\\\"}],\\\"type\\\":\\\"async_block\\\"})).then((imports) => handler.apply(this, imports));\\n}\\n\"],\"observables\":{\"changes\":{\"sync\":false,\"id\":\"ob_09\",\"value\":0},\"value\":{\"sync\":true,\"id\":\"ob_08\",\"value\":false}}},\"children\":[{\"props\":{\"className\":\"field interact-widget\"},\"nodeType\":\"DOM\",\"type\":\"node\",\"instanceArgs\":{\"namespace\":\"html\",\"tag\":\"div\"},\"children\":[{\"props\":{\"attributes\":{\"type\":\"checkbox\",\"data-bind\":\"checked: value, valueUpdate: 'change', event: {change: function (){this.changes(this.changes()+1)}}\"},\"id\":\"##405\",\"className\":\"switch \",\"style\":{}},\"nodeType\":\"DOM\",\"type\":\"node\",\"instanceArgs\":{\"namespace\":\"html\",\"tag\":\"input\"},\"children\":[]},{\"props\":{\"attributes\":{\"className\":\"\",\"for\":\"##405\"}},\"nodeType\":\"DOM\",\"type\":\"node\",\"instanceArgs\":{\"namespace\":\"html\",\"tag\":\"label\"},\"children\":[\"circleOfRotation\"]}]}]}]}]},{\"props\":{},\"nodeType\":\"Scope\",\"type\":\"node\",\"instanceArgs\":{\"imports\":{\"data\":[],\"type\":\"async_block\"},\"id\":\"10580861979433410079\",\"handlers\":{},\"systemjs_options\":null,\"mount_callbacks\":[],\"observables\":{\"obs-node\":{\"sync\":false,\"id\":\"ob_13\",\"value\":{\"props\":{\"className\":\"interact-flex-row interact-widget\"},\"nodeType\":\"DOM\",\"type\":\"node\",\"instanceArgs\":{\"namespace\":\"html\",\"tag\":\"div\"},\"children\":[{\"props\":{\"setInnerHtml\":\"<?xml version=\\\"1.0\\\" encoding=\\\"utf-8\\\"?>\\n<svg xmlns=\\\"http:\\/\\/www.w3.org\\/2000\\/svg\\\" xmlns:xlink=\\\"http:\\/\\/www.w3.org\\/1999\\/xlink\\\" width=\\\"600\\\" height=\\\"400\\\" viewBox=\\\"0 0 2400 1600\\\">\\n<defs>\\n  <clipPath id=\\\"clip7600\\\">\\n    <rect x=\\\"0\\\" y=\\\"0\\\" width=\\\"2400\\\" height=\\\"1600\\\"\\/>\\n  <\\/clipPath>\\n<\\/defs>\\n<path clip-path=\\\"url(#clip7600)\\\" d=\\\"\\nM0 1600 L2400 1600 L2400 0 L0 0  Z\\n  \\\" fill=\\\"#ffffff\\\" fill-rule=\\\"evenodd\\\" fill-opacity=\\\"1\\\"\\/>\\n<defs>\\n  <clipPath id=\\\"clip7601\\\">\\n    <rect x=\\\"480\\\" y=\\\"0\\\" width=\\\"1681\\\" height=\\\"1600\\\"\\/>\\n  <\\/clipPath>\\n<\\/defs>\\n<path clip-path=\\\"url(#clip7600)\\\" d=\\\"\\nM628.398 1425.62 L1928.08 1425.62 L1928.08 47.2441 L628.398 47.2441  Z\\n  \\\" fill=\\\"#ffffff\\\" fill-rule=\\\"evenodd\\\" fill-opacity=\\\"1\\\"\\/>\\n<defs>\\n  <clipPath id=\\\"clip7602\\\">\\n    <rect x=\\\"628\\\" y=\\\"47\\\" width=\\\"1301\\\" height=\\\"1379\\\"\\/>\\n  <\\/clipPath>\\n<\\/defs>\\n<polyline clip-path=\\\"url(#clip7602)\\\" style=\\\"stroke:#000000; stroke-width:2; stroke-opacity:0.1; fill:none\\\" points=\\\"\\n  726.487,1425.62 726.487,47.2441 \\n  \\\"\\/>\\n<polyline clip-path=\\\"url(#clip7602)\\\" style=\\\"stroke:#000000; stroke-width:2; stroke-opacity:0.1; fill:none\\\" points=\\\"\\n  971.71,1425.62 971.71,47.2441 \\n  \\\"\\/>\\n<polyline clip-path=\\\"url(#clip7602)\\\" style=\\\"stroke:#000000; stroke-width:2; stroke-opacity:0.1; fill:none\\\" points=\\\"\\n  1216.93,1425.62 1216.93,47.2441 \\n  \\\"\\/>\\n<polyline clip-path=\\\"url(#clip7602)\\\" style=\\\"stroke:#000000; stroke-width:2; stroke-opacity:0.1; fill:none\\\" points=\\\"\\n  1462.16,1425.62 1462.16,47.2441 \\n  \\\"\\/>\\n<polyline clip-path=\\\"url(#clip7602)\\\" style=\\\"stroke:#000000; stroke-width:2; stroke-opacity:0.1; fill:none\\\" points=\\\"\\n  1707.38,1425.62 1707.38,47.2441 \\n  \\\"\\/>\\n<polyline clip-path=\\\"url(#clip7602)\\\" style=\\\"stroke:#000000; stroke-width:2; stroke-opacity:0.1; fill:none\\\" points=\\\"\\n  628.398,1226.88 1928.08,1226.88 \\n  \\\"\\/>\\n<polyline clip-path=\\\"url(#clip7602)\\\" style=\\\"stroke:#000000; stroke-width:2; stroke-opacity:0.1; fill:none\\\" points=\\\"\\n  628.398,981.654 1928.08,981.654 \\n  \\\"\\/>\\n<polyline clip-path=\\\"url(#clip7602)\\\" style=\\\"stroke:#000000; stroke-width:2; stroke-opacity:0.1; fill:none\\\" points=\\\"\\n  628.398,736.431 1928.08,736.431 \\n  \\\"\\/>\\n<polyline clip-path=\\\"url(#clip7602)\\\" style=\\\"stroke:#000000; stroke-width:2; stroke-opacity:0.1; fill:none\\\" points=\\\"\\n  628.398,491.208 1928.08,491.208 \\n  \\\"\\/>\\n<polyline clip-path=\\\"url(#clip7602)\\\" style=\\\"stroke:#000000; stroke-width:2; stroke-opacity:0.1; fill:none\\\" points=\\\"\\n  628.398,245.986 1928.08,245.986 \\n  \\\"\\/>\\n<polyline clip-path=\\\"url(#clip7600)\\\" style=\\\"stroke:#000000; stroke-width:4; stroke-opacity:1; fill:none\\\" points=\\\"\\n  628.398,1425.62 1928.08,1425.62 \\n  \\\"\\/>\\n<polyline clip-path=\\\"url(#clip7600)\\\" style=\\\"stroke:#000000; stroke-width:4; stroke-opacity:1; fill:none\\\" points=\\\"\\n  628.398,1425.62 628.398,47.2441 \\n  \\\"\\/>\\n<polyline clip-path=\\\"url(#clip7600)\\\" style=\\\"stroke:#000000; stroke-width:4; stroke-opacity:1; fill:none\\\" points=\\\"\\n  726.487,1425.62 726.487,1409.08 \\n  \\\"\\/>\\n<polyline clip-path=\\\"url(#clip7600)\\\" style=\\\"stroke:#000000; stroke-width:4; stroke-opacity:1; fill:none\\\" points=\\\"\\n  971.71,1425.62 971.71,1409.08 \\n  \\\"\\/>\\n<polyline clip-path=\\\"url(#clip7600)\\\" style=\\\"stroke:#000000; stroke-width:4; stroke-opacity:1; fill:none\\\" points=\\\"\\n  1216.93,1425.62 1216.93,1409.08 \\n  \\\"\\/>\\n<polyline clip-path=\\\"url(#clip7600)\\\" style=\\\"stroke:#000000; stroke-width:4; stroke-opacity:1; fill:none\\\" points=\\\"\\n  1462.16,1425.62 1462.16,1409.08 \\n  \\\"\\/>\\n<polyline clip-path=\\\"url(#clip7600)\\\" style=\\\"stroke:#000000; stroke-width:4; stroke-opacity:1; fill:none\\\" points=\\\"\\n  1707.38,1425.62 1707.38,1409.08 \\n  \\\"\\/>\\n<polyline clip-path=\\\"url(#clip7600)\\\" style=\\\"stroke:#000000; stroke-width:4; stroke-opacity:1; fill:none\\\" points=\\\"\\n  628.398,1226.88 643.994,1226.88 \\n  \\\"\\/>\\n<polyline clip-path=\\\"url(#clip7600)\\\" style=\\\"stroke:#000000; stroke-width:4; stroke-opacity:1; fill:none\\\" points=\\\"\\n  628.398,981.654 643.994,981.654 \\n  \\\"\\/>\\n<polyline clip-path=\\\"url(#clip7600)\\\" style=\\\"stroke:#000000; stroke-width:4; stroke-opacity:1; fill:none\\\" points=\\\"\\n  628.398,736.431 643.994,736.431 \\n  \\\"\\/>\\n<polyline clip-path=\\\"url(#clip7600)\\\" style=\\\"stroke:#000000; stroke-width:4; stroke-opacity:1; fill:none\\\" points=\\\"\\n  628.398,491.208 643.994,491.208 \\n  \\\"\\/>\\n<polyline clip-path=\\\"url(#clip7600)\\\" style=\\\"stroke:#000000; stroke-width:4; stroke-opacity:1; fill:none\\\" points=\\\"\\n  628.398,245.986 643.994,245.986 \\n  \\\"\\/>\\n<g clip-path=\\\"url(#clip7600)\\\">\\n<text style=\\\"fill:#000000; fill-opacity:1; font-family:Arial,Helvetica Neue,Helvetica,sans-serif; font-size:48px; text-anchor:middle;\\\" transform=\\\"rotate(0, 726.487, 1479.62)\\\" x=\\\"726.487\\\" y=\\\"1479.62\\\">-6<\\/text>\\n<\\/g>\\n<g clip-path=\\\"url(#clip7600)\\\">\\n<text style=\\\"fill:#000000; fill-opacity:1; font-family:Arial,Helvetica Neue,Helvetica,sans-serif; font-size:48px; text-anchor:middle;\\\" transform=\\\"rotate(0, 971.71, 1479.62)\\\" x=\\\"971.71\\\" y=\\\"1479.62\\\">-4<\\/text>\\n<\\/g>\\n<g clip-path=\\\"url(#clip7600)\\\">\\n<text style=\\\"fill:#000000; fill-opacity:1; font-family:Arial,Helvetica Neue,Helvetica,sans-serif; font-size:48px; text-anchor:middle;\\\" transform=\\\"rotate(0, 1216.93, 1479.62)\\\" x=\\\"1216.93\\\" y=\\\"1479.62\\\">-2<\\/text>\\n<\\/g>\\n<g clip-path=\\\"url(#clip7600)\\\">\\n<text style=\\\"fill:#000000; fill-opacity:1; font-family:Arial,Helvetica Neue,Helvetica,sans-serif; font-size:48px; text-anchor:middle;\\\" transform=\\\"rotate(0, 1462.16, 1479.62)\\\" x=\\\"1462.16\\\" y=\\\"1479.62\\\">0<\\/text>\\n<\\/g>\\n<g clip-path=\\\"url(#clip7600)\\\">\\n<text style=\\\"fill:#000000; fill-opacity:1; font-family:Arial,Helvetica Neue,Helvetica,sans-serif; font-size:48px; text-anchor:middle;\\\" transform=\\\"rotate(0, 1707.38, 1479.62)\\\" x=\\\"1707.38\\\" y=\\\"1479.62\\\">2<\\/text>\\n<\\/g>\\n<g clip-path=\\\"url(#clip7600)\\\">\\n<text style=\\\"fill:#000000; fill-opacity:1; font-family:Arial,Helvetica Neue,Helvetica,sans-serif; font-size:48px; text-anchor:end;\\\" transform=\\\"rotate(0, 604.398, 1244.38)\\\" x=\\\"604.398\\\" y=\\\"1244.38\\\">-4<\\/text>\\n<\\/g>\\n<g clip-path=\\\"url(#clip7600)\\\">\\n<text style=\\\"fill:#000000; fill-opacity:1; font-family:Arial,Helvetica Neue,Helvetica,sans-serif; font-size:48px; text-anchor:end;\\\" transform=\\\"rotate(0, 604.398, 999.154)\\\" x=\\\"604.398\\\" y=\\\"999.154\\\">-2<\\/text>\\n<\\/g>\\n<g clip-path=\\\"url(#clip7600)\\\">\\n<text style=\\\"fill:#000000; fill-opacity:1; font-family:Arial,Helvetica Neue,Helvetica,sans-serif; font-size:48px; text-anchor:end;\\\" transform=\\\"rotate(0, 604.398, 753.931)\\\" x=\\\"604.398\\\" y=\\\"753.931\\\">0<\\/text>\\n<\\/g>\\n<g clip-path=\\\"url(#clip7600)\\\">\\n<text style=\\\"fill:#000000; fill-opacity:1; font-family:Arial,Helvetica Neue,Helvetica,sans-serif; font-size:48px; text-anchor:end;\\\" transform=\\\"rotate(0, 604.398, 508.708)\\\" x=\\\"604.398\\\" y=\\\"508.708\\\">2<\\/text>\\n<\\/g>\\n<g clip-path=\\\"url(#clip7600)\\\">\\n<text style=\\\"fill:#000000; fill-opacity:1; font-family:Arial,Helvetica Neue,Helvetica,sans-serif; font-size:48px; text-anchor:end;\\\" transform=\\\"rotate(0, 604.398, 263.486)\\\" x=\\\"604.398\\\" y=\\\"263.486\\\">4<\\/text>\\n<\\/g>\\n<g clip-path=\\\"url(#clip7600)\\\">\\n<text style=\\\"fill:#000000; fill-opacity:1; font-family:Arial,Helvetica Neue,Helvetica,sans-serif; font-size:66px; text-anchor:middle;\\\" transform=\\\"rotate(0, 1278.24, 1559.48)\\\" x=\\\"1278.24\\\" y=\\\"1559.48\\\">x<\\/text>\\n<\\/g>\\n<g clip-path=\\\"url(#clip7600)\\\">\\n<text style=\\\"fill:#000000; fill-opacity:1; font-family:Arial,Helvetica Neue,Helvetica,sans-serif; font-size:66px; text-anchor:middle;\\\" transform=\\\"rotate(-90, 513.963, 736.431)\\\" x=\\\"513.963\\\" y=\\\"736.431\\\">y<\\/text>\\n<\\/g>\\n<polyline clip-path=\\\"url(#clip7602)\\\" style=\\\"stroke:#377eb8; stroke-width:12; stroke-opacity:1; fill:none\\\" points=\\\"\\n  1646.07,736.431 1646.07,730.622 1646.07,724.802 1646.07,718.959 1646.06,713.081 1646.04,707.157 1646.01,701.178 1645.96,695.132 1645.89,689.01 1645.78,682.801 \\n  1645.62,676.499 1645.42,670.093 1645.15,663.578 1644.8,656.947 1644.37,650.194 1643.84,643.314 1643.2,636.303 1642.44,629.16 1641.53,621.882 1640.47,614.469 \\n  1639.23,606.921 1637.82,599.24 1636.2,591.429 1634.37,583.493 1632.3,575.436 1629.99,567.264 1627.42,558.987 1624.57,550.612 1621.44,542.15 1618,533.612 \\n  1614.24,525.011 1610.15,516.36 1605.71,507.674 1600.93,498.968 1595.77,490.259 1590.25,481.565 1584.34,472.905 1578.04,464.297 1571.34,455.763 1564.23,447.322 \\n  1556.73,438.997 1548.81,430.81 1540.47,422.783 1531.73,414.94 1522.57,407.303 1513.01,399.897 1503.04,392.745 1492.67,385.872 1481.91,379.3 1470.76,373.054 \\n  1459.24,367.157 1447.36,361.632 1435.12,356.503 1422.55,351.791 1409.65,347.519 1396.45,343.708 1382.97,340.377 1369.22,337.547 1355.22,335.236 1341,333.462 \\n  1326.58,332.241 1311.98,331.589 1297.24,331.519 1282.37,332.045 1267.4,333.179 1252.36,334.93 1237.29,337.306 1222.2,340.316 1207.14,343.964 1192.12,348.255 \\n  1177.19,353.19 1162.37,358.771 1147.7,364.995 1133.2,371.861 1118.91,379.364 1104.86,387.498 1091.08,396.254 1077.6,405.624 1064.46,415.595 1051.68,426.154 \\n  1039.29,437.287 1027.32,448.978 1015.8,461.208 1004.76,473.958 994.224,487.207 984.214,500.932 974.756,515.11 965.873,529.716 957.587,544.723 949.918,560.104 \\n  942.884,575.83 936.503,591.871 930.791,608.196 925.762,624.775 921.427,641.575 917.798,658.563 914.885,675.706 912.693,692.969 911.229,710.32 910.496,727.722 \\n  910.496,745.141 911.229,762.543 912.693,779.893 914.885,797.157 917.798,814.299 921.427,831.287 925.762,848.087 930.791,864.666 936.503,880.992 942.884,897.033 \\n  949.918,912.759 957.587,928.139 965.873,943.146 974.756,957.752 984.214,971.931 994.224,985.656 1004.76,998.905 1015.8,1011.66 1027.32,1023.89 1039.29,1035.58 \\n  1051.68,1046.71 1064.46,1057.27 1077.6,1067.24 1091.08,1076.61 1104.86,1085.36 1118.91,1093.5 1133.2,1101 1147.7,1107.87 1162.37,1114.09 1177.19,1119.67 \\n  1192.12,1124.61 1207.14,1128.9 1222.2,1132.55 1237.29,1135.56 1252.36,1137.93 1267.4,1139.68 1282.37,1140.82 1297.24,1141.34 1311.98,1141.27 1326.58,1140.62 \\n  1341,1139.4 1355.22,1137.63 1369.22,1135.32 1382.97,1132.49 1396.45,1129.15 1409.65,1125.34 1422.55,1121.07 1435.12,1116.36 1447.36,1111.23 1459.24,1105.71 \\n  1470.76,1099.81 1481.91,1093.56 1492.67,1086.99 1503.04,1080.12 1513.01,1072.97 1522.57,1065.56 1531.73,1057.92 1540.47,1050.08 1548.81,1042.05 1556.73,1033.87 \\n  1564.23,1025.54 1571.34,1017.1 1578.04,1008.57 1584.34,999.958 1590.25,991.298 1595.77,982.604 1600.93,973.895 1605.71,965.189 1610.15,956.503 1614.24,947.852 \\n  1618,939.25 1621.44,930.712 1624.57,922.25 1627.42,913.876 1629.99,905.598 1632.3,897.427 1634.37,889.37 1636.2,881.433 1637.82,873.623 1639.23,865.942 \\n  1640.47,858.394 1641.53,850.981 1642.44,843.703 1643.2,836.559 1643.84,829.549 1644.37,822.669 1644.8,815.916 1645.15,809.284 1645.42,802.769 1645.62,796.364 \\n  1645.78,790.061 1645.89,783.853 1645.96,777.731 1646.01,771.685 1646.04,765.705 1646.06,759.782 1646.07,753.904 1646.07,748.061 1646.07,742.24 1646.07,736.431 \\n  \\n  \\\"\\/>\\n<polyline clip-path=\\\"url(#clip7602)\\\" style=\\\"stroke:#999999; stroke-width:4; stroke-opacity:1; fill:none\\\" points=\\\"\\n  1462.16,736.431 1891.3,736.431 \\n  \\\"\\/>\\n<polyline clip-path=\\\"url(#clip7602)\\\" style=\\\"stroke:#999999; stroke-width:4; stroke-opacity:1; fill:none\\\" points=\\\"\\n  1498.94,736.431 1498.93,735.851 1498.92,735.27 1498.9,734.69 1498.87,734.11 1498.82,733.531 1498.77,732.952 1498.71,732.375 1498.65,731.798 1498.57,731.223 \\n  1498.48,730.648 1498.39,730.076 1498.28,729.505 1498.17,728.935 1498.04,728.368 1497.91,727.802 1497.77,727.239 1497.62,726.678 1497.46,726.119 1497.3,725.563 \\n  1497.12,725.009 1496.94,724.459 1496.74,723.911 1496.54,723.367 1496.33,722.826 1496.11,722.288 1495.88,721.754 1495.65,721.223 1495.4,720.696 1495.15,720.173 \\n  1494.89,719.654 1494.62,719.14 1494.34,718.629 1494.06,718.124 1493.77,717.622 1493.47,717.125 1493.16,716.634 1492.84,716.147 1492.52,715.665 1492.18,715.188 \\n  1491.85,714.717 1491.5,714.251 1491.15,713.79 1490.78,713.335 1490.42,712.886 1490.04,712.443 1489.66,712.006 1489.27,711.575 1488.87,711.15 1488.47,710.731 \\n  1488.06,710.319 1487.65,709.913 1487.23,709.514 1486.8,709.122 1486.36,708.736 1485.92,708.358 1485.48,707.986 1485.02,707.621 1484.57,707.264 1484.1,706.914 \\n  1483.64,706.571 1483.16,706.236 1482.68,705.908 1482.2,705.587 1481.71,705.275 1481.21,704.97 1480.71,704.673 1480.21,704.384 1479.7,704.103 1479.19,703.83 \\n  1478.67,703.565 1478.15,703.309 1477.63,703.06 1477.1,702.82 1476.57,702.588 1476.03,702.365 1475.49,702.15 1474.95,701.944 1474.4,701.746 1473.85,701.557 \\n  1473.3,701.377 1472.75,701.206 1472.19,701.043 1471.63,700.889 1471.07,700.744 1470.5,700.607 1469.94,700.48 1469.37,700.362 1468.8,700.252 1468.22,700.152 \\n  1467.65,700.061 1467.08,699.979 1466.5,699.905 1465.92,699.841 1465.35,699.786 1464.77,699.741 1464.19,699.704 1463.61,699.677 1463.03,699.658 1462.45,699.649 \\n  1461.87,699.649 1461.28,699.658 1460.7,699.677 1460.12,699.704 1459.54,699.741 1458.97,699.786 1458.39,699.841 1457.81,699.905 1457.23,699.979 1456.66,700.061 \\n  1456.09,700.152 1455.51,700.252 1454.94,700.362 1454.38,700.48 1453.81,700.607 1453.24,700.744 1452.68,700.889 1452.12,701.043 1451.56,701.206 1451.01,701.377 \\n  1450.46,701.557 1449.91,701.746 1449.36,701.944 1448.82,702.15 1448.28,702.365 1447.74,702.588 1447.21,702.82 1446.68,703.06 1446.16,703.309 1445.64,703.565 \\n  1445.12,703.83 1444.61,704.103 1444.1,704.384 1443.6,704.673 1443.1,704.97 1442.6,705.275 1442.11,705.587 1441.63,705.908 1441.15,706.236 1440.68,706.571 \\n  1440.21,706.914 1439.74,707.264 1439.29,707.621 1438.83,707.986 1438.39,708.358 1437.95,708.736 1437.51,709.122 1437.09,709.514 1436.66,709.913 1436.25,710.319 \\n  1435.84,710.731 1435.44,711.15 1435.04,711.575 1434.65,712.006 1434.27,712.443 1433.89,712.886 1433.53,713.335 1433.17,713.79 1432.81,714.251 1432.47,714.717 \\n  1432.13,715.188 1431.79,715.665 1431.47,716.147 1431.15,716.634 1430.85,717.125 1430.54,717.622 1430.25,718.124 1429.97,718.629 1429.69,719.14 1429.42,719.654 \\n  1429.16,720.173 1428.91,720.696 1428.66,721.223 1428.43,721.754 1428.2,722.288 1427.98,722.826 1427.77,723.367 1427.57,723.911 1427.37,724.459 1427.19,725.009 \\n  1427.01,725.563 1426.85,726.119 1426.69,726.678 1426.54,727.239 1426.4,727.802 1426.27,728.368 1426.14,728.935 1426.03,729.505 1425.93,730.076 1425.83,730.648 \\n  1425.74,731.223 1425.66,731.798 1425.6,732.375 1425.54,732.952 1425.49,733.531 1425.45,734.11 1425.41,734.69 1425.39,735.27 1425.38,735.851 1425.37,736.431 \\n  \\n  \\\"\\/>\\n<polyline clip-path=\\\"url(#clip7602)\\\" style=\\\"stroke:#984ea3; stroke-width:12; stroke-opacity:1; fill:none\\\" points=\\\"\\n  1462.16,736.431 910.404,736.431 \\n  \\\"\\/>\\n<polyline clip-path=\\\"url(#clip7602)\\\" style=\\\"stroke:#e41a1c; stroke-width:12; stroke-opacity:1; fill:none\\\" points=\\\"\\n  910.404,736.431 787.792,736.431 \\n  \\\"\\/>\\n<polyline clip-path=\\\"url(#clip7602)\\\" style=\\\"stroke:#e41a1c; stroke-width:12; stroke-opacity:1; fill:none\\\" points=\\\"\\n  823.792,754.431 787.792,736.431 823.792,718.431 \\n  \\\"\\/>\\n<polyline clip-path=\\\"url(#clip7602)\\\" style=\\\"stroke:#e41a1c; stroke-width:12; stroke-opacity:1; fill:none\\\" points=\\\"\\n  787.792,736.431 910.404,736.431 \\n  \\\"\\/>\\n<polyline clip-path=\\\"url(#clip7602)\\\" style=\\\"stroke:#e41a1c; stroke-width:12; stroke-opacity:1; fill:none\\\" points=\\\"\\n  910.404,736.431 910.404,859.043 \\n  \\\"\\/>\\n<polyline clip-path=\\\"url(#clip7602)\\\" style=\\\"stroke:#e41a1c; stroke-width:12; stroke-opacity:1; fill:none\\\" points=\\\"\\n  928.404,823.043 910.404,859.043 892.404,823.043 \\n  \\\"\\/>\\n<polyline clip-path=\\\"url(#clip7602)\\\" style=\\\"stroke:#e41a1c; stroke-width:12; stroke-opacity:1; fill:none\\\" points=\\\"\\n  910.404,859.043 910.404,736.431 \\n  \\\"\\/>\\n<\\/svg>\\n\"},\"nodeType\":\"DOM\",\"type\":\"node\",\"instanceArgs\":{\"namespace\":\"html\",\"tag\":\"div\"},\"children\":[]}]}}}},\"children\":[{\"props\":{},\"nodeType\":\"ObservableNode\",\"type\":\"node\",\"instanceArgs\":{\"id\":\"ob_13\",\"name\":\"obs-node\"},\"children\":[]}]}]},\n",
       "            window,\n",
       "        );\n",
       "    } else {\n",
       "        document\n",
       "            .querySelector('[data-webio-mountpoint=\"1373618312719967290\"]')\n",
       "            .innerHTML = (\n",
       "                '<div style=\"padding: 1em; background-color: #f8d6da; border: 1px solid #f5c6cb\">' +\n",
       "                '<p><strong>WebIO not detected.</strong></p>' +\n",
       "                '<p>Please read ' +\n",
       "                '<a href=\"https://juliagizmos.github.io/WebIO.jl/latest/troubleshooting/not-detected/\" target=\"_blank\">the troubleshooting guide</a> ' +\n",
       "                'for more information on how to resolve this issue.</p>' +\n",
       "                '<p><a href=\"https://juliagizmos.github.io/WebIO.jl/latest/troubleshooting/not-detected/\" target=\"_blank\">https://juliagizmos.github.io/WebIO.jl/latest/troubleshooting/not-detected/</a></p>' +\n",
       "                '</div>'\n",
       "            );\n",
       "    }\n",
       "    </script>\n",
       "</div>\n"
      ],
      "text/plain": [
       "Node{WebIO.DOM}(WebIO.DOM(:html, :div), Any[Node{WebIO.DOM}(WebIO.DOM(:html, :div), Any[Scope(Node{WebIO.DOM}(WebIO.DOM(:html, :div), Any[Node{WebIO.DOM}(WebIO.DOM(:html, :div), Any[Node{WebIO.DOM}(WebIO.DOM(:html, :label), Any[\"ϕ\"], Dict{Symbol,Any}(:className => \"interact \",:style => Dict{Any,Any}(:padding => \"5px 10px 0px 10px\")))], Dict{Symbol,Any}(:className => \"interact-flex-row-left\")), Node{WebIO.DOM}(WebIO.DOM(:html, :div), Any[Node{WebIO.DOM}(WebIO.DOM(:html, :input), Any[], Dict{Symbol,Any}(:max => 73,:min => 1,:attributes => Dict{Any,Any}(:type => \"range\",Symbol(\"data-bind\") => \"numericValue: index, valueUpdate: 'input', event: {change: function (){this.changes(this.changes()+1)}}\",\"orient\" => \"horizontal\"),:step => 1,:className => \"slider slider is-fullwidth\",:style => Dict{Any,Any}()))], Dict{Symbol,Any}(:className => \"interact-flex-row-center\")), Node{WebIO.DOM}(WebIO.DOM(:html, :div), Any[Node{WebIO.DOM}(WebIO.DOM(:html, :p), Any[], Dict{Symbol,Any}(:attributes => Dict(\"data-bind\" => \"text: formatted_val\")))], Dict{Symbol,Any}(:className => \"interact-flex-row-right\"))], Dict{Symbol,Any}(:className => \"interact-flex-row interact-widget\")), Dict{String,Tuple{Observables.AbstractObservable,Union{Nothing, Bool}}}(\"changes\" => (Observable{Int64} with 1 listeners. Value:\n",
       "0, nothing),\"index\" => (Observable{Any} with 2 listeners. Value:\n",
       "37, nothing)), Set(String[]), nothing, Asset[Asset(\"js\", \"knockout\", \"/home/fitzgeraldt/.julia/packages/Knockout/IP1uR/src/../assets/knockout.js\"), Asset(\"js\", \"knockout_punches\", \"/home/fitzgeraldt/.julia/packages/Knockout/IP1uR/src/../assets/knockout_punches.js\"), Asset(\"js\", nothing, \"/home/fitzgeraldt/.julia/packages/InteractBase/9mFwe/src/../assets/all.js\"), Asset(\"css\", nothing, \"/home/fitzgeraldt/.julia/packages/InteractBase/9mFwe/src/../assets/style.css\"), Asset(\"css\", nothing, \"/home/fitzgeraldt/.julia/packages/Interact/SbgIk/src/../assets/bulma_confined.min.css\")], Dict{Any,Any}(\"changes\" => Any[WebIO.JSString(\"(function (val){return (val!=this.model[\\\"changes\\\"]()) ? (this.valueFromJulia[\\\"changes\\\"]=true, this.model[\\\"changes\\\"](val)) : undefined})\")],\"index\" => Any[WebIO.JSString(\"(function (val){return (val!=this.model[\\\"index\\\"]()) ? (this.valueFromJulia[\\\"index\\\"]=true, this.model[\\\"index\\\"](val)) : undefined})\")]), WebIO.ConnectionPool(Channel{Any}(sz_max:32,sz_curr:0), Set(AbstractConnection[]), Base.GenericCondition{Base.AlwaysLockedST}(Base.InvasiveLinkedList{Task}(Task (runnable) @0x00007f879801ba90, Task (runnable) @0x00007f879801ba90), Base.AlwaysLockedST(1))), WebIO.JSString[WebIO.JSString(\"function () {\\n    var handler = (function (ko, koPunches) {\\n    ko.punches.enableAll();\\n    ko.bindingHandlers.numericValue = {\\n        init: function(element, valueAccessor, allBindings, data, context) {\\n            var stringified = ko.observable(ko.unwrap(valueAccessor()));\\n            stringified.subscribe(function(value) {\\n                var val = parseFloat(value);\\n                if (!isNaN(val)) {\\n                    valueAccessor()(val);\\n                }\\n            });\\n            valueAccessor().subscribe(function(value) {\\n                var str = JSON.stringify(value);\\n                if ((str == \\\"0\\\") && ([\\\"-0\\\", \\\"-0.\\\"].indexOf(stringified()) >= 0))\\n                     return;\\n                 if ([\\\"null\\\", \\\"\\\"].indexOf(str) >= 0)\\n                     return;\\n                stringified(str);\\n            });\\n            ko.applyBindingsToNode(\\n                element,\\n                {\\n                    value: stringified,\\n                    valueUpdate: allBindings.get('valueUpdate'),\\n                },\\n                context,\\n            );\\n        }\\n    };\\n    var json_data = {\\\"formatted_vals\\\":[\\\"0\\\",\\\"5\\\",\\\"10\\\",\\\"15\\\",\\\"20\\\",\\\"25\\\",\\\"30\\\",\\\"35\\\",\\\"40\\\",\\\"45\\\",\\\"50\\\",\\\"55\\\",\\\"60\\\",\\\"65\\\",\\\"70\\\",\\\"75\\\",\\\"80\\\",\\\"85\\\",\\\"90\\\",\\\"95\\\",\\\"100\\\",\\\"105\\\",\\\"110\\\",\\\"115\\\",\\\"120\\\",\\\"125\\\",\\\"130\\\",\\\"135\\\",\\\"140\\\",\\\"145\\\",\\\"150\\\",\\\"155\\\",\\\"160\\\",\\\"165\\\",\\\"170\\\",\\\"175\\\",\\\"180\\\",\\\"185\\\",\\\"190\\\",\\\"195\\\",\\\"200\\\",\\\"205\\\",\\\"210\\\",\\\"215\\\",\\\"220\\\",\\\"225\\\",\\\"230\\\",\\\"235\\\",\\\"240\\\",\\\"245\\\",\\\"250\\\",\\\"255\\\",\\\"260\\\",\\\"265\\\",\\\"270\\\",\\\"275\\\",\\\"280\\\",\\\"285\\\",\\\"290\\\",\\\"295\\\",\\\"300\\\",\\\"305\\\",\\\"310\\\",\\\"315\\\",\\\"320\\\",\\\"325\\\",\\\"330\\\",\\\"335\\\",\\\"340\\\",\\\"345\\\",\\\"350\\\",\\\"355\\\",\\\"360\\\"],\\\"changes\\\":WebIO.getval({\\\"name\\\":\\\"changes\\\",\\\"scope\\\":\\\"10160039717019571389\\\",\\\"id\\\":\\\"ob_03\\\",\\\"type\\\":\\\"observable\\\"}),\\\"index\\\":WebIO.getval({\\\"name\\\":\\\"index\\\",\\\"scope\\\":\\\"10160039717019571389\\\",\\\"id\\\":\\\"ob_02\\\",\\\"type\\\":\\\"observable\\\"})};\\n    var self = this;\\n    function AppViewModel() {\\n        for (var key in json_data) {\\n            var el = json_data[key];\\n            this[key] = Array.isArray(el) ? ko.observableArray(el) : ko.observable(el);\\n        }\\n        \\n        [this[\\\"formatted_val\\\"]=ko.computed(    function(){\\n        return this.formatted_vals()[parseInt(this.index())-(1)];\\n    }\\n,this)]\\n        [this[\\\"changes\\\"].subscribe((function (val){!(this.valueFromJulia[\\\"changes\\\"]) ? (WebIO.setval({\\\"name\\\":\\\"changes\\\",\\\"scope\\\":\\\"10160039717019571389\\\",\\\"id\\\":\\\"ob_03\\\",\\\"type\\\":\\\"observable\\\"},val)) : undefined; return this.valueFromJulia[\\\"changes\\\"]=false}),self),this[\\\"index\\\"].subscribe((function (val){!(this.valueFromJulia[\\\"index\\\"]) ? (WebIO.setval({\\\"name\\\":\\\"index\\\",\\\"scope\\\":\\\"10160039717019571389\\\",\\\"id\\\":\\\"ob_02\\\",\\\"type\\\":\\\"observable\\\"},val)) : undefined; return this.valueFromJulia[\\\"index\\\"]=false}),self)]\\n        \\n    }\\n    self.model = new AppViewModel();\\n    self.valueFromJulia = {};\\n    for (var key in json_data) {\\n        self.valueFromJulia[key] = false;\\n    }\\n    ko.applyBindings(self.model, self.dom);\\n}\\n);\\n    (WebIO.importBlock({\\\"data\\\":[{\\\"name\\\":\\\"knockout\\\",\\\"type\\\":\\\"js\\\",\\\"url\\\":\\\"/assetserver/916302f6d5e8a06b15ad797fed7e4e15a53527fc-knockout.js\\\"},{\\\"name\\\":\\\"knockout_punches\\\",\\\"type\\\":\\\"js\\\",\\\"url\\\":\\\"/assetserver/5e1c85d4bec9f031a297a6fa800fb73907cc8805-knockout_punches.js\\\"}],\\\"type\\\":\\\"async_block\\\"})).then((imports) => handler.apply(this, imports));\\n}\\n\")])], Dict{Symbol,Any}(:className => \"field interact-widget\")), Node{WebIO.DOM}(WebIO.DOM(:html, :div), Any[Node{WebIO.DOM}(WebIO.DOM(:html, :div), Any[Scope(Node{WebIO.DOM}(WebIO.DOM(:html, :div), Any[Node{WebIO.DOM}(WebIO.DOM(:html, :input), Any[], Dict{Symbol,Any}(:attributes => Dict{Any,Any}(:type => \"checkbox\",Symbol(\"data-bind\") => \"checked: value, valueUpdate: 'change', event: {change: function (){this.changes(this.changes()+1)}}\"),:id => \"##403\",:className => \"switch \",:style => Dict{Any,Any}())), Node{WebIO.DOM}(WebIO.DOM(:html, :label), Any[\"polar\"], Dict{Symbol,Any}(:attributes => Dict(\"className\" => \"\",\"for\" => \"##403\")))], Dict{Symbol,Any}(:className => \"field interact-widget\")), Dict{String,Tuple{Observables.AbstractObservable,Union{Nothing, Bool}}}(\"changes\" => (Observable{Int64} with 1 listeners. Value:\n",
       "0, nothing),\"value\" => (Observable{Bool} with 2 listeners. Value:\n",
       "true, nothing)), Set(String[]), nothing, Asset[Asset(\"js\", \"knockout\", \"/home/fitzgeraldt/.julia/packages/Knockout/IP1uR/src/../assets/knockout.js\"), Asset(\"js\", \"knockout_punches\", \"/home/fitzgeraldt/.julia/packages/Knockout/IP1uR/src/../assets/knockout_punches.js\"), Asset(\"js\", nothing, \"/home/fitzgeraldt/.julia/packages/InteractBase/9mFwe/src/../assets/all.js\"), Asset(\"css\", nothing, \"/home/fitzgeraldt/.julia/packages/InteractBase/9mFwe/src/../assets/style.css\"), Asset(\"css\", nothing, \"/home/fitzgeraldt/.julia/packages/Interact/SbgIk/src/../assets/bulma_confined.min.css\")], Dict{Any,Any}(\"changes\" => Any[WebIO.JSString(\"(function (val){return (val!=this.model[\\\"changes\\\"]()) ? (this.valueFromJulia[\\\"changes\\\"]=true, this.model[\\\"changes\\\"](val)) : undefined})\")],\"value\" => Any[WebIO.JSString(\"(function (val){return (val!=this.model[\\\"value\\\"]()) ? (this.valueFromJulia[\\\"value\\\"]=true, this.model[\\\"value\\\"](val)) : undefined})\")]), WebIO.ConnectionPool(Channel{Any}(sz_max:32,sz_curr:0), Set(AbstractConnection[]), Base.GenericCondition{Base.AlwaysLockedST}(Base.InvasiveLinkedList{Task}(Task (runnable) @0x00007f8798019fc0, Task (runnable) @0x00007f8798019fc0), Base.AlwaysLockedST(1))), WebIO.JSString[WebIO.JSString(\"function () {\\n    var handler = (function (ko, koPunches) {\\n    ko.punches.enableAll();\\n    ko.bindingHandlers.numericValue = {\\n        init: function(element, valueAccessor, allBindings, data, context) {\\n            var stringified = ko.observable(ko.unwrap(valueAccessor()));\\n            stringified.subscribe(function(value) {\\n                var val = parseFloat(value);\\n                if (!isNaN(val)) {\\n                    valueAccessor()(val);\\n                }\\n            });\\n            valueAccessor().subscribe(function(value) {\\n                var str = JSON.stringify(value);\\n                if ((str == \\\"0\\\") && ([\\\"-0\\\", \\\"-0.\\\"].indexOf(stringified()) >= 0))\\n                     return;\\n                 if ([\\\"null\\\", \\\"\\\"].indexOf(str) >= 0)\\n                     return;\\n                stringified(str);\\n            });\\n            ko.applyBindingsToNode(\\n                element,\\n                {\\n                    value: stringified,\\n                    valueUpdate: allBindings.get('valueUpdate'),\\n                },\\n                context,\\n            );\\n        }\\n    };\\n    var json_data = {\\\"changes\\\":WebIO.getval({\\\"name\\\":\\\"changes\\\",\\\"scope\\\":\\\"4362986278218828489\\\",\\\"id\\\":\\\"ob_05\\\",\\\"type\\\":\\\"observable\\\"}),\\\"value\\\":WebIO.getval({\\\"name\\\":\\\"value\\\",\\\"scope\\\":\\\"4362986278218828489\\\",\\\"id\\\":\\\"ob_04\\\",\\\"type\\\":\\\"observable\\\"})};\\n    var self = this;\\n    function AppViewModel() {\\n        for (var key in json_data) {\\n            var el = json_data[key];\\n            this[key] = Array.isArray(el) ? ko.observableArray(el) : ko.observable(el);\\n        }\\n        \\n        \\n        [this[\\\"changes\\\"].subscribe((function (val){!(this.valueFromJulia[\\\"changes\\\"]) ? (WebIO.setval({\\\"name\\\":\\\"changes\\\",\\\"scope\\\":\\\"4362986278218828489\\\",\\\"id\\\":\\\"ob_05\\\",\\\"type\\\":\\\"observable\\\"},val)) : undefined; return this.valueFromJulia[\\\"changes\\\"]=false}),self),this[\\\"value\\\"].subscribe((function (val){!(this.valueFromJulia[\\\"value\\\"]) ? (WebIO.setval({\\\"name\\\":\\\"value\\\",\\\"scope\\\":\\\"4362986278218828489\\\",\\\"id\\\":\\\"ob_04\\\",\\\"type\\\":\\\"observable\\\"},val)) : undefined; return this.valueFromJulia[\\\"value\\\"]=false}),self)]\\n        \\n    }\\n    self.model = new AppViewModel();\\n    self.valueFromJulia = {};\\n    for (var key in json_data) {\\n        self.valueFromJulia[key] = false;\\n    }\\n    ko.applyBindings(self.model, self.dom);\\n}\\n);\\n    (WebIO.importBlock({\\\"data\\\":[{\\\"name\\\":\\\"knockout\\\",\\\"type\\\":\\\"js\\\",\\\"url\\\":\\\"/assetserver/916302f6d5e8a06b15ad797fed7e4e15a53527fc-knockout.js\\\"},{\\\"name\\\":\\\"knockout_punches\\\",\\\"type\\\":\\\"js\\\",\\\"url\\\":\\\"/assetserver/5e1c85d4bec9f031a297a6fa800fb73907cc8805-knockout_punches.js\\\"}],\\\"type\\\":\\\"async_block\\\"})).then((imports) => handler.apply(this, imports));\\n}\\n\")])], Dict{Symbol,Any}(:className => \"field interact-widget\"))], Dict{Symbol,Any}(:className => \"interact-flex-row interact-widget\")), Node{WebIO.DOM}(WebIO.DOM(:html, :div), Any[Node{WebIO.DOM}(WebIO.DOM(:html, :div), Any[Scope(Node{WebIO.DOM}(WebIO.DOM(:html, :div), Any[Node{WebIO.DOM}(WebIO.DOM(:html, :input), Any[], Dict{Symbol,Any}(:attributes => Dict{Any,Any}(:type => \"checkbox\",Symbol(\"data-bind\") => \"checked: value, valueUpdate: 'change', event: {change: function (){this.changes(this.changes()+1)}}\"),:id => \"##404\",:className => \"switch \",:style => Dict{Any,Any}())), Node{WebIO.DOM}(WebIO.DOM(:html, :label), Any[\"nt\"], Dict{Symbol,Any}(:attributes => Dict(\"className\" => \"\",\"for\" => \"##404\")))], Dict{Symbol,Any}(:className => \"field interact-widget\")), Dict{String,Tuple{Observables.AbstractObservable,Union{Nothing, Bool}}}(\"changes\" => (Observable{Int64} with 1 listeners. Value:\n",
       "0, nothing),\"value\" => (Observable{Bool} with 2 listeners. Value:\n",
       "false, nothing)), Set(String[]), nothing, Asset[Asset(\"js\", \"knockout\", \"/home/fitzgeraldt/.julia/packages/Knockout/IP1uR/src/../assets/knockout.js\"), Asset(\"js\", \"knockout_punches\", \"/home/fitzgeraldt/.julia/packages/Knockout/IP1uR/src/../assets/knockout_punches.js\"), Asset(\"js\", nothing, \"/home/fitzgeraldt/.julia/packages/InteractBase/9mFwe/src/../assets/all.js\"), Asset(\"css\", nothing, \"/home/fitzgeraldt/.julia/packages/InteractBase/9mFwe/src/../assets/style.css\"), Asset(\"css\", nothing, \"/home/fitzgeraldt/.julia/packages/Interact/SbgIk/src/../assets/bulma_confined.min.css\")], Dict{Any,Any}(\"changes\" => Any[WebIO.JSString(\"(function (val){return (val!=this.model[\\\"changes\\\"]()) ? (this.valueFromJulia[\\\"changes\\\"]=true, this.model[\\\"changes\\\"](val)) : undefined})\")],\"value\" => Any[WebIO.JSString(\"(function (val){return (val!=this.model[\\\"value\\\"]()) ? (this.valueFromJulia[\\\"value\\\"]=true, this.model[\\\"value\\\"](val)) : undefined})\")]), WebIO.ConnectionPool(Channel{Any}(sz_max:32,sz_curr:0), Set(AbstractConnection[]), Base.GenericCondition{Base.AlwaysLockedST}(Base.InvasiveLinkedList{Task}(Task (runnable) @0x00007f8799055120, Task (runnable) @0x00007f8799055120), Base.AlwaysLockedST(1))), WebIO.JSString[WebIO.JSString(\"function () {\\n    var handler = (function (ko, koPunches) {\\n    ko.punches.enableAll();\\n    ko.bindingHandlers.numericValue = {\\n        init: function(element, valueAccessor, allBindings, data, context) {\\n            var stringified = ko.observable(ko.unwrap(valueAccessor()));\\n            stringified.subscribe(function(value) {\\n                var val = parseFloat(value);\\n                if (!isNaN(val)) {\\n                    valueAccessor()(val);\\n                }\\n            });\\n            valueAccessor().subscribe(function(value) {\\n                var str = JSON.stringify(value);\\n                if ((str == \\\"0\\\") && ([\\\"-0\\\", \\\"-0.\\\"].indexOf(stringified()) >= 0))\\n                     return;\\n                 if ([\\\"null\\\", \\\"\\\"].indexOf(str) >= 0)\\n                     return;\\n                stringified(str);\\n            });\\n            ko.applyBindingsToNode(\\n                element,\\n                {\\n                    value: stringified,\\n                    valueUpdate: allBindings.get('valueUpdate'),\\n                },\\n                context,\\n            );\\n        }\\n    };\\n    var json_data = {\\\"changes\\\":WebIO.getval({\\\"name\\\":\\\"changes\\\",\\\"scope\\\":\\\"3300353413754703010\\\",\\\"id\\\":\\\"ob_07\\\",\\\"type\\\":\\\"observable\\\"}),\\\"value\\\":WebIO.getval({\\\"name\\\":\\\"value\\\",\\\"scope\\\":\\\"3300353413754703010\\\",\\\"id\\\":\\\"ob_06\\\",\\\"type\\\":\\\"observable\\\"})};\\n    var self = this;\\n    function AppViewModel() {\\n        for (var key in json_data) {\\n            var el = json_data[key];\\n            this[key] = Array.isArray(el) ? ko.observableArray(el) : ko.observable(el);\\n        }\\n        \\n        \\n        [this[\\\"changes\\\"].subscribe((function (val){!(this.valueFromJulia[\\\"changes\\\"]) ? (WebIO.setval({\\\"name\\\":\\\"changes\\\",\\\"scope\\\":\\\"3300353413754703010\\\",\\\"id\\\":\\\"ob_07\\\",\\\"type\\\":\\\"observable\\\"},val)) : undefined; return this.valueFromJulia[\\\"changes\\\"]=false}),self),this[\\\"value\\\"].subscribe((function (val){!(this.valueFromJulia[\\\"value\\\"]) ? (WebIO.setval({\\\"name\\\":\\\"value\\\",\\\"scope\\\":\\\"3300353413754703010\\\",\\\"id\\\":\\\"ob_06\\\",\\\"type\\\":\\\"observable\\\"},val)) : undefined; return this.valueFromJulia[\\\"value\\\"]=false}),self)]\\n        \\n    }\\n    self.model = new AppViewModel();\\n    self.valueFromJulia = {};\\n    for (var key in json_data) {\\n        self.valueFromJulia[key] = false;\\n    }\\n    ko.applyBindings(self.model, self.dom);\\n}\\n);\\n    (WebIO.importBlock({\\\"data\\\":[{\\\"name\\\":\\\"knockout\\\",\\\"type\\\":\\\"js\\\",\\\"url\\\":\\\"/assetserver/916302f6d5e8a06b15ad797fed7e4e15a53527fc-knockout.js\\\"},{\\\"name\\\":\\\"knockout_punches\\\",\\\"type\\\":\\\"js\\\",\\\"url\\\":\\\"/assetserver/5e1c85d4bec9f031a297a6fa800fb73907cc8805-knockout_punches.js\\\"}],\\\"type\\\":\\\"async_block\\\"})).then((imports) => handler.apply(this, imports));\\n}\\n\")])], Dict{Symbol,Any}(:className => \"field interact-widget\"))], Dict{Symbol,Any}(:className => \"interact-flex-row interact-widget\")), Node{WebIO.DOM}(WebIO.DOM(:html, :div), Any[Node{WebIO.DOM}(WebIO.DOM(:html, :div), Any[Scope(Node{WebIO.DOM}(WebIO.DOM(:html, :div), Any[Node{WebIO.DOM}(WebIO.DOM(:html, :input), Any[], Dict{Symbol,Any}(:attributes => Dict{Any,Any}(:type => \"checkbox\",Symbol(\"data-bind\") => \"checked: value, valueUpdate: 'change', event: {change: function (){this.changes(this.changes()+1)}}\"),:id => \"##405\",:className => \"switch \",:style => Dict{Any,Any}())), Node{WebIO.DOM}(WebIO.DOM(:html, :label), Any[\"circleOfRotation\"], Dict{Symbol,Any}(:attributes => Dict(\"className\" => \"\",\"for\" => \"##405\")))], Dict{Symbol,Any}(:className => \"field interact-widget\")), Dict{String,Tuple{Observables.AbstractObservable,Union{Nothing, Bool}}}(\"changes\" => (Observable{Int64} with 1 listeners. Value:\n",
       "0, nothing),\"value\" => (Observable{Bool} with 2 listeners. Value:\n",
       "false, nothing)), Set(String[]), nothing, Asset[Asset(\"js\", \"knockout\", \"/home/fitzgeraldt/.julia/packages/Knockout/IP1uR/src/../assets/knockout.js\"), Asset(\"js\", \"knockout_punches\", \"/home/fitzgeraldt/.julia/packages/Knockout/IP1uR/src/../assets/knockout_punches.js\"), Asset(\"js\", nothing, \"/home/fitzgeraldt/.julia/packages/InteractBase/9mFwe/src/../assets/all.js\"), Asset(\"css\", nothing, \"/home/fitzgeraldt/.julia/packages/InteractBase/9mFwe/src/../assets/style.css\"), Asset(\"css\", nothing, \"/home/fitzgeraldt/.julia/packages/Interact/SbgIk/src/../assets/bulma_confined.min.css\")], Dict{Any,Any}(\"changes\" => Any[WebIO.JSString(\"(function (val){return (val!=this.model[\\\"changes\\\"]()) ? (this.valueFromJulia[\\\"changes\\\"]=true, this.model[\\\"changes\\\"](val)) : undefined})\")],\"value\" => Any[WebIO.JSString(\"(function (val){return (val!=this.model[\\\"value\\\"]()) ? (this.valueFromJulia[\\\"value\\\"]=true, this.model[\\\"value\\\"](val)) : undefined})\")]), WebIO.ConnectionPool(Channel{Any}(sz_max:32,sz_curr:0), Set(AbstractConnection[]), Base.GenericCondition{Base.AlwaysLockedST}(Base.InvasiveLinkedList{Task}(Task (runnable) @0x00007f8799055390, Task (runnable) @0x00007f8799055390), Base.AlwaysLockedST(1))), WebIO.JSString[WebIO.JSString(\"function () {\\n    var handler = (function (ko, koPunches) {\\n    ko.punches.enableAll();\\n    ko.bindingHandlers.numericValue = {\\n        init: function(element, valueAccessor, allBindings, data, context) {\\n            var stringified = ko.observable(ko.unwrap(valueAccessor()));\\n            stringified.subscribe(function(value) {\\n                var val = parseFloat(value);\\n                if (!isNaN(val)) {\\n                    valueAccessor()(val);\\n                }\\n            });\\n            valueAccessor().subscribe(function(value) {\\n                var str = JSON.stringify(value);\\n                if ((str == \\\"0\\\") && ([\\\"-0\\\", \\\"-0.\\\"].indexOf(stringified()) >= 0))\\n                     return;\\n                 if ([\\\"null\\\", \\\"\\\"].indexOf(str) >= 0)\\n                     return;\\n                stringified(str);\\n            });\\n            ko.applyBindingsToNode(\\n                element,\\n                {\\n                    value: stringified,\\n                    valueUpdate: allBindings.get('valueUpdate'),\\n                },\\n                context,\\n            );\\n        }\\n    };\\n    var json_data = {\\\"changes\\\":WebIO.getval({\\\"name\\\":\\\"changes\\\",\\\"scope\\\":\\\"17299066999596822484\\\",\\\"id\\\":\\\"ob_09\\\",\\\"type\\\":\\\"observable\\\"}),\\\"value\\\":WebIO.getval({\\\"name\\\":\\\"value\\\",\\\"scope\\\":\\\"17299066999596822484\\\",\\\"id\\\":\\\"ob_08\\\",\\\"type\\\":\\\"observable\\\"})};\\n    var self = this;\\n    function AppViewModel() {\\n        for (var key in json_data) {\\n            var el = json_data[key];\\n            this[key] = Array.isArray(el) ? ko.observableArray(el) : ko.observable(el);\\n        }\\n        \\n        \\n        [this[\\\"changes\\\"].subscribe((function (val){!(this.valueFromJulia[\\\"changes\\\"]) ? (WebIO.setval({\\\"name\\\":\\\"changes\\\",\\\"scope\\\":\\\"17299066999596822484\\\",\\\"id\\\":\\\"ob_09\\\",\\\"type\\\":\\\"observable\\\"},val)) : undefined; return this.valueFromJulia[\\\"changes\\\"]=false}),self),this[\\\"value\\\"].subscribe((function (val){!(this.valueFromJulia[\\\"value\\\"]) ? (WebIO.setval({\\\"name\\\":\\\"value\\\",\\\"scope\\\":\\\"17299066999596822484\\\",\\\"id\\\":\\\"ob_08\\\",\\\"type\\\":\\\"observable\\\"},val)) : undefined; return this.valueFromJulia[\\\"value\\\"]=false}),self)]\\n        \\n    }\\n    self.model = new AppViewModel();\\n    self.valueFromJulia = {};\\n    for (var key in json_data) {\\n        self.valueFromJulia[key] = false;\\n    }\\n    ko.applyBindings(self.model, self.dom);\\n}\\n);\\n    (WebIO.importBlock({\\\"data\\\":[{\\\"name\\\":\\\"knockout\\\",\\\"type\\\":\\\"js\\\",\\\"url\\\":\\\"/assetserver/916302f6d5e8a06b15ad797fed7e4e15a53527fc-knockout.js\\\"},{\\\"name\\\":\\\"knockout_punches\\\",\\\"type\\\":\\\"js\\\",\\\"url\\\":\\\"/assetserver/5e1c85d4bec9f031a297a6fa800fb73907cc8805-knockout_punches.js\\\"}],\\\"type\\\":\\\"async_block\\\"})).then((imports) => handler.apply(this, imports));\\n}\\n\")])], Dict{Symbol,Any}(:className => \"field interact-widget\"))], Dict{Symbol,Any}(:className => \"interact-flex-row interact-widget\")), Observable{Any} with 0 listeners. Value:\n",
       "Node{WebIO.DOM}(WebIO.DOM(:html, :div), Any[Plot{Plots.GRBackend() n=6}], Dict{Symbol,Any}(:className => \"interact-flex-row interact-widget\"))], Dict{Symbol,Any}())"
      ]
     },
     "execution_count": 3,
     "metadata": {
      "@webio": {
       "kernelId": "b4116824-f183-4f83-a7e2-154d3e5c40e9"
      }
     },
     "output_type": "execute_result"
    }
   ],
   "source": [
    "x(θ) = r(θ)*cos(θ)\n",
    "y(θ) = r(θ)*sin(θ)\n",
    "xmax = maximum(x,0:0.01π:2π)\n",
    "xmin = minimum(x,0:0.01π:2π)\n",
    "ymax = maximum(y,0:0.01π:2π)\n",
    "ymin = minimum(y,0:0.01π:2π)\n",
    "\n",
    "rmax = maximum(r,0:0.01π:2π)\n",
    "rmin = minimum(r,0:0.01π:2π)\n",
    "\n",
    "ψ(θ) = atan(r(θ),ForwardDiff.derivative(r,θ))\n",
    "\n",
    "colorset = [ RGB(0.89411764705882357, 0.10196078431372549, 0.10980392156862745),\n",
    "    RGB(0.21568627450980393, 0.49411764705882355, 0.72156862745098038),\n",
    "    RGB(0.30196078431372547, 0.68627450980392157, 0.29019607843137257),\n",
    "    RGB(0.59607843137254901, 0.30588235294117649, 0.63921568627450975),\n",
    "    RGB(1.0,                 0.49803921568627452, 0.0                ),\n",
    "    RGB(1.0,                 1.0,                 0.2                ),\n",
    "    RGB(0.65098039215686276, 0.33725490196078434, 0.15686274509803921),\n",
    "    RGB(0.96862745098039216, 0.50588235294117645, 0.74901960784313726),\n",
    "    RGB(0.6,                 0.6,                 0.6)]\n",
    "\n",
    "@manipulate for ϕ = angleRange, polar = true, nt = false, circleOfRotation = false\n",
    "    plt = plot( x, y, 0, 2π, \n",
    "        aspect_ratio=:equal, label=\"\", linewidth=3,\n",
    "        xlims=[xmin-2,xmax+2],\n",
    "        ylims=[ymin-2, ymax+2],\n",
    "        color=colorset[2],\n",
    "        xlabel=\"x\", ylabel=\"y\")\n",
    "    plot!(plt, [0,xmax+2],[0,0], label=\"\", color=colorset[9])\n",
    "    plot!(plt, t->0.2*rmin*cosd(t), t->0.2*rmin*sind(t), 0, ϕ, label=\"\",\n",
    "        color=colorset[9])\n",
    "    \n",
    "    θ = ϕ*π/180\n",
    "    x1 = x(θ)\n",
    "    y1 = y(θ)\n",
    "    plot!(plt, [0,x1], [0,y1], linewidth=3, label=\"\", color=colorset[4] )\n",
    "    \n",
    "    if polar\n",
    "        urx = cos(θ)\n",
    "        ury = sin(θ)\n",
    "        plot!(plt, [x1,x1+urx], [y1, y1+ury], \n",
    "            arrow=1, label=\"\", linewidth=3, \n",
    "            color=colorset[1])\n",
    "        uθx = -sin(θ)\n",
    "        uθy =  cos(θ)\n",
    "        plot!(plt, [x1,x1+uθx], [y1, y1+uθy], \n",
    "            arrow=1, label=\"\", linewidth=3,\n",
    "            color=colorset[1] )\n",
    "    end\n",
    "\n",
    "    if nt\n",
    "        ψ1 = ψ(θ)\n",
    "        utx = cos(θ+ψ1)\n",
    "        uty = sin(θ+ψ1)\n",
    "        plot!(plt, [x1, x1+utx], [y1, y1+uty], \n",
    "            arrow=1, label=\"\",linewidth=3,\n",
    "            color=colorset[3] )\n",
    "        unx = -sin(θ+ψ1)\n",
    "        uny =  cos(θ+ψ1)\n",
    "        plot!(plt, [x1,x1+unx], [y1, y1+uny], \n",
    "            arrow=1, label=\"\", linewidth=3,\n",
    "            color=colorset[3])\n",
    "    end\n",
    "    \n",
    "    if circleOfRotation\n",
    "        rθ = ForwardDiff.derivative(r,θ)\n",
    "        rθθ = ForwardDiff.derivative( t->ForwardDiff.derivative(r,t), θ )\n",
    "        R = r(θ)\n",
    "        ρ = (R^2 + rθ^2)^(3/2) / abs( R^2 + 2*rθ^2 - R*rθθ )\n",
    "        \n",
    "        γ = LinRange(0,2π,50)\n",
    "        xρ = ρ*cos.(γ)\n",
    "        yρ = ρ*sin.(γ)\n",
    "        ψ1 = ψ(θ)\n",
    "        unx = -sin(θ+ψ1)\n",
    "        uny =  cos(θ+ψ1)\n",
    "        \n",
    "        x2 = x1 + unx*ρ\n",
    "        y2 = y1 + uny*ρ\n",
    "        \n",
    "        plot!(plt, x2 .+ xρ, y2 .+ yρ, linestyle=:dash, label=\"\", color=colorset[5] )\n",
    "        \n",
    "        scatter!(plt, [x2], [y2], label=\"\", color=colorset[5])\n",
    "        \n",
    "    end\n",
    "       \n",
    "    plot(plt)\n",
    "end"
   ]
  },
  {
   "cell_type": "code",
   "execution_count": null,
   "metadata": {},
   "outputs": [],
   "source": []
  }
 ],
 "metadata": {
  "@webio": {
   "lastCommId": "3b87c1dd-e20b-4c36-8c9b-641937a49b26",
   "lastKernelId": "b4116824-f183-4f83-a7e2-154d3e5c40e9"
  },
  "kernelspec": {
   "display_name": "Julia 1.3.0",
   "language": "julia",
   "name": "julia-1.3"
  },
  "language_info": {
   "file_extension": ".jl",
   "mimetype": "application/julia",
   "name": "julia",
   "version": "1.3.0"
  }
 },
 "nbformat": 4,
 "nbformat_minor": 4
}
