{
 "cells": [
  {
   "cell_type": "markdown",
   "metadata": {},
   "source": [
    "# Udwadia-Kalaba Pendulum"
   ]
  },
  {
   "cell_type": "code",
   "execution_count": 1,
   "metadata": {},
   "outputs": [
    {
     "name": "stderr",
     "output_type": "stream",
     "text": [
      "┌ Info: Precompiling SymPy [24249f21-da20-56a4-8eb1-6a02cf4ae2e6]\n",
      "└ @ Base loading.jl:1273\n"
     ]
    }
   ],
   "source": [
    "using SymPy, LinearAlgebra"
   ]
  },
  {
   "cell_type": "code",
   "execution_count": 2,
   "metadata": {},
   "outputs": [
    {
     "data": {
      "text/latex": [
       "\\begin{equation*}y{\\left(t \\right)}\\end{equation*}"
      ],
      "text/plain": [
       "y(t)"
      ]
     },
     "execution_count": 2,
     "metadata": {},
     "output_type": "execute_result"
    }
   ],
   "source": [
    "m, l, g, t = symbols(\"m, l, g, t\", positive=true)\n",
    "x = SymFunction(\"x\")(t)\n",
    "y = SymFunction(\"y\")(t)"
   ]
  },
  {
   "cell_type": "code",
   "execution_count": 3,
   "metadata": {},
   "outputs": [
    {
     "data": {
      "text/latex": [
       "\\[\\left[ \\begin{array}{rr}m&0\\\\0&m\\end{array}\\right]\\]"
      ],
      "text/plain": [
       "2×2 Array{Sym,2}:\n",
       " m  0\n",
       " 0  m"
      ]
     },
     "execution_count": 3,
     "metadata": {},
     "output_type": "execute_result"
    }
   ],
   "source": [
    "M = diagm(0=>[m,m])"
   ]
  },
  {
   "cell_type": "code",
   "execution_count": 4,
   "metadata": {},
   "outputs": [
    {
     "data": {
      "text/latex": [
       "\\[ \\left[ \\begin{array}{r}0\\\\- g m\\end{array} \\right] \\]"
      ],
      "text/plain": [
       "2-element Array{Sym,1}:\n",
       "    0\n",
       " -g*m"
      ]
     },
     "execution_count": 4,
     "metadata": {},
     "output_type": "execute_result"
    }
   ],
   "source": [
    "# [Fx, Fy]\n",
    "Qex = [0, -m*g]"
   ]
  },
  {
   "cell_type": "code",
   "execution_count": 5,
   "metadata": {},
   "outputs": [
    {
     "data": {
      "text/latex": [
       "\\[\\left[ \\begin{array}{rr}\\sqrt{m}&0\\\\0&\\sqrt{m}\\end{array}\\right]\\]"
      ],
      "text/plain": [
       "2×2 Array{Sym,2}:\n",
       " sqrt(m)        0\n",
       "       0  sqrt(m)"
      ]
     },
     "execution_count": 5,
     "metadata": {},
     "output_type": "execute_result"
    }
   ],
   "source": [
    "# This is cheating, since M is diagonal\n",
    "Ms = sqrt.(M)"
   ]
  },
  {
   "cell_type": "markdown",
   "metadata": {},
   "source": [
    "We have 1 constraint\n",
    "$$ \\phi = 0 = x^2 + y^2 - l^2 $$"
   ]
  },
  {
   "cell_type": "code",
   "execution_count": 6,
   "metadata": {},
   "outputs": [
    {
     "data": {
      "text/latex": [
       "\\begin{equation*}- l^{2} + x^{2}{\\left(t \\right)} + y^{2}{\\left(t \\right)}\\end{equation*}"
      ],
      "text/plain": [
       "   2    2       2   \n",
       "- l  + x (t) + y (t)"
      ]
     },
     "execution_count": 6,
     "metadata": {},
     "output_type": "execute_result"
    }
   ],
   "source": [
    "ϕ = x^2 + y^2 - l^2"
   ]
  },
  {
   "cell_type": "code",
   "execution_count": 7,
   "metadata": {},
   "outputs": [
    {
     "data": {
      "text/latex": [
       "\\[ \\left[ \\begin{array}{r}x{\\left(t \\right)}\\\\y{\\left(t \\right)}\\end{array} \\right] \\]"
      ],
      "text/plain": [
       "2-element Array{Sym,1}:\n",
       " x(t)\n",
       " y(t)"
      ]
     },
     "execution_count": 7,
     "metadata": {},
     "output_type": "execute_result"
    }
   ],
   "source": [
    "q = [x,y]"
   ]
  },
  {
   "cell_type": "code",
   "execution_count": 8,
   "metadata": {},
   "outputs": [
    {
     "data": {
      "text/plain": [
       "trans (generic function with 1 method)"
      ]
     },
     "execution_count": 8,
     "metadata": {},
     "output_type": "execute_result"
    }
   ],
   "source": [
    "# Because the transpose in Julia/SymPy seems to be the Adjoint\n",
    "trans(A) = [ A[i,j] for j = 1:size(A,2), i = 1:size(A,1) ]"
   ]
  },
  {
   "cell_type": "code",
   "execution_count": 9,
   "metadata": {},
   "outputs": [
    {
     "data": {
      "text/latex": [
       "\\[\\left[ \\begin{array}{rr}2 x{\\left(t \\right)}&2 y{\\left(t \\right)}\\end{array}\\right]\\]"
      ],
      "text/plain": [
       "1×2 Array{Sym,2}:\n",
       " 2*x(t)  2*y(t)"
      ]
     },
     "execution_count": 9,
     "metadata": {},
     "output_type": "execute_result"
    }
   ],
   "source": [
    "A = [ diff(ϕ,z) for z in q ] |> trans"
   ]
  },
  {
   "cell_type": "code",
   "execution_count": 10,
   "metadata": {},
   "outputs": [
    {
     "data": {
      "text/latex": [
       "\\[ \\left[ \\begin{array}{r}2 \\left(\\frac{d}{d t} x{\\left(t \\right)}\\right)^{2} + 2 \\left(\\frac{d}{d t} y{\\left(t \\right)}\\right)^{2}\\end{array} \\right] \\]"
      ],
      "text/plain": [
       "1-element Array{Sym,1}:\n",
       " 2*Derivative(x(t), t)^2 + 2*Derivative(y(t), t)^2"
      ]
     },
     "execution_count": 10,
     "metadata": {},
     "output_type": "execute_result"
    }
   ],
   "source": [
    "b = ( trans(diff.(q,t))*[ diff(ϕ,z1,z2) for \n",
    "            z1 in q, z2 in q ]*diff.(q,t) )"
   ]
  },
  {
   "cell_type": "code",
   "execution_count": 11,
   "metadata": {},
   "outputs": [
    {
     "data": {
      "text/latex": [
       "\\[\\left[ \\begin{array}{rr}\\frac{2 x{\\left(t \\right)}}{\\sqrt{m}}&\\frac{2 y{\\left(t \\right)}}{\\sqrt{m}}\\end{array}\\right]\\]"
      ],
      "text/plain": [
       "1×2 Array{Sym,2}:\n",
       " 2*x(t)/sqrt(m)  2*y(t)/sqrt(m)"
      ]
     },
     "execution_count": 11,
     "metadata": {},
     "output_type": "execute_result"
    }
   ],
   "source": [
    "P = A*inv(Ms)"
   ]
  },
  {
   "cell_type": "code",
   "execution_count": 12,
   "metadata": {},
   "outputs": [
    {
     "data": {
      "text/latex": [
       "\\[\\left[ \\begin{array}{r}\\frac{2 x{\\left(t \\right)}}{\\sqrt{m} \\left(\\frac{4 x^{2}{\\left(t \\right)}}{m} + \\frac{4 y^{2}{\\left(t \\right)}}{m}\\right)}\\\\\\frac{2 y{\\left(t \\right)}}{\\sqrt{m} \\left(\\frac{4 x^{2}{\\left(t \\right)}}{m} + \\frac{4 y^{2}{\\left(t \\right)}}{m}\\right)}\\end{array}\\right]\\]"
      ],
      "text/plain": [
       "2×1 Array{Sym,2}:\n",
       " 2*x(t)/(sqrt(m)*(4*x(t)^2/m + 4*y(t)^2/m))\n",
       " 2*y(t)/(sqrt(m)*(4*x(t)^2/m + 4*y(t)^2/m))"
      ]
     },
     "execution_count": 12,
     "metadata": {},
     "output_type": "execute_result"
    }
   ],
   "source": [
    "Pplus = trans(P)*inv(P*trans(P))"
   ]
  },
  {
   "cell_type": "code",
   "execution_count": 13,
   "metadata": {},
   "outputs": [
    {
     "data": {
      "text/latex": [
       "\\[ \\left[ \\begin{array}{r}\\frac{\\left(g y{\\left(t \\right)} + \\left(\\frac{d}{d t} x{\\left(t \\right)}\\right)^{2} + \\left(\\frac{d}{d t} y{\\left(t \\right)}\\right)^{2}\\right) x{\\left(t \\right)}}{x^{2}{\\left(t \\right)} + y^{2}{\\left(t \\right)}}\\\\\\frac{- g x^{2}{\\left(t \\right)} + y{\\left(t \\right)} \\left(\\frac{d}{d t} x{\\left(t \\right)}\\right)^{2} + y{\\left(t \\right)} \\left(\\frac{d}{d t} y{\\left(t \\right)}\\right)^{2}}{x^{2}{\\left(t \\right)} + y^{2}{\\left(t \\right)}}\\end{array} \\right] \\]"
      ],
      "text/plain": [
       "2-element Array{Sym,1}:\n",
       "         (g*y(t) + Derivative(x(t), t)^2 + Derivative(y(t), t)^2)*x(t)/(x(t)^2 + y(t)^2)\n",
       " (-g*x(t)^2 + y(t)*Derivative(x(t), t)^2 + y(t)*Derivative(y(t), t)^2)/(x(t)^2 + y(t)^2)"
      ]
     },
     "execution_count": 13,
     "metadata": {},
     "output_type": "execute_result"
    }
   ],
   "source": [
    "qdd = simplify.( inv(M)*( Qex + Ms*Pplus*(b - A*inv(M)*Qex) ) )"
   ]
  },
  {
   "cell_type": "code",
   "execution_count": null,
   "metadata": {},
   "outputs": [],
   "source": []
  }
 ],
 "metadata": {
  "@webio": {
   "lastCommId": null,
   "lastKernelId": null
  },
  "kernelspec": {
   "display_name": "Julia 1.3.0",
   "language": "julia",
   "name": "julia-1.3"
  },
  "language_info": {
   "file_extension": ".jl",
   "mimetype": "application/julia",
   "name": "julia",
   "version": "1.3.0"
  }
 },
 "nbformat": 4,
 "nbformat_minor": 4
}
