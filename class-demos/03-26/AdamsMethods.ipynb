{
 "cells": [
  {
   "cell_type": "markdown",
   "metadata": {},
   "source": [
    "# Derivation of Classical Multistep Methods"
   ]
  },
  {
   "cell_type": "code",
   "execution_count": null,
   "metadata": {},
   "outputs": [],
   "source": [
    "using Pkg\n",
    "Pkg.activate(\".\")\n",
    "using SymPy"
   ]
  },
  {
   "cell_type": "markdown",
   "metadata": {},
   "source": [
    "## Lagrange interpolating polynomials\n",
    "[Wikipedia](https://en.wikipedia.org/wiki/Lagrange_polynomial) has a practical definition of the Lagrange interpolating polynomial.  This is basically a polynomial that when given $n$ points passes through each point and is of order $n-1$.  \n",
    "\n",
    "Given a set of $k+1$ data points\n",
    "$$(t_0, x_0),\\ldots,(t_j, x_j),\\ldots,(t_k, x_k)$$\n",
    "where no two $t_j$ are the same, the ''interpolation polynomial in the Lagrange form'' is a linear combination\n",
    "$$L(t) := \\sum_{j=0}^{k} x_j \\ell_j(t)$$\n",
    "of Lagrange basis polynomials\n",
    "$$\\ell_j(t) := \\prod_{\\begin{smallmatrix}0\\le m\\le k\\\\ m\\neq j\\end{smallmatrix}} \\frac{t-t_m}{t_j-t_m} = \\frac{(t-t_0)}{(t_j-t_0)} \\cdots \\frac{(t-t_{j-1})}{(t_j-t_{j-1})} \\frac{(t-t_{j+1})}{(t_j-t_{j+1})} \\cdots \\frac{(t-t_k)}{(t_j-t_k)},$$\n",
    "\n",
    "where $0 \\le j\\le k$. Note how, given the initial assumption that no two $t_i$ are the same, $t_j - t_m \\neq 0$, so this expression is always well-defined. \n",
    "\n",
    "Let's define a bunch of variables to use later."
   ]
  },
  {
   "cell_type": "code",
   "execution_count": null,
   "metadata": {},
   "outputs": [],
   "source": [
    "x1, x2, x3, x4, x5 = symbols(\"x1, x2, x3, x4, x5\")\n",
    "t1, t2, t3, t4, t5 = symbols(\"t1, t2, t3, t4, t5\")\n",
    "t = symbols(\"t\")\n",
    "h = symbols(\"h\", positive=true)\n",
    "X = [x1,x2,x3,x4,x5]\n",
    "T = [t1,t2,t3,t4,t5]\n",
    ";"
   ]
  },
  {
   "cell_type": "markdown",
   "metadata": {},
   "source": [
    "Using the definition above, we can now define the inner part of the Lagrange interpolating polynomials $l$"
   ]
  },
  {
   "cell_type": "code",
   "execution_count": null,
   "metadata": {},
   "outputs": [],
   "source": [
    "function l(t,j,k)\n",
    "    l = 1\n",
    "    for m in 1:k\n",
    "        if m != j\n",
    "            l *= ( t - T[m] )/( T[j] - T[m] )\n",
    "        end        \n",
    "    end\n",
    "    return l\n",
    "end\n",
    ";"
   ]
  },
  {
   "cell_type": "markdown",
   "metadata": {},
   "source": [
    "## Adams-Bashforth\n",
    "We can setup this problem as one of interpolation.  We want to approximate\n",
    "$$ x_{n+s} = x_{n+s-1} + \\int\\limits_{t_{n+s-1}}^{ t_{n+s}} f(x,t)\\,dt$$\n",
    "and we can approximate $f(x,t)$ with a Lagrange polynomial from the previous several steps.\n",
    "$$f(x,t) \\approx p(t) =  \\sum_{j=0}^{k} f(x_j,t_j) \\ell_j(t)$$\n",
    "\n",
    "The explicit part of Adams-Bashforth is that **only** previous points are considered.  So in the numbering used in this sheet, if we want to know what's happening at $f_3$, then we build an interpolation that involves only data from $f_2$ and $f_1$."
   ]
  },
  {
   "cell_type": "code",
   "execution_count": null,
   "metadata": {},
   "outputs": [],
   "source": [
    "f1,f2,f3,f4,f5 = symbols(\"f_1, f_2, f_3, f_4, f_5\")\n",
    "F = [f1,f2,f3,f4,f5]\n",
    ";"
   ]
  },
  {
   "cell_type": "markdown",
   "metadata": {},
   "source": [
    "## Example: AB2"
   ]
  },
  {
   "cell_type": "code",
   "execution_count": null,
   "metadata": {},
   "outputs": [],
   "source": [
    "n = 2\n",
    "P = [ F[i]*l(t, i, n) for i in 1:n ] |> sum"
   ]
  },
  {
   "cell_type": "code",
   "execution_count": null,
   "metadata": {},
   "outputs": [],
   "source": [
    "intP = integrate(P, (t, T[n], T[n+1]) ) |> simplify"
   ]
  },
  {
   "cell_type": "markdown",
   "metadata": {},
   "source": [
    "Now let's assume that the step size is a constant $h$"
   ]
  },
  {
   "cell_type": "code",
   "execution_count": null,
   "metadata": {},
   "outputs": [],
   "source": [
    "intP_h = intP |> subs( t2=>t1+h, t3=> t1+2*h) |> simplify"
   ]
  },
  {
   "cell_type": "markdown",
   "metadata": {},
   "source": [
    "Finally we arrive at the expression for the classic AB2 method"
   ]
  },
  {
   "cell_type": "code",
   "execution_count": null,
   "metadata": {},
   "outputs": [],
   "source": [
    "Eq(x3, x2 + intP_h)"
   ]
  },
  {
   "cell_type": "markdown",
   "metadata": {},
   "source": [
    "## Adams-Moulton\n",
    "These methods differ from Bashforth in how $p(t)$ is built.  Instead of only using previous values, it involves the unknown current value as well.  This makes AM methods *implicit*.\n",
    "\n",
    "Compared to the analysis before, the interpolation $P$ is bumped up 1 order, bounds of the integral are adjusted.\n",
    "\n",
    "### AB3: Two previous states, \n",
    "This is the same storage need as before in AB2"
   ]
  },
  {
   "cell_type": "code",
   "execution_count": null,
   "metadata": {},
   "outputs": [],
   "source": [
    "n = 3\n",
    "P = [ F[i]*l(t, i, n) for i in 1:n ] |> sum"
   ]
  },
  {
   "cell_type": "code",
   "execution_count": null,
   "metadata": {},
   "outputs": [],
   "source": [
    "intP = integrate(P, (t, T[n-1], T[n] ) ) |> simplify"
   ]
  },
  {
   "cell_type": "markdown",
   "metadata": {},
   "source": [
    "Again, let's assume that the step size is constant $h$"
   ]
  },
  {
   "cell_type": "code",
   "execution_count": null,
   "metadata": {},
   "outputs": [],
   "source": [
    "intP_h = intP |> subs( t2=>t1+h, t3=> t1+2*h ) |> simplify\n",
    "Eq(x3, x2 + intP_h)"
   ]
  },
  {
   "cell_type": "code",
   "execution_count": null,
   "metadata": {},
   "outputs": [],
   "source": []
  }
 ],
 "metadata": {
  "@webio": {
   "lastCommId": null,
   "lastKernelId": null
  },
  "kernelspec": {
   "display_name": "Julia 1.4.0",
   "language": "julia",
   "name": "julia-1.4"
  },
  "language_info": {
   "file_extension": ".jl",
   "mimetype": "application/julia",
   "name": "julia",
   "version": "1.4.0"
  }
 },
 "nbformat": 4,
 "nbformat_minor": 2
}
