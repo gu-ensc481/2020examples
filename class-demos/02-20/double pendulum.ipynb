{
 "cells": [
  {
   "cell_type": "markdown",
   "metadata": {},
   "source": [
    "# Double Pendulum\n",
    "Example of Lagrange and Hamilton equations of a double simple-pendulum.\n",
    "\n",
    "## Setup\n",
    "Define the constants and position vectors"
   ]
  },
  {
   "cell_type": "code",
   "execution_count": 1,
   "metadata": {},
   "outputs": [],
   "source": [
    "using SymPy"
   ]
  },
  {
   "cell_type": "code",
   "execution_count": 2,
   "metadata": {},
   "outputs": [],
   "source": [
    "m1, m2, l1, l2, g = symbols(\"m1, m2, l1, l2, g\", positive=true)\n",
    "t = symbols(\"t\")\n",
    "θ1 = SymFunction(\"theta_1\")(t)\n",
    "θ2 = SymFunction(\"theta_2\")(t)\n",
    "ihat = [1,0,0]\n",
    "jhat = [0,1,0]\n",
    "khat = [0,0,1]\n",
    ";"
   ]
  },
  {
   "cell_type": "code",
   "execution_count": 3,
   "metadata": {},
   "outputs": [
    {
     "data": {
      "text/latex": [
       "\\[ \\left[ \\begin{array}{r}l_{1} \\sin{\\left(\\theta_{1}{\\left(t \\right)} \\right)}\\\\- l_{1} \\cos{\\left(\\theta_{1}{\\left(t \\right)} \\right)}\\\\0\\end{array} \\right] \\]"
      ],
      "text/plain": [
       "3-element Array{Sym,1}:\n",
       "  l1*sin(theta_1(t))\n",
       " -l1*cos(theta_1(t))\n",
       "                   0"
      ]
     },
     "execution_count": 3,
     "metadata": {},
     "output_type": "execute_result"
    }
   ],
   "source": [
    "r1 = l1*(sin(θ1)*ihat - cos(θ1)*jhat)"
   ]
  },
  {
   "cell_type": "code",
   "execution_count": 4,
   "metadata": {},
   "outputs": [
    {
     "data": {
      "text/latex": [
       "\\[ \\left[ \\begin{array}{r}l_{1} \\sin{\\left(\\theta_{1}{\\left(t \\right)} \\right)} + l_{2} \\sin{\\left(\\theta_{2}{\\left(t \\right)} \\right)}\\\\- l_{1} \\cos{\\left(\\theta_{1}{\\left(t \\right)} \\right)} - l_{2} \\cos{\\left(\\theta_{2}{\\left(t \\right)} \\right)}\\\\0\\end{array} \\right] \\]"
      ],
      "text/plain": [
       "3-element Array{Sym,1}:\n",
       "  l1*sin(theta_1(t)) + l2*sin(theta_2(t))\n",
       " -l1*cos(theta_1(t)) - l2*cos(theta_2(t))\n",
       "                                        0"
      ]
     },
     "execution_count": 4,
     "metadata": {},
     "output_type": "execute_result"
    }
   ],
   "source": [
    "r2 = r1 + l2*(sin(θ2)*ihat - cos(θ2)*jhat)"
   ]
  },
  {
   "cell_type": "markdown",
   "metadata": {},
   "source": [
    "## Potential Energy\n",
    "Let's make the Potential Energy $V$"
   ]
  },
  {
   "cell_type": "code",
   "execution_count": 5,
   "metadata": {},
   "outputs": [
    {
     "data": {
      "text/latex": [
       "\\begin{equation*}- g l_{1} m_{1} \\cos{\\left(\\theta_{1}{\\left(t \\right)} \\right)} + g m_{2} \\left(- l_{1} \\cos{\\left(\\theta_{1}{\\left(t \\right)} \\right)} - l_{2} \\cos{\\left(\\theta_{2}{\\left(t \\right)} \\right)}\\right)\\end{equation*}"
      ],
      "text/plain": [
       "-g*l1*m1*cos(theta_1(t)) + g*m2*(-l1*cos(theta_1(t)) - l2*cos(theta_2(t)))"
      ]
     },
     "execution_count": 5,
     "metadata": {},
     "output_type": "execute_result"
    }
   ],
   "source": [
    "V = m1*g*r1[2] + m2*g*r2[2]"
   ]
  },
  {
   "cell_type": "markdown",
   "metadata": {},
   "source": [
    "## Kinetic Energy"
   ]
  },
  {
   "cell_type": "code",
   "execution_count": 6,
   "metadata": {},
   "outputs": [
    {
     "data": {
      "text/latex": [
       "\\begin{equation*}\\frac{l_{1}^{2} m_{1} \\left(\\frac{d}{d t} \\theta_{1}{\\left(t \\right)}\\right)^{2}}{2}\\end{equation*}"
      ],
      "text/plain": [
       "                       2\n",
       "  2    /d             \\ \n",
       "l1 *m1*|--(theta_1(t))| \n",
       "       \\dt            / \n",
       "------------------------\n",
       "           2            "
      ]
     },
     "execution_count": 6,
     "metadata": {},
     "output_type": "execute_result"
    }
   ],
   "source": [
    "T1 = 1//2*m1*sum( diff.(r1,t) .* diff.(r1,t) ) |> simplify"
   ]
  },
  {
   "cell_type": "code",
   "execution_count": 7,
   "metadata": {},
   "outputs": [
    {
     "data": {
      "text/latex": [
       "\\begin{equation*}\\frac{m_{2} \\left(l_{1}^{2} \\left(\\frac{d}{d t} \\theta_{1}{\\left(t \\right)}\\right)^{2} + 2 l_{1} l_{2} \\cos{\\left(\\theta_{1}{\\left(t \\right)} - \\theta_{2}{\\left(t \\right)} \\right)} \\frac{d}{d t} \\theta_{1}{\\left(t \\right)} \\frac{d}{d t} \\theta_{2}{\\left(t \\right)} + l_{2}^{2} \\left(\\frac{d}{d t} \\theta_{2}{\\left(t \\right)}\\right)^{2}\\right)}{2}\\end{equation*}"
      ],
      "text/plain": [
       "   /                    2                                                     \n",
       "   |  2 /d             \\                                         d            \n",
       "m2*|l1 *|--(theta_1(t))|  + 2*l1*l2*cos(theta_1(t) - theta_2(t))*--(theta_1(t)\n",
       "   \\    \\dt            /                                         dt           \n",
       "------------------------------------------------------------------------------\n",
       "                                                           2                  \n",
       "\n",
       "                                       2\\\n",
       "  d                  2 /d             \\ |\n",
       ")*--(theta_2(t)) + l2 *|--(theta_2(t))| |\n",
       "  dt                   \\dt            / /\n",
       "-----------------------------------------\n",
       "                                         "
      ]
     },
     "execution_count": 7,
     "metadata": {},
     "output_type": "execute_result"
    }
   ],
   "source": [
    "T2 = 1//2*m2*sum( diff.(r2,t) .* diff.(r2,t) ) |> simplify"
   ]
  },
  {
   "cell_type": "code",
   "execution_count": 8,
   "metadata": {},
   "outputs": [
    {
     "data": {
      "text/latex": [
       "\\begin{equation*}\\frac{l_{1}^{2} m_{1} \\left(\\frac{d}{d t} \\theta_{1}{\\left(t \\right)}\\right)^{2}}{2} + \\frac{m_{2} \\left(l_{1}^{2} \\left(\\frac{d}{d t} \\theta_{1}{\\left(t \\right)}\\right)^{2} + 2 l_{1} l_{2} \\cos{\\left(\\theta_{1}{\\left(t \\right)} - \\theta_{2}{\\left(t \\right)} \\right)} \\frac{d}{d t} \\theta_{1}{\\left(t \\right)} \\frac{d}{d t} \\theta_{2}{\\left(t \\right)} + l_{2}^{2} \\left(\\frac{d}{d t} \\theta_{2}{\\left(t \\right)}\\right)^{2}\\right)}{2}\\end{equation*}"
      ],
      "text/plain": [
       "                       2      /                    2                          \n",
       "  2    /d             \\       |  2 /d             \\                           \n",
       "l1 *m1*|--(theta_1(t))|    m2*|l1 *|--(theta_1(t))|  + 2*l1*l2*cos(theta_1(t) \n",
       "       \\dt            /       \\    \\dt            /                           \n",
       "------------------------ + ---------------------------------------------------\n",
       "           2                                                                  \n",
       "\n",
       "                                                                  2\\\n",
       "              d              d                  2 /d             \\ |\n",
       "- theta_2(t))*--(theta_1(t))*--(theta_2(t)) + l2 *|--(theta_2(t))| |\n",
       "              dt             dt                   \\dt            / /\n",
       "--------------------------------------------------------------------\n",
       "        2                                                           "
      ]
     },
     "execution_count": 8,
     "metadata": {},
     "output_type": "execute_result"
    }
   ],
   "source": [
    "T = T1 + T2"
   ]
  },
  {
   "cell_type": "markdown",
   "metadata": {},
   "source": [
    "## Lagrange's equation"
   ]
  },
  {
   "cell_type": "code",
   "execution_count": 9,
   "metadata": {},
   "outputs": [
    {
     "data": {
      "text/latex": [
       "\\begin{equation*}g l_{1} m_{1} \\cos{\\left(\\theta_{1}{\\left(t \\right)} \\right)} - g m_{2} \\left(- l_{1} \\cos{\\left(\\theta_{1}{\\left(t \\right)} \\right)} - l_{2} \\cos{\\left(\\theta_{2}{\\left(t \\right)} \\right)}\\right) + \\frac{l_{1}^{2} m_{1} \\left(\\frac{d}{d t} \\theta_{1}{\\left(t \\right)}\\right)^{2}}{2} + \\frac{m_{2} \\left(l_{1}^{2} \\left(\\frac{d}{d t} \\theta_{1}{\\left(t \\right)}\\right)^{2} + 2 l_{1} l_{2} \\cos{\\left(\\theta_{1}{\\left(t \\right)} - \\theta_{2}{\\left(t \\right)} \\right)} \\frac{d}{d t} \\theta_{1}{\\left(t \\right)} \\frac{d}{d t} \\theta_{2}{\\left(t \\right)} + l_{2}^{2} \\left(\\frac{d}{d t} \\theta_{2}{\\left(t \\right)}\\right)^{2}\\right)}{2}\\end{equation*}"
      ],
      "text/plain": [
       "                                                                              \n",
       "                                                                              \n",
       "                                                                            l1\n",
       "                                                                              \n",
       "g*l1*m1*cos(theta_1(t)) - g*m2*(-l1*cos(theta_1(t)) - l2*cos(theta_2(t))) + --\n",
       "                                                                              \n",
       "\n",
       "                     2      /                    2                            \n",
       "2    /d             \\       |  2 /d             \\                             \n",
       " *m1*|--(theta_1(t))|    m2*|l1 *|--(theta_1(t))|  + 2*l1*l2*cos(theta_1(t) - \n",
       "     \\dt            /       \\    \\dt            /                             \n",
       "---------------------- + -----------------------------------------------------\n",
       "         2                                                                    \n",
       "\n",
       "                                                                2\\\n",
       "            d              d                  2 /d             \\ |\n",
       "theta_2(t))*--(theta_1(t))*--(theta_2(t)) + l2 *|--(theta_2(t))| |\n",
       "            dt             dt                   \\dt            / /\n",
       "------------------------------------------------------------------\n",
       "      2                                                           "
      ]
     },
     "execution_count": 9,
     "metadata": {},
     "output_type": "execute_result"
    }
   ],
   "source": [
    "L = T-V"
   ]
  },
  {
   "cell_type": "code",
   "execution_count": 10,
   "metadata": {},
   "outputs": [
    {
     "data": {
      "text/plain": [
       "Lag (generic function with 1 method)"
      ]
     },
     "execution_count": 10,
     "metadata": {},
     "output_type": "execute_result"
    }
   ],
   "source": [
    "Lag(q) = diff(L,diff(q,t),t) - diff(L,q)"
   ]
  },
  {
   "cell_type": "code",
   "execution_count": 11,
   "metadata": {},
   "outputs": [
    {
     "data": {
      "text/latex": [
       "\\begin{equation*}l_{1} \\left(g m_{1} \\sin{\\left(\\theta_{1}{\\left(t \\right)} \\right)} + g m_{2} \\sin{\\left(\\theta_{1}{\\left(t \\right)} \\right)} + l_{1} m_{1} \\frac{d^{2}}{d t^{2}} \\theta_{1}{\\left(t \\right)} + l_{1} m_{2} \\frac{d^{2}}{d t^{2}} \\theta_{1}{\\left(t \\right)} + l_{2} m_{2} \\sin{\\left(\\theta_{1}{\\left(t \\right)} - \\theta_{2}{\\left(t \\right)} \\right)} \\left(\\frac{d}{d t} \\theta_{2}{\\left(t \\right)}\\right)^{2} + l_{2} m_{2} \\cos{\\left(\\theta_{1}{\\left(t \\right)} - \\theta_{2}{\\left(t \\right)} \\right)} \\frac{d^{2}}{d t^{2}} \\theta_{2}{\\left(t \\right)}\\right)\\end{equation*}"
      ],
      "text/plain": [
       "   /                                                      2                   \n",
       "   |                                                     d                    \n",
       "l1*|g*m1*sin(theta_1(t)) + g*m2*sin(theta_1(t)) + l1*m1*---(theta_1(t)) + l1*m\n",
       "   |                                                      2                   \n",
       "   \\                                                    dt                    \n",
       "\n",
       "    2                                                                  2      \n",
       "   d                                                   /d             \\       \n",
       "2*---(theta_1(t)) + l2*m2*sin(theta_1(t) - theta_2(t))*|--(theta_2(t))|  + l2*\n",
       "    2                                                  \\dt            /       \n",
       "  dt                                                                          \n",
       "\n",
       "                                  2            \\\n",
       "                                 d             |\n",
       "m2*cos(theta_1(t) - theta_2(t))*---(theta_2(t))|\n",
       "                                  2            |\n",
       "                                dt             /"
      ]
     },
     "execution_count": 11,
     "metadata": {},
     "output_type": "execute_result"
    }
   ],
   "source": [
    "Lag(θ1) |> simplify"
   ]
  },
  {
   "cell_type": "code",
   "execution_count": 12,
   "metadata": {},
   "outputs": [
    {
     "data": {
      "text/latex": [
       "\\begin{equation*}l_{2} m_{2} \\left(g \\sin{\\left(\\theta_{2}{\\left(t \\right)} \\right)} - l_{1} \\sin{\\left(\\theta_{1}{\\left(t \\right)} - \\theta_{2}{\\left(t \\right)} \\right)} \\left(\\frac{d}{d t} \\theta_{1}{\\left(t \\right)}\\right)^{2} + l_{1} \\cos{\\left(\\theta_{1}{\\left(t \\right)} - \\theta_{2}{\\left(t \\right)} \\right)} \\frac{d^{2}}{d t^{2}} \\theta_{1}{\\left(t \\right)} + l_{2} \\frac{d^{2}}{d t^{2}} \\theta_{2}{\\left(t \\right)}\\right)\\end{equation*}"
      ],
      "text/plain": [
       "      /                                                                    2  \n",
       "      |                                                    /d             \\   \n",
       "l2*m2*|g*sin(theta_2(t)) - l1*sin(theta_1(t) - theta_2(t))*|--(theta_1(t))|  +\n",
       "      |                                                    \\dt            /   \n",
       "      \\                                                                       \n",
       "\n",
       "                                   2                    2            \\\n",
       "                                  d                    d             |\n",
       " l1*cos(theta_1(t) - theta_2(t))*---(theta_1(t)) + l2*---(theta_2(t))|\n",
       "                                   2                    2            |\n",
       "                                 dt                   dt             /"
      ]
     },
     "execution_count": 12,
     "metadata": {},
     "output_type": "execute_result"
    }
   ],
   "source": [
    "Lag(θ2) |> simplify"
   ]
  },
  {
   "cell_type": "markdown",
   "metadata": {},
   "source": [
    "## Hamilton's Equations"
   ]
  },
  {
   "cell_type": "code",
   "execution_count": 13,
   "metadata": {},
   "outputs": [
    {
     "data": {
      "text/plain": [
       "(p1, p2)"
      ]
     },
     "execution_count": 13,
     "metadata": {},
     "output_type": "execute_result"
    }
   ],
   "source": [
    "p1, p2 = symbols(\"p1,p2\")"
   ]
  },
  {
   "cell_type": "code",
   "execution_count": 14,
   "metadata": {},
   "outputs": [
    {
     "data": {
      "text/latex": [
       "\\[ \\left[ \\begin{array}{r}l_{1}^{2} m_{1} \\frac{d}{d t} \\theta_{1}{\\left(t \\right)} + \\frac{m_{2} \\left(2 l_{1}^{2} \\frac{d}{d t} \\theta_{1}{\\left(t \\right)} + 2 l_{1} l_{2} \\cos{\\left(\\theta_{1}{\\left(t \\right)} - \\theta_{2}{\\left(t \\right)} \\right)} \\frac{d}{d t} \\theta_{2}{\\left(t \\right)}\\right)}{2} = p_{1}\\\\\\frac{m_{2} \\left(2 l_{1} l_{2} \\cos{\\left(\\theta_{1}{\\left(t \\right)} - \\theta_{2}{\\left(t \\right)} \\right)} \\frac{d}{d t} \\theta_{1}{\\left(t \\right)} + 2 l_{2}^{2} \\frac{d}{d t} \\theta_{2}{\\left(t \\right)}\\right)}{2} = p_{2}\\end{array} \\right] \\]"
      ],
      "text/plain": [
       "2-element Array{Sym,1}:\n",
       " Eq(l1^2*m1*Derivative(theta_1(t), t) + m2*(2*l1^2*Derivative(theta_1(t), t) + 2*l1*l2*cos(theta_1(t) - theta_2(t))*Derivative(theta_2(t), t))/2, p1)\n",
       "                                     Eq(m2*(2*l1*l2*cos(theta_1(t) - theta_2(t))*Derivative(theta_1(t), t) + 2*l2^2*Derivative(theta_2(t), t))/2, p2)"
      ]
     },
     "execution_count": 14,
     "metadata": {},
     "output_type": "execute_result"
    }
   ],
   "source": [
    "eqn = [Eq(diff(L, diff(θ1,t)), p1), Eq(diff(L, diff(θ2,t)),p2) ]"
   ]
  },
  {
   "cell_type": "code",
   "execution_count": 15,
   "metadata": {},
   "outputs": [
    {
     "data": {
      "text/plain": [
       "Dict{Any,Any} with 2 entries:\n",
       "  Derivative(theta_2(t), t) => (-l1*p2*(m1 + m2) + l2*m2*p1*cos(theta_1(t) - th…\n",
       "  Derivative(theta_1(t), t) => (l1*p2*cos(theta_1(t) - theta_2(t)) - l2*p1)/(l1…"
      ]
     },
     "execution_count": 15,
     "metadata": {},
     "output_type": "execute_result"
    }
   ],
   "source": [
    "sol_p = solve(eqn, diff.([θ1,θ2],t) )"
   ]
  },
  {
   "cell_type": "code",
   "execution_count": 16,
   "metadata": {},
   "outputs": [
    {
     "data": {
      "text/latex": [
       "\\begin{equation*}\\frac{- 2 g l_{1}^{2} l_{2}^{2} m_{2} \\left(m_{1} - m_{2} \\cos^{2}{\\left(\\theta_{1}{\\left(t \\right)} - \\theta_{2}{\\left(t \\right)} \\right)} + m_{2}\\right)^{2} \\left(l_{1} m_{1} \\cos{\\left(\\theta_{1}{\\left(t \\right)} \\right)} + l_{1} m_{2} \\cos{\\left(\\theta_{1}{\\left(t \\right)} \\right)} + l_{2} m_{2} \\cos{\\left(\\theta_{2}{\\left(t \\right)} \\right)}\\right) + m_{1} m_{2} \\left(l_{1} p_{2} \\cos{\\left(\\theta_{1}{\\left(t \\right)} - \\theta_{2}{\\left(t \\right)} \\right)} - l_{2} p_{1}\\right)^{2} + m_{2}^{2} \\left(l_{1} p_{2} \\cos{\\left(\\theta_{1}{\\left(t \\right)} - \\theta_{2}{\\left(t \\right)} \\right)} - l_{2} p_{1}\\right)^{2} - 2 m_{2} \\left(l_{1} p_{2} \\left(m_{1} + m_{2}\\right) - l_{2} m_{2} p_{1} \\cos{\\left(\\theta_{1}{\\left(t \\right)} - \\theta_{2}{\\left(t \\right)} \\right)}\\right) \\left(l_{1} p_{2} \\cos{\\left(\\theta_{1}{\\left(t \\right)} - \\theta_{2}{\\left(t \\right)} \\right)} - l_{2} p_{1}\\right) \\cos{\\left(\\theta_{1}{\\left(t \\right)} - \\theta_{2}{\\left(t \\right)} \\right)} + \\left(l_{1} p_{2} \\left(m_{1} + m_{2}\\right) - l_{2} m_{2} p_{1} \\cos{\\left(\\theta_{1}{\\left(t \\right)} - \\theta_{2}{\\left(t \\right)} \\right)}\\right)^{2}}{2 l_{1}^{2} l_{2}^{2} m_{2} \\left(m_{1} - m_{2} \\cos^{2}{\\left(\\theta_{1}{\\left(t \\right)} - \\theta_{2}{\\left(t \\right)} \\right)} + m_{2}\\right)^{2}}\\end{equation*}"
      ],
      "text/plain": [
       "                                                             2                \n",
       "        2   2    /           2                              \\                 \n",
       "- 2*g*l1 *l2 *m2*\\m1 - m2*cos (theta_1(t) - theta_2(t)) + m2/ *(l1*m1*cos(thet\n",
       "------------------------------------------------------------------------------\n",
       "                                                                              \n",
       "                                                                              \n",
       "                                                                              \n",
       "\n",
       "                                                                              \n",
       "                                                                              \n",
       "a_1(t)) + l1*m2*cos(theta_1(t)) + l2*m2*cos(theta_2(t))) + m1*m2*(l1*p2*cos(th\n",
       "------------------------------------------------------------------------------\n",
       "                                                                              \n",
       "                                                                              \n",
       "                                                                              \n",
       "\n",
       "                                                                              \n",
       "                               2     2                                        \n",
       "eta_1(t) - theta_2(t)) - l2*p1)  + m2 *(l1*p2*cos(theta_1(t) - theta_2(t)) - l\n",
       "------------------------------------------------------------------------------\n",
       "                                                                              \n",
       "                                       2   2    /           2                 \n",
       "                                   2*l1 *l2 *m2*\\m1 - m2*cos (theta_1(t) - the\n",
       "\n",
       "                                                                              \n",
       "     2                                                                        \n",
       "2*p1)  - 2*m2*(l1*p2*(m1 + m2) - l2*m2*p1*cos(theta_1(t) - theta_2(t)))*(l1*p2\n",
       "------------------------------------------------------------------------------\n",
       "              2                                                               \n",
       "             \\                                                                \n",
       "ta_2(t)) + m2/                                                                \n",
       "\n",
       "                                                                              \n",
       "                                                                              \n",
       "*cos(theta_1(t) - theta_2(t)) - l2*p1)*cos(theta_1(t) - theta_2(t)) + (l1*p2*(\n",
       "------------------------------------------------------------------------------\n",
       "                                                                              \n",
       "                                                                              \n",
       "                                                                              \n",
       "\n",
       "                                                  \n",
       "                                                 2\n",
       "m1 + m2) - l2*m2*p1*cos(theta_1(t) - theta_2(t))) \n",
       "--------------------------------------------------\n",
       "                                                  \n",
       "                                                  \n",
       "                                                  "
      ]
     },
     "execution_count": 16,
     "metadata": {},
     "output_type": "execute_result"
    }
   ],
   "source": [
    "H = T+V |> subs(sol_p) |> simplify"
   ]
  },
  {
   "cell_type": "code",
   "execution_count": 17,
   "metadata": {},
   "outputs": [
    {
     "data": {
      "text/latex": [
       "\\[ \\left[ \\begin{array}{r}\\frac{- l_{1} p_{2} \\cos{\\left(\\theta_{1}{\\left(t \\right)} - \\theta_{2}{\\left(t \\right)} \\right)} + l_{2} p_{1}}{l_{1}^{2} l_{2} \\left(m_{1} - m_{2} \\cos^{2}{\\left(\\theta_{1}{\\left(t \\right)} - \\theta_{2}{\\left(t \\right)} \\right)} + m_{2}\\right)}\\\\\\frac{l_{1} m_{1} p_{2} + l_{1} m_{2} p_{2} - l_{2} m_{2} p_{1} \\cos{\\left(\\theta_{1}{\\left(t \\right)} - \\theta_{2}{\\left(t \\right)} \\right)}}{l_{1} l_{2}^{2} m_{2} \\left(m_{1} - m_{2} \\cos^{2}{\\left(\\theta_{1}{\\left(t \\right)} - \\theta_{2}{\\left(t \\right)} \\right)} + m_{2}\\right)}\\\\\\frac{- g l_{1}^{3} l_{2}^{2} m_{1}^{3} \\sin{\\left(\\theta_{1}{\\left(t \\right)} \\right)} + 2 g l_{1}^{3} l_{2}^{2} m_{1}^{2} m_{2} \\sin{\\left(\\theta_{1}{\\left(t \\right)} \\right)} \\cos^{2}{\\left(\\theta_{1}{\\left(t \\right)} - \\theta_{2}{\\left(t \\right)} \\right)} - 3 g l_{1}^{3} l_{2}^{2} m_{1}^{2} m_{2} \\sin{\\left(\\theta_{1}{\\left(t \\right)} \\right)} - g l_{1}^{3} l_{2}^{2} m_{1} m_{2}^{2} \\sin{\\left(\\theta_{1}{\\left(t \\right)} \\right)} \\cos^{4}{\\left(\\theta_{1}{\\left(t \\right)} - \\theta_{2}{\\left(t \\right)} \\right)} + 4 g l_{1}^{3} l_{2}^{2} m_{1} m_{2}^{2} \\sin{\\left(\\theta_{1}{\\left(t \\right)} \\right)} \\cos^{2}{\\left(\\theta_{1}{\\left(t \\right)} - \\theta_{2}{\\left(t \\right)} \\right)} - 3 g l_{1}^{3} l_{2}^{2} m_{1} m_{2}^{2} \\sin{\\left(\\theta_{1}{\\left(t \\right)} \\right)} - g l_{1}^{3} l_{2}^{2} m_{2}^{3} \\sin{\\left(\\theta_{1}{\\left(t \\right)} \\right)} \\cos^{4}{\\left(\\theta_{1}{\\left(t \\right)} - \\theta_{2}{\\left(t \\right)} \\right)} + 2 g l_{1}^{3} l_{2}^{2} m_{2}^{3} \\sin{\\left(\\theta_{1}{\\left(t \\right)} \\right)} \\cos^{2}{\\left(\\theta_{1}{\\left(t \\right)} - \\theta_{2}{\\left(t \\right)} \\right)} - g l_{1}^{3} l_{2}^{2} m_{2}^{3} \\sin{\\left(\\theta_{1}{\\left(t \\right)} \\right)} + \\frac{l_{1}^{2} m_{1} p_{2}^{2} \\sin{\\left(2 \\theta_{1}{\\left(t \\right)} - 2 \\theta_{2}{\\left(t \\right)} \\right)}}{2} + \\frac{l_{1}^{2} m_{2} p_{2}^{2} \\sin{\\left(2 \\theta_{1}{\\left(t \\right)} - 2 \\theta_{2}{\\left(t \\right)} \\right)}}{2} - l_{1} l_{2} m_{1} p_{1} p_{2} \\sin{\\left(\\theta_{1}{\\left(t \\right)} - \\theta_{2}{\\left(t \\right)} \\right)} - l_{1} l_{2} m_{2} p_{1} p_{2} \\sin{\\left(\\theta_{1}{\\left(t \\right)} - \\theta_{2}{\\left(t \\right)} \\right)} \\cos^{2}{\\left(\\theta_{1}{\\left(t \\right)} - \\theta_{2}{\\left(t \\right)} \\right)} - l_{1} l_{2} m_{2} p_{1} p_{2} \\sin{\\left(\\theta_{1}{\\left(t \\right)} - \\theta_{2}{\\left(t \\right)} \\right)} + \\frac{l_{2}^{2} m_{2} p_{1}^{2} \\sin{\\left(2 \\theta_{1}{\\left(t \\right)} - 2 \\theta_{2}{\\left(t \\right)} \\right)}}{2}}{l_{1}^{2} l_{2}^{2} \\left(m_{1}^{2} - 2 m_{1} m_{2} \\cos^{2}{\\left(\\theta_{1}{\\left(t \\right)} - \\theta_{2}{\\left(t \\right)} \\right)} + 2 m_{1} m_{2} + m_{2}^{2} \\cos^{4}{\\left(\\theta_{1}{\\left(t \\right)} - \\theta_{2}{\\left(t \\right)} \\right)} - 2 m_{2}^{2} \\cos^{2}{\\left(\\theta_{1}{\\left(t \\right)} - \\theta_{2}{\\left(t \\right)} \\right)} + m_{2}^{2}\\right)}\\\\\\frac{- g l_{1}^{2} l_{2}^{3} m_{1}^{2} m_{2} \\sin{\\left(\\theta_{2}{\\left(t \\right)} \\right)} + 2 g l_{1}^{2} l_{2}^{3} m_{1} m_{2}^{2} \\sin{\\left(\\theta_{2}{\\left(t \\right)} \\right)} \\cos^{2}{\\left(\\theta_{1}{\\left(t \\right)} - \\theta_{2}{\\left(t \\right)} \\right)} - 2 g l_{1}^{2} l_{2}^{3} m_{1} m_{2}^{2} \\sin{\\left(\\theta_{2}{\\left(t \\right)} \\right)} - g l_{1}^{2} l_{2}^{3} m_{2}^{3} \\sin{\\left(\\theta_{2}{\\left(t \\right)} \\right)} \\cos^{4}{\\left(\\theta_{1}{\\left(t \\right)} - \\theta_{2}{\\left(t \\right)} \\right)} + 2 g l_{1}^{2} l_{2}^{3} m_{2}^{3} \\sin{\\left(\\theta_{2}{\\left(t \\right)} \\right)} \\cos^{2}{\\left(\\theta_{1}{\\left(t \\right)} - \\theta_{2}{\\left(t \\right)} \\right)} - g l_{1}^{2} l_{2}^{3} m_{2}^{3} \\sin{\\left(\\theta_{2}{\\left(t \\right)} \\right)} - \\frac{l_{1}^{2} m_{1} p_{2}^{2} \\sin{\\left(2 \\theta_{1}{\\left(t \\right)} - 2 \\theta_{2}{\\left(t \\right)} \\right)}}{2} - \\frac{l_{1}^{2} m_{2} p_{2}^{2} \\sin{\\left(2 \\theta_{1}{\\left(t \\right)} - 2 \\theta_{2}{\\left(t \\right)} \\right)}}{2} + l_{1} l_{2} m_{1} p_{1} p_{2} \\sin{\\left(\\theta_{1}{\\left(t \\right)} - \\theta_{2}{\\left(t \\right)} \\right)} + l_{1} l_{2} m_{2} p_{1} p_{2} \\sin{\\left(\\theta_{1}{\\left(t \\right)} - \\theta_{2}{\\left(t \\right)} \\right)} \\cos^{2}{\\left(\\theta_{1}{\\left(t \\right)} - \\theta_{2}{\\left(t \\right)} \\right)} + l_{1} l_{2} m_{2} p_{1} p_{2} \\sin{\\left(\\theta_{1}{\\left(t \\right)} - \\theta_{2}{\\left(t \\right)} \\right)} - \\frac{l_{2}^{2} m_{2} p_{1}^{2} \\sin{\\left(2 \\theta_{1}{\\left(t \\right)} - 2 \\theta_{2}{\\left(t \\right)} \\right)}}{2}}{l_{1}^{2} l_{2}^{2} \\left(m_{1}^{2} - 2 m_{1} m_{2} \\cos^{2}{\\left(\\theta_{1}{\\left(t \\right)} - \\theta_{2}{\\left(t \\right)} \\right)} + 2 m_{1} m_{2} + m_{2}^{2} \\cos^{4}{\\left(\\theta_{1}{\\left(t \\right)} - \\theta_{2}{\\left(t \\right)} \\right)} - 2 m_{2}^{2} \\cos^{2}{\\left(\\theta_{1}{\\left(t \\right)} - \\theta_{2}{\\left(t \\right)} \\right)} + m_{2}^{2}\\right)}\\end{array} \\right] \\]"
      ],
      "text/plain": [
       "4-element Array{Sym,1}:\n",
       "                                                                                                                                                                                                                                                                                                                                                                                                                                                                                                                                                                                                                                                                                                                                                                                                                                                                                                     (-l1*p2*cos(theta_1(t) - theta_2(t)) + l2*p1)/(l1^2*l2*(m1 - m2*cos(theta_1(t) - theta_2(t))^2 + m2))\n",
       "                                                                                                                                                                                                                                                                                                                                                                                                                                                                                                                                                                                                                                                                                                                                                                                                                                                                                  (l1*m1*p2 + l1*m2*p2 - l2*m2*p1*cos(theta_1(t) - theta_2(t)))/(l1*l2^2*m2*(m1 - m2*cos(theta_1(t) - theta_2(t))^2 + m2))\n",
       " (-g*l1^3*l2^2*m1^3*sin(theta_1(t)) + 2*g*l1^3*l2^2*m1^2*m2*sin(theta_1(t))*cos(theta_1(t) - theta_2(t))^2 - 3*g*l1^3*l2^2*m1^2*m2*sin(theta_1(t)) - g*l1^3*l2^2*m1*m2^2*sin(theta_1(t))*cos(theta_1(t) - theta_2(t))^4 + 4*g*l1^3*l2^2*m1*m2^2*sin(theta_1(t))*cos(theta_1(t) - theta_2(t))^2 - 3*g*l1^3*l2^2*m1*m2^2*sin(theta_1(t)) - g*l1^3*l2^2*m2^3*sin(theta_1(t))*cos(theta_1(t) - theta_2(t))^4 + 2*g*l1^3*l2^2*m2^3*sin(theta_1(t))*cos(theta_1(t) - theta_2(t))^2 - g*l1^3*l2^2*m2^3*sin(theta_1(t)) + l1^2*m1*p2^2*sin(2*theta_1(t) - 2*theta_2(t))/2 + l1^2*m2*p2^2*sin(2*theta_1(t) - 2*theta_2(t))/2 - l1*l2*m1*p1*p2*sin(theta_1(t) - theta_2(t)) - l1*l2*m2*p1*p2*sin(theta_1(t) - theta_2(t))*cos(theta_1(t) - theta_2(t))^2 - l1*l2*m2*p1*p2*sin(theta_1(t) - theta_2(t)) + l2^2*m2*p1^2*sin(2*theta_1(t) - 2*theta_2(t))/2)/(l1^2*l2^2*(m1^2 - 2*m1*m2*cos(theta_1(t) - theta_2(t))^2 + 2*m1*m2 + m2^2*cos(theta_1(t) - theta_2(t))^4 - 2*m2^2*cos(theta_1(t) - theta_2(t))^2 + m2^2))\n",
       "                                                                                                                                                                                  (-g*l1^2*l2^3*m1^2*m2*sin(theta_2(t)) + 2*g*l1^2*l2^3*m1*m2^2*sin(theta_2(t))*cos(theta_1(t) - theta_2(t))^2 - 2*g*l1^2*l2^3*m1*m2^2*sin(theta_2(t)) - g*l1^2*l2^3*m2^3*sin(theta_2(t))*cos(theta_1(t) - theta_2(t))^4 + 2*g*l1^2*l2^3*m2^3*sin(theta_2(t))*cos(theta_1(t) - theta_2(t))^2 - g*l1^2*l2^3*m2^3*sin(theta_2(t)) - l1^2*m1*p2^2*sin(2*theta_1(t) - 2*theta_2(t))/2 - l1^2*m2*p2^2*sin(2*theta_1(t) - 2*theta_2(t))/2 + l1*l2*m1*p1*p2*sin(theta_1(t) - theta_2(t)) + l1*l2*m2*p1*p2*sin(theta_1(t) - theta_2(t))*cos(theta_1(t) - theta_2(t))^2 + l1*l2*m2*p1*p2*sin(theta_1(t) - theta_2(t)) - l2^2*m2*p1^2*sin(2*theta_1(t) - 2*theta_2(t))/2)/(l1^2*l2^2*(m1^2 - 2*m1*m2*cos(theta_1(t) - theta_2(t))^2 + 2*m1*m2 + m2^2*cos(theta_1(t) - theta_2(t))^4 - 2*m2^2*cos(theta_1(t) - theta_2(t))^2 + m2^2))"
      ]
     },
     "execution_count": 17,
     "metadata": {},
     "output_type": "execute_result"
    }
   ],
   "source": [
    "F = simplify.( [ diff(H, p1), diff(H, p2),-diff(H, θ1), -diff(H,θ2) ] )"
   ]
  },
  {
   "cell_type": "markdown",
   "metadata": {},
   "source": [
    "Let's put the system of equation into state-space, and then output to Matlab compatible code."
   ]
  },
  {
   "cell_type": "code",
   "execution_count": 18,
   "metadata": {},
   "outputs": [
    {
     "data": {
      "text/latex": [
       "\\begin{equation*}\\begin{cases}p_{2} & \\text{=>} &z_{4}\\\\p_{1} & \\text{=>} &z_{3}\\\\\\theta_{1}{\\left(t \\right)} & \\text{=>} &z_{1}\\\\\\theta_{2}{\\left(t \\right)} & \\text{=>} &z_{2}\\\\\\end{cases}\\end{equation*}"
      ],
      "text/plain": [
       "Dict{Sym,Sym} with 4 entries:\n",
       "  p2         => z4\n",
       "  p1         => z3\n",
       "  theta_1(t) => z1\n",
       "  theta_2(t) => z2"
      ]
     },
     "execution_count": 18,
     "metadata": {},
     "output_type": "execute_result"
    }
   ],
   "source": [
    "z1,z2,z3,z4 = symbols(\"z1,z2,z3,z4\")\n",
    "rule1 = Dict( θ1=>z1, θ2=>z2, p1=>z3, p2=>z4 )"
   ]
  },
  {
   "cell_type": "code",
   "execution_count": 19,
   "metadata": {
    "scrolled": true
   },
   "outputs": [
    {
     "data": {
      "text/plain": [
       "\"[(-l1.*z4.*cos(z1 - z2) + l2.*z3)./(l1.^2.*l2.*(m1 - m2.*cos(z1 - z2).^2 + m2)); (l1.*m1.*z4 + l1.*m2.*z4 - l2.*m2.*z3.*cos(z1 - z2))./(l1.*l2.^2.*m2.*(m1 - m2.*cos(z1 - z2).^2 + m2)); (-g.*l1.^3.*l2.^2.*m1.^3.*sin(z1) + 2*g.*l1.^3.*l2.^2.*m1.^2.*m2.*sin(z1).*cos(z1 - z2).^2 - 3*g.*l1.^3.*l2.^2.*m1.^2.*m2.*sin(z1) - g.*l1.^3.*l2.^2.*m1.*m2.^2.*sin(z1).*cos(z1 - z2).^4 + 4*g.*l1.^3.*l2.^2.*m1.*m2.^2.*sin(z1).*cos(z1 - z2).^2 - 3*g.*l1.^3.*l2.^2.*m1.*m2.^2.*sin(z1) - g.*l1.^3.*l2.^2.*m2.^3.*sin(z1).*cos(z1 - z2).^4 + 2*g.*l1.^3.*l2.^2.*m2.^3.*sin(z1).*cos(z1 - z2).^2 - g.*l1.^3.*l2.^2.*m2.^3.*sin(z1) + l1.^2.*m1.*z4.^2.*sin(2*z1 - 2*z2)/2 + l1.^2.*m2.*z4.^2.*sin(2*z1 - 2*z2)/2 - l1.*l2.*m1.*z3.*z4.*sin(z1 - z2) - l1.*l2.*m2.*z3.*z4.*sin(z1 - z2).*cos(z1 - z2).^2 - l1.*l2.*m2.*z3.*z4.*sin(z1 - z2) + l2.^2.*m2.*z3.^2.*sin(2*z1 - 2*z2)/2)./(l1.^2.*l2.^2.*(m1.^2 - 2*m1.*m2.*cos(z1 - z2).^2 + 2*m1.*m2 + m2.^2.*cos(z1 - z2).^4 - 2*m2.^2.*cos(z1 - z2).^2 + m2.^2)); (-g.*l1.^2.*l2.^3.*m1.^2.*m2.*sin(z2) + 2*g.*l1.^2.*l2.^3.*m1.*m2.^2.*sin(z2).*cos(z1 - z2).^2 - 2*g.*l1.^2.*l2.^3.*m1.*m2.^2.*sin(z2) - g.*l1.^2.*l2.^3.*m2.^3.*sin(z2).*cos(z1 - z2).^4 + 2*g.*l1.^2.*l2.^3.*m2.^3.*sin(z2).*cos(z1 - z2).^2 - g.*l1.^2.*l2.^3.*m2.^3.*sin(z2) - l1.^2.*m1.*z4.^2.*sin(2*z1 - 2*z2)/2 - l1.^2.*m2.*z4.^2.*sin(2*z1 - 2*z2)/2 + l1.*l2.*m1.*z3.*z4.*sin(z1 - z2) + l1.*l2.*m2.*z3.*z4.*sin(z1 - z2).*cos(z1 - z2).^2 + l1.*l2.*m2.*z3.*z4.*sin(z1 - z2) - l2.^2.*m2.*z3.^2.*sin(2*z1 - 2*z2)/2)./(l1.^2.*l2.^2.*(m1.^2 - 2*m1.*m2.*cos(z1 - z2).^2 + 2*m1.*m2 + m2.^2.*cos(z1 - z2).^4 - 2*m2.^2.*cos(z1 - z2).^2 + m2.^2))]\""
      ]
     },
     "execution_count": 19,
     "metadata": {},
     "output_type": "execute_result"
    }
   ],
   "source": [
    "sympy.octave_code( [subs(f, rule1 ) for f in F] )"
   ]
  },
  {
   "cell_type": "code",
   "execution_count": null,
   "metadata": {},
   "outputs": [],
   "source": []
  }
 ],
 "metadata": {
  "@webio": {
   "lastCommId": null,
   "lastKernelId": null
  },
  "kernelspec": {
   "display_name": "Julia 1.3.0",
   "language": "julia",
   "name": "julia-1.3"
  },
  "language_info": {
   "file_extension": ".jl",
   "mimetype": "application/julia",
   "name": "julia",
   "version": "1.3.0"
  }
 },
 "nbformat": 4,
 "nbformat_minor": 2
}
