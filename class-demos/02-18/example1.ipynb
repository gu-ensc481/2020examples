{
 "cells": [
  {
   "cell_type": "markdown",
   "metadata": {},
   "source": [
    "# Example from Class 18-Feb\n",
    "Working through the various derivatives of the Lagrange Equation example from class."
   ]
  },
  {
   "cell_type": "code",
   "execution_count": 1,
   "metadata": {},
   "outputs": [],
   "source": [
    "using SymPy"
   ]
  },
  {
   "cell_type": "code",
   "execution_count": 2,
   "metadata": {},
   "outputs": [],
   "source": [
    "# First time you need to run this:\n",
    "# using Pkg\n",
    "# Pkg.add(\"SymPy\")\n",
    "# using SymPy"
   ]
  },
  {
   "cell_type": "code",
   "execution_count": 3,
   "metadata": {},
   "outputs": [],
   "source": [
    "L, m, g, t, Jg = symbols(\"L, m, g, t, J_G\", positive=true)\n",
    "τ,f = symbols(\"tau, f\")\n",
    "θ = SymFunction(\"theta\")(t)\n",
    ";"
   ]
  },
  {
   "cell_type": "code",
   "execution_count": 4,
   "metadata": {},
   "outputs": [
    {
     "data": {
      "text/latex": [
       "\\[ \\left[ \\begin{array}{r}L \\sin{\\left(\\theta{\\left(t \\right)} \\right)}\\\\- L \\cos{\\left(\\theta{\\left(t \\right)} \\right)}\\\\0\\end{array} \\right] \\]"
      ],
      "text/plain": [
       "3-element Array{Sym,1}:\n",
       "  L*sin(theta(t))\n",
       " -L*cos(theta(t))\n",
       "                0"
      ]
     },
     "execution_count": 4,
     "metadata": {},
     "output_type": "execute_result"
    }
   ],
   "source": [
    "ihat= [1,0,0]\n",
    "jhat = [0,1,0]\n",
    "khat = [0,0,1]\n",
    "r = L*(sin(θ)*ihat - cos(θ)*jhat)"
   ]
  },
  {
   "cell_type": "code",
   "execution_count": 5,
   "metadata": {},
   "outputs": [
    {
     "ename": "MethodError",
     "evalue": "MethodError: no method matching diff(::Array{Sym,1}, ::Sym)\nClosest candidates are:\n  diff(::AbstractArray{T,1} where T) at multidimensional.jl:736\n  diff(::AbstractArray{T,N}; dims) where {T, N} at multidimensional.jl:769\n  diff(!Matched::SymPy.SymbolicObject, ::Any...; kwargs...) at C:\\Users\\tim\\.julia\\packages\\SymPy\\xIl2Y\\src\\importexport.jl:70",
     "output_type": "error",
     "traceback": [
      "MethodError: no method matching diff(::Array{Sym,1}, ::Sym)\nClosest candidates are:\n  diff(::AbstractArray{T,1} where T) at multidimensional.jl:736\n  diff(::AbstractArray{T,N}; dims) where {T, N} at multidimensional.jl:769\n  diff(!Matched::SymPy.SymbolicObject, ::Any...; kwargs...) at C:\\Users\\tim\\.julia\\packages\\SymPy\\xIl2Y\\src\\importexport.jl:70",
      "",
      "Stacktrace:",
      " [1] top-level scope at In[5]:1"
     ]
    }
   ],
   "source": [
    "# this fails because it can't work on an array\n",
    "diff(r,t)"
   ]
  },
  {
   "cell_type": "markdown",
   "metadata": {},
   "source": [
    "So let's talk about list comprehensions"
   ]
  },
  {
   "cell_type": "code",
   "execution_count": 6,
   "metadata": {},
   "outputs": [
    {
     "data": {
      "text/plain": [
       "4-element Array{Float64,1}:\n",
       " 1.0\n",
       " 2.0\n",
       " 3.0\n",
       " 4.0"
      ]
     },
     "execution_count": 6,
     "metadata": {},
     "output_type": "execute_result"
    }
   ],
   "source": [
    "out = zeros(4)\n",
    "for i = 1:4\n",
    "    out[i] = i\n",
    "end\n",
    "out"
   ]
  },
  {
   "cell_type": "code",
   "execution_count": 7,
   "metadata": {},
   "outputs": [
    {
     "data": {
      "text/plain": [
       "4×2 Array{Int64,2}:\n",
       " 2  3\n",
       " 3  4\n",
       " 4  5\n",
       " 5  6"
      ]
     },
     "execution_count": 7,
     "metadata": {},
     "output_type": "execute_result"
    }
   ],
   "source": [
    "[ i+j for i in 1:4, j in 1:2 ]"
   ]
  },
  {
   "cell_type": "code",
   "execution_count": 8,
   "metadata": {},
   "outputs": [
    {
     "data": {
      "text/latex": [
       "\\[ \\left[ \\begin{array}{r}L \\cos{\\left(\\theta{\\left(t \\right)} \\right)} \\frac{d}{d t} \\theta{\\left(t \\right)}\\\\L \\sin{\\left(\\theta{\\left(t \\right)} \\right)} \\frac{d}{d t} \\theta{\\left(t \\right)}\\\\0\\end{array} \\right] \\]"
      ],
      "text/plain": [
       "3-element Array{Sym,1}:\n",
       " L*cos(theta(t))*Derivative(theta(t), t)\n",
       " L*sin(theta(t))*Derivative(theta(t), t)\n",
       "                                       0"
      ]
     },
     "execution_count": 8,
     "metadata": {},
     "output_type": "execute_result"
    }
   ],
   "source": [
    "v = [ diff(R,t) for R in r ]"
   ]
  },
  {
   "cell_type": "markdown",
   "metadata": {},
   "source": [
    "Now we can build the kinetic energy $T$"
   ]
  },
  {
   "cell_type": "code",
   "execution_count": 9,
   "metadata": {},
   "outputs": [
    {
     "data": {
      "text/latex": [
       "\\begin{equation*}\\frac{\\left(J_{G} + L^{2} m\\right) \\left(\\frac{d}{d t} \\theta{\\left(t \\right)}\\right)^{2}}{2}\\end{equation*}"
      ],
      "text/plain": [
       "                           2\n",
       "/       2  \\ /d           \\ \n",
       "\\J_G + L *m/*|--(theta(t))| \n",
       "             \\dt          / \n",
       "----------------------------\n",
       "             2              "
      ]
     },
     "execution_count": 9,
     "metadata": {},
     "output_type": "execute_result"
    }
   ],
   "source": [
    "T = 1//2*m*sum( v .* v )  + 1//2*Jg*diff(θ,t)^2 |> simplify"
   ]
  },
  {
   "cell_type": "markdown",
   "metadata": {},
   "source": [
    "As well as the potential energy"
   ]
  },
  {
   "cell_type": "code",
   "execution_count": 10,
   "metadata": {},
   "outputs": [
    {
     "data": {
      "text/latex": [
       "\\begin{equation*}- L g m \\cos{\\left(\\theta{\\left(t \\right)} \\right)}\\end{equation*}"
      ],
      "text/plain": [
       "-L*g*m*cos(theta(t))"
      ]
     },
     "execution_count": 10,
     "metadata": {},
     "output_type": "execute_result"
    }
   ],
   "source": [
    "V = m*g*r[2]"
   ]
  },
  {
   "cell_type": "markdown",
   "metadata": {},
   "source": [
    "Once we build the Lagrangian $L$ then we're pretty much done"
   ]
  },
  {
   "cell_type": "code",
   "execution_count": 11,
   "metadata": {},
   "outputs": [
    {
     "data": {
      "text/latex": [
       "\\begin{equation*}L g m \\cos{\\left(\\theta{\\left(t \\right)} \\right)} + \\frac{\\left(J_{G} + L^{2} m\\right) \\left(\\frac{d}{d t} \\theta{\\left(t \\right)}\\right)^{2}}{2}\\end{equation*}"
      ],
      "text/plain": [
       "                                                 2\n",
       "                      /       2  \\ /d           \\ \n",
       "                      \\J_G + L *m/*|--(theta(t))| \n",
       "                                   \\dt          / \n",
       "L*g*m*cos(theta(t)) + ----------------------------\n",
       "                                   2              "
      ]
     },
     "execution_count": 11,
     "metadata": {},
     "output_type": "execute_result"
    }
   ],
   "source": [
    "Lag = T - V"
   ]
  },
  {
   "cell_type": "code",
   "execution_count": 12,
   "metadata": {},
   "outputs": [
    {
     "data": {
      "text/latex": [
       "\\begin{equation*}- L f \\cos{\\left(\\theta{\\left(t \\right)} \\right)} + L g m \\sin{\\left(\\theta{\\left(t \\right)} \\right)} - \\tau + \\left(J_{G} + L^{2} m\\right) \\frac{d^{2}}{d t^{2}} \\theta{\\left(t \\right)}\\end{equation*}"
      ],
      "text/plain": [
       "                                                                2          \n",
       "                                                 /       2  \\  d           \n",
       "-L*f*cos(theta(t)) + L*g*m*sin(theta(t)) - tau + \\J_G + L *m/*---(theta(t))\n",
       "                                                                2          \n",
       "                                                              dt           "
      ]
     },
     "execution_count": 12,
     "metadata": {},
     "output_type": "execute_result"
    }
   ],
   "source": [
    "diff(Lag, diff(θ,t), t) - diff(Lag, θ) - (f*L*cos(θ) + τ)"
   ]
  },
  {
   "cell_type": "markdown",
   "metadata": {},
   "source": [
    "We could make the Lagrange Equation a function too.  That way if we have many generalized coordinates we don't have to write it out each time."
   ]
  },
  {
   "cell_type": "code",
   "execution_count": 13,
   "metadata": {},
   "outputs": [
    {
     "data": {
      "text/plain": [
       "LagEq (generic function with 1 method)"
      ]
     },
     "execution_count": 13,
     "metadata": {},
     "output_type": "execute_result"
    }
   ],
   "source": [
    "LagEq(L,q) = diff(L, diff(q,t),t) - diff(L, q)"
   ]
  },
  {
   "cell_type": "code",
   "execution_count": 14,
   "metadata": {},
   "outputs": [
    {
     "data": {
      "text/latex": [
       "\\begin{equation*}L g m \\sin{\\left(\\theta{\\left(t \\right)} \\right)} + \\left(J_{G} + L^{2} m\\right) \\frac{d^{2}}{d t^{2}} \\theta{\\left(t \\right)}\\end{equation*}"
      ],
      "text/plain": [
       "                                     2          \n",
       "                      /       2  \\  d           \n",
       "L*g*m*sin(theta(t)) + \\J_G + L *m/*---(theta(t))\n",
       "                                     2          \n",
       "                                   dt           "
      ]
     },
     "execution_count": 14,
     "metadata": {},
     "output_type": "execute_result"
    }
   ],
   "source": [
    "LagEq(Lag,θ)"
   ]
  },
  {
   "cell_type": "code",
   "execution_count": null,
   "metadata": {},
   "outputs": [],
   "source": []
  }
 ],
 "metadata": {
  "@webio": {
   "lastCommId": null,
   "lastKernelId": null
  },
  "kernelspec": {
   "display_name": "Julia 1.3.0",
   "language": "julia",
   "name": "julia-1.3"
  },
  "language_info": {
   "file_extension": ".jl",
   "mimetype": "application/julia",
   "name": "julia",
   "version": "1.3.0"
  }
 },
 "nbformat": 4,
 "nbformat_minor": 2
}
