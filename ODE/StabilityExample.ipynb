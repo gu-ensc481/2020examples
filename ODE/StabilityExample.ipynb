{
 "cells": [
  {
   "cell_type": "code",
   "execution_count": 1,
   "metadata": {},
   "outputs": [
    {
     "name": "stderr",
     "output_type": "stream",
     "text": [
      "\u001b[32m\u001b[1m Activating\u001b[22m\u001b[39m environment at `~/Documents/2020examples/ODE/Project.toml`\n"
     ]
    }
   ],
   "source": [
    "using Pkg\n",
    "Pkg.activate(\".\")\n",
    "using SymPy\n",
    "using Plots"
   ]
  },
  {
   "cell_type": "markdown",
   "metadata": {},
   "source": [
    "# AB-2 Example\n",
    "$$ x_{n+1} = x_n + \\frac{h}{2}\\left( 3 f_n - f_{n-1} \\right) $$\n",
    "$$ f_n = \\lambda x_n $$\n",
    "$$ x_n = \\sigma^n x_0 $$"
   ]
  },
  {
   "cell_type": "code",
   "execution_count": 2,
   "metadata": {},
   "outputs": [],
   "source": [
    "σ, λ = symbols(\"sigma, lambda\")\n",
    "x0, h, zx, zy, θ = symbols(\"x_0, h, z_x, z_y, theta\", real=true)\n",
    "n = symbols(\"n\", positive=true, real=true)\n",
    ";"
   ]
  },
  {
   "cell_type": "code",
   "execution_count": 3,
   "metadata": {},
   "outputs": [
    {
     "data": {
      "text/latex": [
       "\\begin{equation*}\\frac{h \\left(3 \\lambda \\sigma^{n} x_{0} - \\lambda \\sigma^{n - 1} x_{0}\\right)}{2} + \\sigma^{n} x_{0} - \\sigma^{n + 1} x_{0}\\end{equation*}"
      ],
      "text/plain": [
       "  ⎛     n         n - 1   ⎞                    \n",
       "h⋅⎝3⋅λ⋅σ ⋅x₀ - λ⋅σ     ⋅x₀⎠    n       n + 1   \n",
       "─────────────────────────── + σ ⋅x₀ - σ     ⋅x₀\n",
       "             2                                 "
      ]
     },
     "execution_count": 3,
     "metadata": {},
     "output_type": "execute_result"
    }
   ],
   "source": [
    "X(i) = σ^i*x0\n",
    "F(i) = λ*X(i)\n",
    "ex1 = - X(n+1) + X(n) + h//2*(3*F(n) - F(n-1)) "
   ]
  },
  {
   "cell_type": "code",
   "execution_count": 4,
   "metadata": {},
   "outputs": [
    {
     "data": {
      "text/latex": [
       "\\begin{equation*}\\frac{3 h \\lambda \\sigma}{2} - \\frac{h \\lambda}{2} - \\sigma^{2} + \\sigma\\end{equation*}"
      ],
      "text/plain": [
       "3⋅h⋅λ⋅σ   h⋅λ    2    \n",
       "─────── - ─── - σ  + σ\n",
       "   2       2          "
      ]
     },
     "execution_count": 4,
     "metadata": {},
     "output_type": "execute_result"
    }
   ],
   "source": [
    "ex2 = ex1/σ^(n-1)/x0 |> simplify"
   ]
  },
  {
   "cell_type": "code",
   "execution_count": 5,
   "metadata": {},
   "outputs": [
    {
     "data": {
      "text/latex": [
       "\\begin{equation*}\\frac{3 i z_{x} \\sin{\\left(\\theta \\right)}}{2} + \\frac{3 z_{x} \\cos{\\left(\\theta \\right)}}{2} - \\frac{z_{x}}{2} - \\frac{3 z_{y} \\sin{\\left(\\theta \\right)}}{2} + \\frac{3 i z_{y} \\cos{\\left(\\theta \\right)}}{2} - \\frac{i z_{y}}{2} + i \\sin{\\left(\\theta \\right)} - i \\sin{\\left(2 \\theta \\right)} + \\cos{\\left(\\theta \\right)} - \\cos{\\left(2 \\theta \\right)}\\end{equation*}"
      ],
      "text/plain": [
       "3⋅ⅈ⋅zₓ⋅sin(θ)   3⋅zₓ⋅cos(θ)   zₓ   3⋅z_y⋅sin(θ)   3⋅ⅈ⋅z_y⋅cos(θ)   ⅈ⋅z_y      \n",
       "───────────── + ─────────── - ── - ──────────── + ────────────── - ───── + ⅈ⋅s\n",
       "      2              2        2         2               2            2        \n",
       "\n",
       "                                      \n",
       "in(θ) - ⅈ⋅sin(2⋅θ) + cos(θ) - cos(2⋅θ)\n",
       "                                      "
      ]
     },
     "execution_count": 5,
     "metadata": {},
     "output_type": "execute_result"
    }
   ],
   "source": [
    "eq3 = subs( ex2, h=>1, λ=> zx + 1im*zy, σ=> cos(θ) + 1im*sin(θ) ) |> expand |> simplify"
   ]
  },
  {
   "cell_type": "code",
   "execution_count": 6,
   "metadata": {},
   "outputs": [
    {
     "data": {
      "text/latex": [
       "\\[ \\left[ \\begin{array}{r}\\frac{3 z_{x} \\cos{\\left(\\theta \\right)}}{2} - \\frac{z_{x}}{2} - \\frac{3 z_{y} \\sin{\\left(\\theta \\right)}}{2} + \\cos{\\left(\\theta \\right)} - \\cos{\\left(2 \\theta \\right)}\\\\\\frac{3 z_{x} \\sin{\\left(\\theta \\right)}}{2} + \\frac{3 z_{y} \\cos{\\left(\\theta \\right)}}{2} - \\frac{z_{y}}{2} + \\sin{\\left(\\theta \\right)} - \\sin{\\left(2 \\theta \\right)}\\end{array} \\right] \\]"
      ],
      "text/plain": [
       "2-element Array{Sym,1}:\n",
       " 3*z_x*cos(theta)/2 - z_x/2 - 3*z_y*sin(theta)/2 + cos(theta) - cos(2*theta)\n",
       " 3*z_x*sin(theta)/2 + 3*z_y*cos(theta)/2 - z_y/2 + sin(theta) - sin(2*theta)"
      ]
     },
     "execution_count": 6,
     "metadata": {},
     "output_type": "execute_result"
    }
   ],
   "source": [
    "eq4 = [real(eq3), imag(eq3)]"
   ]
  },
  {
   "cell_type": "code",
   "execution_count": 7,
   "metadata": {},
   "outputs": [
    {
     "data": {
      "text/plain": [
       "Dict{Any,Any} with 2 entries:\n",
       "  z_x => 2*(cos(theta)^2 - 2*cos(theta) + 1)/(3*cos(theta) - 5)\n",
       "  z_y => 2*(cos(theta) - 2)*sin(theta)/(3*cos(theta) - 5)"
      ]
     },
     "execution_count": 7,
     "metadata": {},
     "output_type": "execute_result"
    }
   ],
   "source": [
    "sol = solve( eq4, [zx, zy] )"
   ]
  },
  {
   "cell_type": "code",
   "execution_count": 8,
   "metadata": {},
   "outputs": [
    {
     "data": {
      "image/svg+xml": [
       "<?xml version=\"1.0\" encoding=\"utf-8\"?>\n",
       "<svg xmlns=\"http://www.w3.org/2000/svg\" xmlns:xlink=\"http://www.w3.org/1999/xlink\" width=\"600\" height=\"400\" viewBox=\"0 0 2400 1600\">\n",
       "<defs>\n",
       "  <clipPath id=\"clip5500\">\n",
       "    <rect x=\"0\" y=\"0\" width=\"2400\" height=\"1600\"/>\n",
       "  </clipPath>\n",
       "</defs>\n",
       "<path clip-path=\"url(#clip5500)\" d=\"\n",
       "M0 1600 L2400 1600 L2400 0 L0 0  Z\n",
       "  \" fill=\"#ffffff\" fill-rule=\"evenodd\" fill-opacity=\"1\"/>\n",
       "<defs>\n",
       "  <clipPath id=\"clip5501\">\n",
       "    <rect x=\"480\" y=\"0\" width=\"1681\" height=\"1600\"/>\n",
       "  </clipPath>\n",
       "</defs>\n",
       "<path clip-path=\"url(#clip5500)\" d=\"\n",
       "M243.864 1425.62 L2352.76 1425.62 L2352.76 47.2441 L243.864 47.2441  Z\n",
       "  \" fill=\"#ffffff\" fill-rule=\"evenodd\" fill-opacity=\"1\"/>\n",
       "<defs>\n",
       "  <clipPath id=\"clip5502\">\n",
       "    <rect x=\"243\" y=\"47\" width=\"2110\" height=\"1379\"/>\n",
       "  </clipPath>\n",
       "</defs>\n",
       "<polyline clip-path=\"url(#clip5502)\" style=\"stroke:#000000; stroke-width:2; stroke-opacity:0.1; fill:none\" points=\"\n",
       "  490.102,1425.62 490.102,47.2441 \n",
       "  \"/>\n",
       "<polyline clip-path=\"url(#clip5502)\" style=\"stroke:#000000; stroke-width:2; stroke-opacity:0.1; fill:none\" points=\"\n",
       "  894.19,1425.62 894.19,47.2441 \n",
       "  \"/>\n",
       "<polyline clip-path=\"url(#clip5502)\" style=\"stroke:#000000; stroke-width:2; stroke-opacity:0.1; fill:none\" points=\"\n",
       "  1298.28,1425.62 1298.28,47.2441 \n",
       "  \"/>\n",
       "<polyline clip-path=\"url(#clip5502)\" style=\"stroke:#000000; stroke-width:2; stroke-opacity:0.1; fill:none\" points=\"\n",
       "  1702.37,1425.62 1702.37,47.2441 \n",
       "  \"/>\n",
       "<polyline clip-path=\"url(#clip5502)\" style=\"stroke:#000000; stroke-width:2; stroke-opacity:0.1; fill:none\" points=\"\n",
       "  2106.45,1425.62 2106.45,47.2441 \n",
       "  \"/>\n",
       "<polyline clip-path=\"url(#clip5502)\" style=\"stroke:#000000; stroke-width:2; stroke-opacity:0.1; fill:none\" points=\"\n",
       "  243.864,1221.34 2352.76,1221.34 \n",
       "  \"/>\n",
       "<polyline clip-path=\"url(#clip5502)\" style=\"stroke:#000000; stroke-width:2; stroke-opacity:0.1; fill:none\" points=\"\n",
       "  243.864,978.884 2352.76,978.884 \n",
       "  \"/>\n",
       "<polyline clip-path=\"url(#clip5502)\" style=\"stroke:#000000; stroke-width:2; stroke-opacity:0.1; fill:none\" points=\"\n",
       "  243.864,736.431 2352.76,736.431 \n",
       "  \"/>\n",
       "<polyline clip-path=\"url(#clip5502)\" style=\"stroke:#000000; stroke-width:2; stroke-opacity:0.1; fill:none\" points=\"\n",
       "  243.864,493.978 2352.76,493.978 \n",
       "  \"/>\n",
       "<polyline clip-path=\"url(#clip5502)\" style=\"stroke:#000000; stroke-width:2; stroke-opacity:0.1; fill:none\" points=\"\n",
       "  243.864,251.526 2352.76,251.526 \n",
       "  \"/>\n",
       "<polyline clip-path=\"url(#clip5500)\" style=\"stroke:#000000; stroke-width:4; stroke-opacity:1; fill:none\" points=\"\n",
       "  243.864,1425.62 2352.76,1425.62 \n",
       "  \"/>\n",
       "<polyline clip-path=\"url(#clip5500)\" style=\"stroke:#000000; stroke-width:4; stroke-opacity:1; fill:none\" points=\"\n",
       "  243.864,1425.62 243.864,47.2441 \n",
       "  \"/>\n",
       "<polyline clip-path=\"url(#clip5500)\" style=\"stroke:#000000; stroke-width:4; stroke-opacity:1; fill:none\" points=\"\n",
       "  490.102,1425.62 490.102,1409.08 \n",
       "  \"/>\n",
       "<polyline clip-path=\"url(#clip5500)\" style=\"stroke:#000000; stroke-width:4; stroke-opacity:1; fill:none\" points=\"\n",
       "  894.19,1425.62 894.19,1409.08 \n",
       "  \"/>\n",
       "<polyline clip-path=\"url(#clip5500)\" style=\"stroke:#000000; stroke-width:4; stroke-opacity:1; fill:none\" points=\"\n",
       "  1298.28,1425.62 1298.28,1409.08 \n",
       "  \"/>\n",
       "<polyline clip-path=\"url(#clip5500)\" style=\"stroke:#000000; stroke-width:4; stroke-opacity:1; fill:none\" points=\"\n",
       "  1702.37,1425.62 1702.37,1409.08 \n",
       "  \"/>\n",
       "<polyline clip-path=\"url(#clip5500)\" style=\"stroke:#000000; stroke-width:4; stroke-opacity:1; fill:none\" points=\"\n",
       "  2106.45,1425.62 2106.45,1409.08 \n",
       "  \"/>\n",
       "<polyline clip-path=\"url(#clip5500)\" style=\"stroke:#000000; stroke-width:4; stroke-opacity:1; fill:none\" points=\"\n",
       "  243.864,1221.34 269.171,1221.34 \n",
       "  \"/>\n",
       "<polyline clip-path=\"url(#clip5500)\" style=\"stroke:#000000; stroke-width:4; stroke-opacity:1; fill:none\" points=\"\n",
       "  243.864,978.884 269.171,978.884 \n",
       "  \"/>\n",
       "<polyline clip-path=\"url(#clip5500)\" style=\"stroke:#000000; stroke-width:4; stroke-opacity:1; fill:none\" points=\"\n",
       "  243.864,736.431 269.171,736.431 \n",
       "  \"/>\n",
       "<polyline clip-path=\"url(#clip5500)\" style=\"stroke:#000000; stroke-width:4; stroke-opacity:1; fill:none\" points=\"\n",
       "  243.864,493.978 269.171,493.978 \n",
       "  \"/>\n",
       "<polyline clip-path=\"url(#clip5500)\" style=\"stroke:#000000; stroke-width:4; stroke-opacity:1; fill:none\" points=\"\n",
       "  243.864,251.526 269.171,251.526 \n",
       "  \"/>\n",
       "<g clip-path=\"url(#clip5500)\">\n",
       "<text style=\"fill:#000000; fill-opacity:1; font-family:Arial,Helvetica Neue,Helvetica,sans-serif; font-size:48px; text-anchor:middle;\" transform=\"rotate(0, 490.102, 1479.62)\" x=\"490.102\" y=\"1479.62\">-1.5</text>\n",
       "</g>\n",
       "<g clip-path=\"url(#clip5500)\">\n",
       "<text style=\"fill:#000000; fill-opacity:1; font-family:Arial,Helvetica Neue,Helvetica,sans-serif; font-size:48px; text-anchor:middle;\" transform=\"rotate(0, 894.19, 1479.62)\" x=\"894.19\" y=\"1479.62\">-1.0</text>\n",
       "</g>\n",
       "<g clip-path=\"url(#clip5500)\">\n",
       "<text style=\"fill:#000000; fill-opacity:1; font-family:Arial,Helvetica Neue,Helvetica,sans-serif; font-size:48px; text-anchor:middle;\" transform=\"rotate(0, 1298.28, 1479.62)\" x=\"1298.28\" y=\"1479.62\">-0.5</text>\n",
       "</g>\n",
       "<g clip-path=\"url(#clip5500)\">\n",
       "<text style=\"fill:#000000; fill-opacity:1; font-family:Arial,Helvetica Neue,Helvetica,sans-serif; font-size:48px; text-anchor:middle;\" transform=\"rotate(0, 1702.37, 1479.62)\" x=\"1702.37\" y=\"1479.62\">0.0</text>\n",
       "</g>\n",
       "<g clip-path=\"url(#clip5500)\">\n",
       "<text style=\"fill:#000000; fill-opacity:1; font-family:Arial,Helvetica Neue,Helvetica,sans-serif; font-size:48px; text-anchor:middle;\" transform=\"rotate(0, 2106.45, 1479.62)\" x=\"2106.45\" y=\"1479.62\">0.5</text>\n",
       "</g>\n",
       "<g clip-path=\"url(#clip5500)\">\n",
       "<text style=\"fill:#000000; fill-opacity:1; font-family:Arial,Helvetica Neue,Helvetica,sans-serif; font-size:48px; text-anchor:end;\" transform=\"rotate(0, 219.864, 1238.84)\" x=\"219.864\" y=\"1238.84\">-0.6</text>\n",
       "</g>\n",
       "<g clip-path=\"url(#clip5500)\">\n",
       "<text style=\"fill:#000000; fill-opacity:1; font-family:Arial,Helvetica Neue,Helvetica,sans-serif; font-size:48px; text-anchor:end;\" transform=\"rotate(0, 219.864, 996.384)\" x=\"219.864\" y=\"996.384\">-0.3</text>\n",
       "</g>\n",
       "<g clip-path=\"url(#clip5500)\">\n",
       "<text style=\"fill:#000000; fill-opacity:1; font-family:Arial,Helvetica Neue,Helvetica,sans-serif; font-size:48px; text-anchor:end;\" transform=\"rotate(0, 219.864, 753.931)\" x=\"219.864\" y=\"753.931\">0.0</text>\n",
       "</g>\n",
       "<g clip-path=\"url(#clip5500)\">\n",
       "<text style=\"fill:#000000; fill-opacity:1; font-family:Arial,Helvetica Neue,Helvetica,sans-serif; font-size:48px; text-anchor:end;\" transform=\"rotate(0, 219.864, 511.478)\" x=\"219.864\" y=\"511.478\">0.3</text>\n",
       "</g>\n",
       "<g clip-path=\"url(#clip5500)\">\n",
       "<text style=\"fill:#000000; fill-opacity:1; font-family:Arial,Helvetica Neue,Helvetica,sans-serif; font-size:48px; text-anchor:end;\" transform=\"rotate(0, 219.864, 269.026)\" x=\"219.864\" y=\"269.026\">0.6</text>\n",
       "</g>\n",
       "<g clip-path=\"url(#clip5500)\">\n",
       "<text style=\"fill:#000000; fill-opacity:1; font-family:Arial,Helvetica Neue,Helvetica,sans-serif; font-size:66px; text-anchor:middle;\" transform=\"rotate(0, 1298.31, 1559.48)\" x=\"1298.31\" y=\"1559.48\">Real(h lambda)</text>\n",
       "</g>\n",
       "<g clip-path=\"url(#clip5500)\">\n",
       "<text style=\"fill:#000000; fill-opacity:1; font-family:Arial,Helvetica Neue,Helvetica,sans-serif; font-size:66px; text-anchor:middle;\" transform=\"rotate(-90, 89.2861, 736.431)\" x=\"89.2861\" y=\"736.431\">Imag(h lambda)</text>\n",
       "</g>\n",
       "<path clip-path=\"url(#clip5502)\" d=\"\n",
       "M1702.37 736.431 L1702.37 710.925 L1702.36 685.482 L1702.35 660.164 L1702.32 635.034 L1702.24 610.15 L1702.11 585.568 L1701.91 561.341 L1701.59 537.517 L1701.14 514.14 \n",
       "  L1700.53 491.253 L1699.72 468.889 L1698.69 447.08 L1697.41 425.854 L1695.84 405.232 L1693.96 385.235 L1691.75 365.876 L1689.17 347.167 L1686.21 329.117 L1682.84 311.732 \n",
       "  L1679.06 295.016 L1674.83 278.971 L1670.17 263.595 L1665.05 248.889 L1659.46 234.849 L1653.42 221.473 L1646.9 208.756 L1639.92 196.695 L1632.48 185.284 L1624.58 174.519 \n",
       "  L1616.23 164.396 L1607.43 154.909 L1598.21 146.054 L1588.56 137.827 L1578.5 130.222 L1568.05 123.237 L1557.22 116.867 L1546.03 111.109 L1534.49 105.958 L1522.61 101.412 \n",
       "  L1510.43 97.4671 L1497.94 94.1205 L1485.19 91.369 L1472.17 89.2097 L1458.92 87.6396 L1445.45 86.6556 L1431.78 86.2547 L1417.93 86.4338 L1403.93 87.1898 L1389.78 88.5191 \n",
       "  L1375.52 90.4184 L1361.16 92.884 L1346.72 95.9119 L1332.23 99.4979 L1317.69 103.638 L1303.14 108.327 L1288.59 113.56 L1274.05 119.332 L1259.56 125.637 L1245.13 132.47 \n",
       "  L1230.78 139.824 L1216.52 147.693 L1202.38 156.069 L1188.37 164.946 L1174.51 174.315 L1160.82 184.168 L1147.32 194.498 L1134.02 205.295 L1120.93 216.551 L1108.08 228.254 \n",
       "  L1095.49 240.397 L1083.16 252.967 L1071.11 265.956 L1059.35 279.351 L1047.91 293.141 L1036.79 307.315 L1026 321.86 L1015.57 336.764 L1005.49 352.014 L995.796 367.597 \n",
       "  L986.484 383.501 L977.567 399.711 L969.058 416.213 L960.966 432.993 L953.299 450.036 L946.068 467.329 L939.281 484.856 L932.945 502.601 L927.068 520.55 L921.657 538.687 \n",
       "  L916.718 556.997 L912.256 575.462 L908.277 594.068 L904.785 612.798 L901.785 631.635 L899.279 650.564 L897.271 669.568 L895.763 688.63 L894.757 707.734 L894.253 726.863 \n",
       "  L894.253 746 L894.757 765.129 L895.763 784.233 L897.271 803.295 L899.279 822.299 L901.785 841.228 L904.785 860.065 L908.277 878.795 L912.256 897.401 L916.718 915.866 \n",
       "  L921.657 934.175 L927.068 952.312 L932.945 970.261 L939.281 988.007 L946.068 1005.53 L953.299 1022.83 L960.966 1039.87 L969.058 1056.65 L977.567 1073.15 L986.484 1089.36 \n",
       "  L995.796 1105.27 L1005.49 1120.85 L1015.57 1136.1 L1026 1151 L1036.79 1165.55 L1047.91 1179.72 L1059.35 1193.51 L1071.11 1206.91 L1083.16 1219.9 L1095.49 1232.47 \n",
       "  L1108.08 1244.61 L1120.93 1256.31 L1134.02 1267.57 L1147.32 1278.36 L1160.82 1288.69 L1174.51 1298.55 L1188.37 1307.92 L1202.38 1316.79 L1216.52 1325.17 L1230.78 1333.04 \n",
       "  L1245.13 1340.39 L1259.56 1347.23 L1274.05 1353.53 L1288.59 1359.3 L1303.14 1364.54 L1317.69 1369.22 L1332.23 1373.36 L1346.72 1376.95 L1361.16 1379.98 L1375.52 1382.44 \n",
       "  L1389.78 1384.34 L1403.93 1385.67 L1417.93 1386.43 L1431.78 1386.61 L1445.45 1386.21 L1458.92 1385.22 L1472.17 1383.65 L1485.19 1381.49 L1497.94 1378.74 L1510.43 1375.4 \n",
       "  L1522.61 1371.45 L1534.49 1366.9 L1546.03 1361.75 L1557.22 1356 L1568.05 1349.63 L1578.5 1342.64 L1588.56 1335.04 L1598.21 1326.81 L1607.43 1317.95 L1616.23 1308.47 \n",
       "  L1624.58 1298.34 L1632.48 1287.58 L1639.92 1276.17 L1646.9 1264.11 L1653.42 1251.39 L1659.46 1238.01 L1665.05 1223.97 L1670.17 1209.27 L1674.83 1193.89 L1679.06 1177.85 \n",
       "  L1682.84 1161.13 L1686.21 1143.75 L1689.17 1125.7 L1691.75 1106.99 L1693.96 1087.63 L1695.84 1067.63 L1697.41 1047.01 L1698.69 1025.78 L1699.72 1003.97 L1700.53 981.61 \n",
       "  L1701.14 958.722 L1701.59 935.346 L1701.91 911.522 L1702.11 887.295 L1702.24 862.712 L1702.32 837.828 L1702.35 812.698 L1702.36 787.381 L1702.37 761.938 L1702.37 736.431 \n",
       "  L1702.37 736.431 L1702.37 736.431 L1702.36 736.431 L1702.35 736.431 L1702.32 736.431 L1702.24 736.431 L1702.11 736.431 L1701.91 736.431 L1701.59 736.431 L1701.14 736.431 \n",
       "  L1700.53 736.431 L1699.72 736.431 L1698.69 736.431 L1697.41 736.431 L1695.84 736.431 L1693.96 736.431 L1691.75 736.431 L1689.17 736.431 L1686.21 736.431 L1682.84 736.431 \n",
       "  L1679.06 736.431 L1674.83 736.431 L1670.17 736.431 L1665.05 736.431 L1659.46 736.431 L1653.42 736.431 L1646.9 736.431 L1639.92 736.431 L1632.48 736.431 L1624.58 736.431 \n",
       "  L1616.23 736.431 L1607.43 736.431 L1598.21 736.431 L1588.56 736.431 L1578.5 736.431 L1568.05 736.431 L1557.22 736.431 L1546.03 736.431 L1534.49 736.431 L1522.61 736.431 \n",
       "  L1510.43 736.431 L1497.94 736.431 L1485.19 736.431 L1472.17 736.431 L1458.92 736.431 L1445.45 736.431 L1431.78 736.431 L1417.93 736.431 L1403.93 736.431 L1389.78 736.431 \n",
       "  L1375.52 736.431 L1361.16 736.431 L1346.72 736.431 L1332.23 736.431 L1317.69 736.431 L1303.14 736.431 L1288.59 736.431 L1274.05 736.431 L1259.56 736.431 L1245.13 736.431 \n",
       "  L1230.78 736.431 L1216.52 736.431 L1202.38 736.431 L1188.37 736.431 L1174.51 736.431 L1160.82 736.431 L1147.32 736.431 L1134.02 736.431 L1120.93 736.431 L1108.08 736.431 \n",
       "  L1095.49 736.431 L1083.16 736.431 L1071.11 736.431 L1059.35 736.431 L1047.91 736.431 L1036.79 736.431 L1026 736.431 L1015.57 736.431 L1005.49 736.431 L995.796 736.431 \n",
       "  L986.484 736.431 L977.567 736.431 L969.058 736.431 L960.966 736.431 L953.299 736.431 L946.068 736.431 L939.281 736.431 L932.945 736.431 L927.068 736.431 L921.657 736.431 \n",
       "  L916.718 736.431 L912.256 736.431 L908.277 736.431 L904.785 736.431 L901.785 736.431 L899.279 736.431 L897.271 736.431 L895.763 736.431 L894.757 736.431 L894.253 736.431 \n",
       "  L894.253 736.431 L894.757 736.431 L895.763 736.431 L897.271 736.431 L899.279 736.431 L901.785 736.431 L904.785 736.431 L908.277 736.431 L912.256 736.431 L916.718 736.431 \n",
       "  L921.657 736.431 L927.068 736.431 L932.945 736.431 L939.281 736.431 L946.068 736.431 L953.299 736.431 L960.966 736.431 L969.058 736.431 L977.567 736.431 L986.484 736.431 \n",
       "  L995.796 736.431 L1005.49 736.431 L1015.57 736.431 L1026 736.431 L1036.79 736.431 L1047.91 736.431 L1059.35 736.431 L1071.11 736.431 L1083.16 736.431 L1095.49 736.431 \n",
       "  L1108.08 736.431 L1120.93 736.431 L1134.02 736.431 L1147.32 736.431 L1160.82 736.431 L1174.51 736.431 L1188.37 736.431 L1202.38 736.431 L1216.52 736.431 L1230.78 736.431 \n",
       "  L1245.13 736.431 L1259.56 736.431 L1274.05 736.431 L1288.59 736.431 L1303.14 736.431 L1317.69 736.431 L1332.23 736.431 L1346.72 736.431 L1361.16 736.431 L1375.52 736.431 \n",
       "  L1389.78 736.431 L1403.93 736.431 L1417.93 736.431 L1431.78 736.431 L1445.45 736.431 L1458.92 736.431 L1472.17 736.431 L1485.19 736.431 L1497.94 736.431 L1510.43 736.431 \n",
       "  L1522.61 736.431 L1534.49 736.431 L1546.03 736.431 L1557.22 736.431 L1568.05 736.431 L1578.5 736.431 L1588.56 736.431 L1598.21 736.431 L1607.43 736.431 L1616.23 736.431 \n",
       "  L1624.58 736.431 L1632.48 736.431 L1639.92 736.431 L1646.9 736.431 L1653.42 736.431 L1659.46 736.431 L1665.05 736.431 L1670.17 736.431 L1674.83 736.431 L1679.06 736.431 \n",
       "  L1682.84 736.431 L1686.21 736.431 L1689.17 736.431 L1691.75 736.431 L1693.96 736.431 L1695.84 736.431 L1697.41 736.431 L1698.69 736.431 L1699.72 736.431 L1700.53 736.431 \n",
       "  L1701.14 736.431 L1701.59 736.431 L1701.91 736.431 L1702.11 736.431 L1702.24 736.431 L1702.32 736.431 L1702.35 736.431 L1702.36 736.431 L1702.37 736.431 L1702.37 736.431 \n",
       "   Z\n",
       "  \" fill=\"#ffa500\" fill-rule=\"evenodd\" fill-opacity=\"1\"/>\n",
       "<polyline clip-path=\"url(#clip5502)\" style=\"stroke:#009af9; stroke-width:8; stroke-opacity:1; fill:none\" points=\"\n",
       "  1702.37,736.431 1702.37,710.925 1702.36,685.482 1702.35,660.164 1702.32,635.034 1702.24,610.15 1702.11,585.568 1701.91,561.341 1701.59,537.517 1701.14,514.14 \n",
       "  1700.53,491.253 1699.72,468.889 1698.69,447.08 1697.41,425.854 1695.84,405.232 1693.96,385.235 1691.75,365.876 1689.17,347.167 1686.21,329.117 1682.84,311.732 \n",
       "  1679.06,295.016 1674.83,278.971 1670.17,263.595 1665.05,248.889 1659.46,234.849 1653.42,221.473 1646.9,208.756 1639.92,196.695 1632.48,185.284 1624.58,174.519 \n",
       "  1616.23,164.396 1607.43,154.909 1598.21,146.054 1588.56,137.827 1578.5,130.222 1568.05,123.237 1557.22,116.867 1546.03,111.109 1534.49,105.958 1522.61,101.412 \n",
       "  1510.43,97.4671 1497.94,94.1205 1485.19,91.369 1472.17,89.2097 1458.92,87.6396 1445.45,86.6556 1431.78,86.2547 1417.93,86.4338 1403.93,87.1898 1389.78,88.5191 \n",
       "  1375.52,90.4184 1361.16,92.884 1346.72,95.9119 1332.23,99.4979 1317.69,103.638 1303.14,108.327 1288.59,113.56 1274.05,119.332 1259.56,125.637 1245.13,132.47 \n",
       "  1230.78,139.824 1216.52,147.693 1202.38,156.069 1188.37,164.946 1174.51,174.315 1160.82,184.168 1147.32,194.498 1134.02,205.295 1120.93,216.551 1108.08,228.254 \n",
       "  1095.49,240.397 1083.16,252.967 1071.11,265.956 1059.35,279.351 1047.91,293.141 1036.79,307.315 1026,321.86 1015.57,336.764 1005.49,352.014 995.796,367.597 \n",
       "  986.484,383.501 977.567,399.711 969.058,416.213 960.966,432.993 953.299,450.036 946.068,467.329 939.281,484.856 932.945,502.601 927.068,520.55 921.657,538.687 \n",
       "  916.718,556.997 912.256,575.462 908.277,594.068 904.785,612.798 901.785,631.635 899.279,650.564 897.271,669.568 895.763,688.63 894.757,707.734 894.253,726.863 \n",
       "  894.253,746 894.757,765.129 895.763,784.233 897.271,803.295 899.279,822.299 901.785,841.228 904.785,860.065 908.277,878.795 912.256,897.401 916.718,915.866 \n",
       "  921.657,934.175 927.068,952.312 932.945,970.261 939.281,988.007 946.068,1005.53 953.299,1022.83 960.966,1039.87 969.058,1056.65 977.567,1073.15 986.484,1089.36 \n",
       "  995.796,1105.27 1005.49,1120.85 1015.57,1136.1 1026,1151 1036.79,1165.55 1047.91,1179.72 1059.35,1193.51 1071.11,1206.91 1083.16,1219.9 1095.49,1232.47 \n",
       "  1108.08,1244.61 1120.93,1256.31 1134.02,1267.57 1147.32,1278.36 1160.82,1288.69 1174.51,1298.55 1188.37,1307.92 1202.38,1316.79 1216.52,1325.17 1230.78,1333.04 \n",
       "  1245.13,1340.39 1259.56,1347.23 1274.05,1353.53 1288.59,1359.3 1303.14,1364.54 1317.69,1369.22 1332.23,1373.36 1346.72,1376.95 1361.16,1379.98 1375.52,1382.44 \n",
       "  1389.78,1384.34 1403.93,1385.67 1417.93,1386.43 1431.78,1386.61 1445.45,1386.21 1458.92,1385.22 1472.17,1383.65 1485.19,1381.49 1497.94,1378.74 1510.43,1375.4 \n",
       "  1522.61,1371.45 1534.49,1366.9 1546.03,1361.75 1557.22,1356 1568.05,1349.63 1578.5,1342.64 1588.56,1335.04 1598.21,1326.81 1607.43,1317.95 1616.23,1308.47 \n",
       "  1624.58,1298.34 1632.48,1287.58 1639.92,1276.17 1646.9,1264.11 1653.42,1251.39 1659.46,1238.01 1665.05,1223.97 1670.17,1209.27 1674.83,1193.89 1679.06,1177.85 \n",
       "  1682.84,1161.13 1686.21,1143.75 1689.17,1125.7 1691.75,1106.99 1693.96,1087.63 1695.84,1067.63 1697.41,1047.01 1698.69,1025.78 1699.72,1003.97 1700.53,981.61 \n",
       "  1701.14,958.722 1701.59,935.346 1701.91,911.522 1702.11,887.295 1702.24,862.712 1702.32,837.828 1702.35,812.698 1702.36,787.381 1702.37,761.938 1702.37,736.431 \n",
       "  \n",
       "  \"/>\n",
       "</svg>\n"
      ]
     },
     "execution_count": 8,
     "metadata": {},
     "output_type": "execute_result"
    }
   ],
   "source": [
    "Zxn = lambdify(sol[zx])\n",
    "Zyn = lambdify(sol[zy])\n",
    "plot( Zxn, Zyn, 0, 2π,\n",
    "    xlabel=\"Real(h lambda)\", ylabel=\"Imag(h lambda)\",\n",
    "    line=2,\n",
    "    fill=(0, :orange),\n",
    "    legend=false,\n",
    "    aspect_ratio=:equal)"
   ]
  },
  {
   "cell_type": "markdown",
   "metadata": {},
   "source": [
    "## Test problem #1\n",
    "$$ \\dot x = \\begin{bmatrix} 0 & 1 \\\\ -1 & 0 \\end{bmatrix}x $$"
   ]
  },
  {
   "cell_type": "code",
   "execution_count": 9,
   "metadata": {},
   "outputs": [
    {
     "data": {
      "text/latex": [
       "\\[ \\left[ \\begin{array}{r}0.049998724661753\\\\1.00002550741555\\end{array} \\right] \\]"
      ],
      "text/plain": [
       "2-element Array{Sym,1}:\n",
       " 0.0499987246617530\n",
       "   1.00002550741555"
      ]
     },
     "execution_count": 9,
     "metadata": {},
     "output_type": "execute_result"
    }
   ],
   "source": [
    "abs.( solve( ex2 |> subs(λ=>1im, h => 0.1 ), σ ) )"
   ]
  },
  {
   "cell_type": "markdown",
   "metadata": {},
   "source": [
    "I can play around with the size of $h$ and see that only for $h \\to 0$ will the second value go to 1.  So there is no change of making this work for $\\lambda = \\pm 1j$."
   ]
  },
  {
   "cell_type": "markdown",
   "metadata": {},
   "source": [
    "## Test problem #2\n",
    "$$ \\dot x = \\begin{bmatrix} 0 & 1 & 0 \\\\ 0 & 0 & 1 \\\\ -23 & -304 & -732 \\end{bmatrix}x $$"
   ]
  },
  {
   "cell_type": "code",
   "execution_count": 10,
   "metadata": {},
   "outputs": [
    {
     "data": {
      "text/plain": [
       "3-element Array{Float64,1}:\n",
       " -731.5845065625867\n",
       "   -0.31600607909323586\n",
       "   -0.09948735832003104"
      ]
     },
     "execution_count": 10,
     "metadata": {},
     "output_type": "execute_result"
    }
   ],
   "source": [
    "using LinearAlgebra, Printf\n",
    "λ2 = eigvals( [0 1 0;\n",
    "        0 0 1; \n",
    "        -23 -304 -732] )"
   ]
  },
  {
   "cell_type": "code",
   "execution_count": 11,
   "metadata": {},
   "outputs": [
    {
     "data": {
      "text/latex": [
       "\\[ \\left[ \\begin{array}{r}0.655452594111205\\\\0.558075834267325\\end{array} \\right] \\]"
      ],
      "text/plain": [
       "2-element Array{Sym,1}:\n",
       " 0.655452594111205\n",
       " 0.558075834267325"
      ]
     },
     "execution_count": 11,
     "metadata": {},
     "output_type": "execute_result"
    }
   ],
   "source": [
    "abs.( solve( ex2 |> subs(λ=>λ2[1], h => 0.001 ), σ ) )"
   ]
  },
  {
   "cell_type": "markdown",
   "metadata": {},
   "source": [
    "We can try to visualize this"
   ]
  },
  {
   "cell_type": "code",
   "execution_count": 12,
   "metadata": {},
   "outputs": [
    {
     "data": {
      "text/latex": [
       "\\[ \\left[ \\begin{array}{r}\\frac{3 h \\lambda}{4} - \\frac{\\sqrt{9 h^{2} \\lambda^{2} + 4 h \\lambda + 4}}{4} + \\frac{1}{2}\\\\\\frac{3 h \\lambda}{4} + \\frac{\\sqrt{9 h^{2} \\lambda^{2} + 4 h \\lambda + 4}}{4} + \\frac{1}{2}\\end{array} \\right] \\]"
      ],
      "text/plain": [
       "2-element Array{Sym,1}:\n",
       " 3*h*lambda/4 - sqrt(9*h^2*lambda^2 + 4*h*lambda + 4)/4 + 1/2\n",
       " 3*h*lambda/4 + sqrt(9*h^2*lambda^2 + 4*h*lambda + 4)/4 + 1/2"
      ]
     },
     "execution_count": 12,
     "metadata": {},
     "output_type": "execute_result"
    }
   ],
   "source": [
    "sol_σ = solve( ex2, σ )"
   ]
  },
  {
   "cell_type": "code",
   "execution_count": 13,
   "metadata": {},
   "outputs": [
    {
     "data": {
      "text/plain": [
       "Σ (generic function with 1 method)"
      ]
     },
     "execution_count": 13,
     "metadata": {},
     "output_type": "execute_result"
    }
   ],
   "source": [
    "Σ(h, λ, j) = abs( lambdify(sol_σ[j])(h,λ) )"
   ]
  },
  {
   "cell_type": "code",
   "execution_count": 14,
   "metadata": {},
   "outputs": [
    {
     "data": {
      "image/svg+xml": [
       "<?xml version=\"1.0\" encoding=\"utf-8\"?>\n",
       "<svg xmlns=\"http://www.w3.org/2000/svg\" xmlns:xlink=\"http://www.w3.org/1999/xlink\" width=\"600\" height=\"400\" viewBox=\"0 0 2400 1600\">\n",
       "<defs>\n",
       "  <clipPath id=\"clip5900\">\n",
       "    <rect x=\"0\" y=\"0\" width=\"2400\" height=\"1600\"/>\n",
       "  </clipPath>\n",
       "</defs>\n",
       "<path clip-path=\"url(#clip5900)\" d=\"\n",
       "M0 1600 L2400 1600 L2400 0 L0 0  Z\n",
       "  \" fill=\"#ffffff\" fill-rule=\"evenodd\" fill-opacity=\"1\"/>\n",
       "<defs>\n",
       "  <clipPath id=\"clip5901\">\n",
       "    <rect x=\"480\" y=\"0\" width=\"1681\" height=\"1600\"/>\n",
       "  </clipPath>\n",
       "</defs>\n",
       "<path clip-path=\"url(#clip5900)\" d=\"\n",
       "M279.82 1425.62 L2352.76 1425.62 L2352.76 47.2441 L279.82 47.2441  Z\n",
       "  \" fill=\"#ffffff\" fill-rule=\"evenodd\" fill-opacity=\"1\"/>\n",
       "<defs>\n",
       "  <clipPath id=\"clip5902\">\n",
       "    <rect x=\"279\" y=\"47\" width=\"2074\" height=\"1379\"/>\n",
       "  </clipPath>\n",
       "</defs>\n",
       "<polyline clip-path=\"url(#clip5902)\" style=\"stroke:#000000; stroke-width:2; stroke-opacity:0.1; fill:none\" points=\"\n",
       "  338.488,1425.62 338.488,47.2441 \n",
       "  \"/>\n",
       "<polyline clip-path=\"url(#clip5902)\" style=\"stroke:#000000; stroke-width:2; stroke-opacity:0.1; fill:none\" points=\"\n",
       "  827.388,1425.62 827.388,47.2441 \n",
       "  \"/>\n",
       "<polyline clip-path=\"url(#clip5902)\" style=\"stroke:#000000; stroke-width:2; stroke-opacity:0.1; fill:none\" points=\"\n",
       "  1316.29,1425.62 1316.29,47.2441 \n",
       "  \"/>\n",
       "<polyline clip-path=\"url(#clip5902)\" style=\"stroke:#000000; stroke-width:2; stroke-opacity:0.1; fill:none\" points=\"\n",
       "  1805.19,1425.62 1805.19,47.2441 \n",
       "  \"/>\n",
       "<polyline clip-path=\"url(#clip5902)\" style=\"stroke:#000000; stroke-width:2; stroke-opacity:0.1; fill:none\" points=\"\n",
       "  2294.09,1425.62 2294.09,47.2441 \n",
       "  \"/>\n",
       "<polyline clip-path=\"url(#clip5902)\" style=\"stroke:#000000; stroke-width:2; stroke-opacity:0.1; fill:none\" points=\"\n",
       "  279.82,1324.19 2352.76,1324.19 \n",
       "  \"/>\n",
       "<polyline clip-path=\"url(#clip5902)\" style=\"stroke:#000000; stroke-width:2; stroke-opacity:0.1; fill:none\" points=\"\n",
       "  279.82,1118.34 2352.76,1118.34 \n",
       "  \"/>\n",
       "<polyline clip-path=\"url(#clip5902)\" style=\"stroke:#000000; stroke-width:2; stroke-opacity:0.1; fill:none\" points=\"\n",
       "  279.82,912.503 2352.76,912.503 \n",
       "  \"/>\n",
       "<polyline clip-path=\"url(#clip5902)\" style=\"stroke:#000000; stroke-width:2; stroke-opacity:0.1; fill:none\" points=\"\n",
       "  279.82,706.662 2352.76,706.662 \n",
       "  \"/>\n",
       "<polyline clip-path=\"url(#clip5902)\" style=\"stroke:#000000; stroke-width:2; stroke-opacity:0.1; fill:none\" points=\"\n",
       "  279.82,500.821 2352.76,500.821 \n",
       "  \"/>\n",
       "<polyline clip-path=\"url(#clip5902)\" style=\"stroke:#000000; stroke-width:2; stroke-opacity:0.1; fill:none\" points=\"\n",
       "  279.82,294.98 2352.76,294.98 \n",
       "  \"/>\n",
       "<polyline clip-path=\"url(#clip5902)\" style=\"stroke:#000000; stroke-width:2; stroke-opacity:0.1; fill:none\" points=\"\n",
       "  279.82,89.1393 2352.76,89.1393 \n",
       "  \"/>\n",
       "<polyline clip-path=\"url(#clip5900)\" style=\"stroke:#000000; stroke-width:4; stroke-opacity:1; fill:none\" points=\"\n",
       "  279.82,1425.62 2352.76,1425.62 \n",
       "  \"/>\n",
       "<polyline clip-path=\"url(#clip5900)\" style=\"stroke:#000000; stroke-width:4; stroke-opacity:1; fill:none\" points=\"\n",
       "  279.82,1425.62 279.82,47.2441 \n",
       "  \"/>\n",
       "<polyline clip-path=\"url(#clip5900)\" style=\"stroke:#000000; stroke-width:4; stroke-opacity:1; fill:none\" points=\"\n",
       "  338.488,1425.62 338.488,1409.08 \n",
       "  \"/>\n",
       "<polyline clip-path=\"url(#clip5900)\" style=\"stroke:#000000; stroke-width:4; stroke-opacity:1; fill:none\" points=\"\n",
       "  827.388,1425.62 827.388,1409.08 \n",
       "  \"/>\n",
       "<polyline clip-path=\"url(#clip5900)\" style=\"stroke:#000000; stroke-width:4; stroke-opacity:1; fill:none\" points=\"\n",
       "  1316.29,1425.62 1316.29,1409.08 \n",
       "  \"/>\n",
       "<polyline clip-path=\"url(#clip5900)\" style=\"stroke:#000000; stroke-width:4; stroke-opacity:1; fill:none\" points=\"\n",
       "  1805.19,1425.62 1805.19,1409.08 \n",
       "  \"/>\n",
       "<polyline clip-path=\"url(#clip5900)\" style=\"stroke:#000000; stroke-width:4; stroke-opacity:1; fill:none\" points=\"\n",
       "  2294.09,1425.62 2294.09,1409.08 \n",
       "  \"/>\n",
       "<polyline clip-path=\"url(#clip5900)\" style=\"stroke:#000000; stroke-width:4; stroke-opacity:1; fill:none\" points=\"\n",
       "  279.82,1324.19 304.695,1324.19 \n",
       "  \"/>\n",
       "<polyline clip-path=\"url(#clip5900)\" style=\"stroke:#000000; stroke-width:4; stroke-opacity:1; fill:none\" points=\"\n",
       "  279.82,1118.34 304.695,1118.34 \n",
       "  \"/>\n",
       "<polyline clip-path=\"url(#clip5900)\" style=\"stroke:#000000; stroke-width:4; stroke-opacity:1; fill:none\" points=\"\n",
       "  279.82,912.503 304.695,912.503 \n",
       "  \"/>\n",
       "<polyline clip-path=\"url(#clip5900)\" style=\"stroke:#000000; stroke-width:4; stroke-opacity:1; fill:none\" points=\"\n",
       "  279.82,706.662 304.695,706.662 \n",
       "  \"/>\n",
       "<polyline clip-path=\"url(#clip5900)\" style=\"stroke:#000000; stroke-width:4; stroke-opacity:1; fill:none\" points=\"\n",
       "  279.82,500.821 304.695,500.821 \n",
       "  \"/>\n",
       "<polyline clip-path=\"url(#clip5900)\" style=\"stroke:#000000; stroke-width:4; stroke-opacity:1; fill:none\" points=\"\n",
       "  279.82,294.98 304.695,294.98 \n",
       "  \"/>\n",
       "<polyline clip-path=\"url(#clip5900)\" style=\"stroke:#000000; stroke-width:4; stroke-opacity:1; fill:none\" points=\"\n",
       "  279.82,89.1393 304.695,89.1393 \n",
       "  \"/>\n",
       "<g clip-path=\"url(#clip5900)\">\n",
       "<text style=\"fill:#000000; fill-opacity:1; font-family:Arial,Helvetica Neue,Helvetica,sans-serif; font-size:48px; text-anchor:start;\" transform=\"rotate(0, 267.689, 1500.63)\" x=\"267.689\" y=\"1500.63\">10</text>\n",
       "</g>\n",
       "<g clip-path=\"url(#clip5900)\">\n",
       "<text style=\"fill:#000000; fill-opacity:1; font-family:Arial,Helvetica Neue,Helvetica,sans-serif; font-size:38px; text-anchor:start;\" transform=\"rotate(0, 321.214, 1473.22)\" x=\"321.214\" y=\"1473.22\">-</text>\n",
       "</g>\n",
       "<g clip-path=\"url(#clip5900)\">\n",
       "<text style=\"fill:#000000; fill-opacity:1; font-family:Arial,Helvetica Neue,Helvetica,sans-serif; font-size:38px; text-anchor:start;\" transform=\"rotate(0, 344.054, 1473.22)\" x=\"344.054\" y=\"1473.22\">4.0 </text>\n",
       "</g>\n",
       "<g clip-path=\"url(#clip5900)\">\n",
       "<text style=\"fill:#000000; fill-opacity:1; font-family:Arial,Helvetica Neue,Helvetica,sans-serif; font-size:48px; text-anchor:start;\" transform=\"rotate(0, 756.589, 1500.63)\" x=\"756.589\" y=\"1500.63\">10</text>\n",
       "</g>\n",
       "<g clip-path=\"url(#clip5900)\">\n",
       "<text style=\"fill:#000000; fill-opacity:1; font-family:Arial,Helvetica Neue,Helvetica,sans-serif; font-size:38px; text-anchor:start;\" transform=\"rotate(0, 810.114, 1473.22)\" x=\"810.114\" y=\"1473.22\">-</text>\n",
       "</g>\n",
       "<g clip-path=\"url(#clip5900)\">\n",
       "<text style=\"fill:#000000; fill-opacity:1; font-family:Arial,Helvetica Neue,Helvetica,sans-serif; font-size:38px; text-anchor:start;\" transform=\"rotate(0, 832.953, 1473.22)\" x=\"832.953\" y=\"1473.22\">3.5 </text>\n",
       "</g>\n",
       "<g clip-path=\"url(#clip5900)\">\n",
       "<text style=\"fill:#000000; fill-opacity:1; font-family:Arial,Helvetica Neue,Helvetica,sans-serif; font-size:48px; text-anchor:start;\" transform=\"rotate(0, 1245.49, 1500.63)\" x=\"1245.49\" y=\"1500.63\">10</text>\n",
       "</g>\n",
       "<g clip-path=\"url(#clip5900)\">\n",
       "<text style=\"fill:#000000; fill-opacity:1; font-family:Arial,Helvetica Neue,Helvetica,sans-serif; font-size:38px; text-anchor:start;\" transform=\"rotate(0, 1299.01, 1473.22)\" x=\"1299.01\" y=\"1473.22\">-</text>\n",
       "</g>\n",
       "<g clip-path=\"url(#clip5900)\">\n",
       "<text style=\"fill:#000000; fill-opacity:1; font-family:Arial,Helvetica Neue,Helvetica,sans-serif; font-size:38px; text-anchor:start;\" transform=\"rotate(0, 1321.85, 1473.22)\" x=\"1321.85\" y=\"1473.22\">3.0 </text>\n",
       "</g>\n",
       "<g clip-path=\"url(#clip5900)\">\n",
       "<text style=\"fill:#000000; fill-opacity:1; font-family:Arial,Helvetica Neue,Helvetica,sans-serif; font-size:48px; text-anchor:start;\" transform=\"rotate(0, 1734.39, 1500.63)\" x=\"1734.39\" y=\"1500.63\">10</text>\n",
       "</g>\n",
       "<g clip-path=\"url(#clip5900)\">\n",
       "<text style=\"fill:#000000; fill-opacity:1; font-family:Arial,Helvetica Neue,Helvetica,sans-serif; font-size:38px; text-anchor:start;\" transform=\"rotate(0, 1787.91, 1473.22)\" x=\"1787.91\" y=\"1473.22\">-</text>\n",
       "</g>\n",
       "<g clip-path=\"url(#clip5900)\">\n",
       "<text style=\"fill:#000000; fill-opacity:1; font-family:Arial,Helvetica Neue,Helvetica,sans-serif; font-size:38px; text-anchor:start;\" transform=\"rotate(0, 1810.75, 1473.22)\" x=\"1810.75\" y=\"1473.22\">2.5 </text>\n",
       "</g>\n",
       "<g clip-path=\"url(#clip5900)\">\n",
       "<text style=\"fill:#000000; fill-opacity:1; font-family:Arial,Helvetica Neue,Helvetica,sans-serif; font-size:48px; text-anchor:start;\" transform=\"rotate(0, 2223.29, 1500.63)\" x=\"2223.29\" y=\"1500.63\">10</text>\n",
       "</g>\n",
       "<g clip-path=\"url(#clip5900)\">\n",
       "<text style=\"fill:#000000; fill-opacity:1; font-family:Arial,Helvetica Neue,Helvetica,sans-serif; font-size:38px; text-anchor:start;\" transform=\"rotate(0, 2276.81, 1473.22)\" x=\"2276.81\" y=\"1473.22\">-</text>\n",
       "</g>\n",
       "<g clip-path=\"url(#clip5900)\">\n",
       "<text style=\"fill:#000000; fill-opacity:1; font-family:Arial,Helvetica Neue,Helvetica,sans-serif; font-size:38px; text-anchor:start;\" transform=\"rotate(0, 2299.65, 1473.22)\" x=\"2299.65\" y=\"1473.22\">2.0 </text>\n",
       "</g>\n",
       "<g clip-path=\"url(#clip5900)\">\n",
       "<text style=\"fill:#000000; fill-opacity:1; font-family:Arial,Helvetica Neue,Helvetica,sans-serif; font-size:48px; text-anchor:start;\" transform=\"rotate(0, 146.839, 1347.91)\" x=\"146.839\" y=\"1347.91\">10</text>\n",
       "</g>\n",
       "<g clip-path=\"url(#clip5900)\">\n",
       "<text style=\"fill:#000000; fill-opacity:1; font-family:Arial,Helvetica Neue,Helvetica,sans-serif; font-size:38px; text-anchor:start;\" transform=\"rotate(0, 200.364, 1320.5)\" x=\"200.364\" y=\"1320.5\">-</text>\n",
       "</g>\n",
       "<g clip-path=\"url(#clip5900)\">\n",
       "<text style=\"fill:#000000; fill-opacity:1; font-family:Arial,Helvetica Neue,Helvetica,sans-serif; font-size:38px; text-anchor:start;\" transform=\"rotate(0, 223.203, 1320.5)\" x=\"223.203\" y=\"1320.5\">5 </text>\n",
       "</g>\n",
       "<g clip-path=\"url(#clip5900)\">\n",
       "<text style=\"fill:#000000; fill-opacity:1; font-family:Arial,Helvetica Neue,Helvetica,sans-serif; font-size:48px; text-anchor:start;\" transform=\"rotate(0, 146.839, 1142.07)\" x=\"146.839\" y=\"1142.07\">10</text>\n",
       "</g>\n",
       "<g clip-path=\"url(#clip5900)\">\n",
       "<text style=\"fill:#000000; fill-opacity:1; font-family:Arial,Helvetica Neue,Helvetica,sans-serif; font-size:38px; text-anchor:start;\" transform=\"rotate(0, 200.364, 1114.66)\" x=\"200.364\" y=\"1114.66\">-</text>\n",
       "</g>\n",
       "<g clip-path=\"url(#clip5900)\">\n",
       "<text style=\"fill:#000000; fill-opacity:1; font-family:Arial,Helvetica Neue,Helvetica,sans-serif; font-size:38px; text-anchor:start;\" transform=\"rotate(0, 223.203, 1114.66)\" x=\"223.203\" y=\"1114.66\">4 </text>\n",
       "</g>\n",
       "<g clip-path=\"url(#clip5900)\">\n",
       "<text style=\"fill:#000000; fill-opacity:1; font-family:Arial,Helvetica Neue,Helvetica,sans-serif; font-size:48px; text-anchor:start;\" transform=\"rotate(0, 146.839, 936.231)\" x=\"146.839\" y=\"936.231\">10</text>\n",
       "</g>\n",
       "<g clip-path=\"url(#clip5900)\">\n",
       "<text style=\"fill:#000000; fill-opacity:1; font-family:Arial,Helvetica Neue,Helvetica,sans-serif; font-size:38px; text-anchor:start;\" transform=\"rotate(0, 200.364, 908.82)\" x=\"200.364\" y=\"908.82\">-</text>\n",
       "</g>\n",
       "<g clip-path=\"url(#clip5900)\">\n",
       "<text style=\"fill:#000000; fill-opacity:1; font-family:Arial,Helvetica Neue,Helvetica,sans-serif; font-size:38px; text-anchor:start;\" transform=\"rotate(0, 223.203, 908.82)\" x=\"223.203\" y=\"908.82\">3 </text>\n",
       "</g>\n",
       "<g clip-path=\"url(#clip5900)\">\n",
       "<text style=\"fill:#000000; fill-opacity:1; font-family:Arial,Helvetica Neue,Helvetica,sans-serif; font-size:48px; text-anchor:start;\" transform=\"rotate(0, 146.839, 730.39)\" x=\"146.839\" y=\"730.39\">10</text>\n",
       "</g>\n",
       "<g clip-path=\"url(#clip5900)\">\n",
       "<text style=\"fill:#000000; fill-opacity:1; font-family:Arial,Helvetica Neue,Helvetica,sans-serif; font-size:38px; text-anchor:start;\" transform=\"rotate(0, 200.364, 702.979)\" x=\"200.364\" y=\"702.979\">-</text>\n",
       "</g>\n",
       "<g clip-path=\"url(#clip5900)\">\n",
       "<text style=\"fill:#000000; fill-opacity:1; font-family:Arial,Helvetica Neue,Helvetica,sans-serif; font-size:38px; text-anchor:start;\" transform=\"rotate(0, 223.203, 702.979)\" x=\"223.203\" y=\"702.979\">2 </text>\n",
       "</g>\n",
       "<g clip-path=\"url(#clip5900)\">\n",
       "<text style=\"fill:#000000; fill-opacity:1; font-family:Arial,Helvetica Neue,Helvetica,sans-serif; font-size:48px; text-anchor:start;\" transform=\"rotate(0, 146.839, 524.549)\" x=\"146.839\" y=\"524.549\">10</text>\n",
       "</g>\n",
       "<g clip-path=\"url(#clip5900)\">\n",
       "<text style=\"fill:#000000; fill-opacity:1; font-family:Arial,Helvetica Neue,Helvetica,sans-serif; font-size:38px; text-anchor:start;\" transform=\"rotate(0, 200.364, 497.138)\" x=\"200.364\" y=\"497.138\">-</text>\n",
       "</g>\n",
       "<g clip-path=\"url(#clip5900)\">\n",
       "<text style=\"fill:#000000; fill-opacity:1; font-family:Arial,Helvetica Neue,Helvetica,sans-serif; font-size:38px; text-anchor:start;\" transform=\"rotate(0, 223.203, 497.138)\" x=\"223.203\" y=\"497.138\">1 </text>\n",
       "</g>\n",
       "<g clip-path=\"url(#clip5900)\">\n",
       "<text style=\"fill:#000000; fill-opacity:1; font-family:Arial,Helvetica Neue,Helvetica,sans-serif; font-size:48px; text-anchor:start;\" transform=\"rotate(0, 169.679, 318.708)\" x=\"169.679\" y=\"318.708\">10</text>\n",
       "</g>\n",
       "<g clip-path=\"url(#clip5900)\">\n",
       "<text style=\"fill:#000000; fill-opacity:1; font-family:Arial,Helvetica Neue,Helvetica,sans-serif; font-size:38px; text-anchor:start;\" transform=\"rotate(0, 223.203, 291.297)\" x=\"223.203\" y=\"291.297\">0 </text>\n",
       "</g>\n",
       "<g clip-path=\"url(#clip5900)\">\n",
       "<text style=\"fill:#000000; fill-opacity:1; font-family:Arial,Helvetica Neue,Helvetica,sans-serif; font-size:48px; text-anchor:start;\" transform=\"rotate(0, 169.679, 112.867)\" x=\"169.679\" y=\"112.867\">10</text>\n",
       "</g>\n",
       "<g clip-path=\"url(#clip5900)\">\n",
       "<text style=\"fill:#000000; fill-opacity:1; font-family:Arial,Helvetica Neue,Helvetica,sans-serif; font-size:38px; text-anchor:start;\" transform=\"rotate(0, 223.203, 85.4565)\" x=\"223.203\" y=\"85.4565\">1 </text>\n",
       "</g>\n",
       "<g clip-path=\"url(#clip5900)\">\n",
       "<text style=\"fill:#000000; fill-opacity:1; font-family:Arial,Helvetica Neue,Helvetica,sans-serif; font-size:66px; text-anchor:middle;\" transform=\"rotate(0, 1316.29, 1559.48)\" x=\"1316.29\" y=\"1559.48\">Step size h</text>\n",
       "</g>\n",
       "<g clip-path=\"url(#clip5900)\">\n",
       "<text style=\"fill:#000000; fill-opacity:1; font-family:Arial,Helvetica Neue,Helvetica,sans-serif; font-size:66px; text-anchor:middle;\" transform=\"rotate(-90, 89.2861, 736.431)\" x=\"89.2861\" y=\"736.431\">|sigma|</text>\n",
       "</g>\n",
       "<polyline clip-path=\"url(#clip5902)\" style=\"stroke:#000000; stroke-width:12; stroke-opacity:1; fill:none\" stroke-dasharray=\"48, 30\" points=\"\n",
       "  338.488,294.98 357.586,294.98 534.175,294.98 640.298,294.98 730.023,294.98 827.49,294.98 917.345,294.98 1013.68,294.98 1125.29,294.98 1224.48,294.98 \n",
       "  1311.46,294.98 1406.29,294.98 1501.69,294.98 1607.16,294.98 1707.51,294.98 1811.86,294.98 1899.69,294.98 2006.93,294.98 2107.73,294.98 2269.23,294.98 \n",
       "  2294.09,294.98 \n",
       "  \"/>\n",
       "<polyline clip-path=\"url(#clip5902)\" style=\"stroke:#e26f46; stroke-width:4; stroke-opacity:1; fill:none\" points=\"\n",
       "  338.488,584.201 625.73,517.513 1353.13,322.18 1523.21,274.372 1627.72,246.183 1718.03,222.654 1787.1,205.156 1850.47,189.451 1913.72,174.076 1962.97,162.29 \n",
       "  2001.91,153.077 2040.65,143.996 2076.35,135.696 2112.62,127.328 2144.47,120.028 2175.24,113.017 2199.51,107.511 2227.38,101.216 2252.01,95.6756 2288.71,87.4555 \n",
       "  2294.09,86.2547 \n",
       "  \"/>\n",
       "<polyline clip-path=\"url(#clip5902)\" style=\"stroke:#3da44d; stroke-width:4; stroke-opacity:1; fill:none\" points=\"\n",
       "  338.488,1283.29 625.73,1222.82 1353.13,1069.66 1523.21,1033.84 1627.72,1011.83 1718.03,992.805 1787.1,978.253 1850.47,964.899 1913.72,951.568 1962.97,941.186 \n",
       "  2001.91,932.976 2040.65,924.807 2076.35,917.277 2112.62,909.627 2144.47,902.907 2175.24,896.416 2199.51,891.294 2227.38,885.411 2252.01,880.212 2288.71,872.463 \n",
       "  2294.09,871.327 \n",
       "  \"/>\n",
       "<polyline clip-path=\"url(#clip5902)\" style=\"stroke:#c271d2; stroke-width:4; stroke-opacity:1; fill:none\" points=\"\n",
       "  338.488,1386.61 625.73,1326.14 1353.13,1173 1523.21,1137.19 1627.72,1115.19 1718.03,1096.17 1787.1,1081.63 1850.47,1068.28 1913.72,1054.96 1962.97,1044.59 \n",
       "  2001.91,1036.39 2040.65,1028.23 2076.35,1020.71 2112.62,1013.07 2144.47,1006.36 2175.24,999.88 2199.51,994.766 2227.38,988.894 2252.01,983.705 2288.71,975.971 \n",
       "  2294.09,974.838 \n",
       "  \"/>\n",
       "<polyline clip-path=\"url(#clip5902)\" style=\"stroke:#ac8d18; stroke-width:4; stroke-opacity:1; fill:none\" points=\"\n",
       "  338.488,301.505 430.419,303.072 505.947,304.632 570.048,306.183 625.73,307.725 816.781,314.685 948.075,321.275 1048.22,327.392 1129.19,332.971 1197.17,337.99 \n",
       "  1255.76,342.463 1307.23,346.426 1353.13,349.928 1402.45,353.603 1446.63,356.777 1486.65,359.531 1523.21,361.932 1578.67,365.344 1627.72,368.121 1675.27,370.595 \n",
       "  1718.03,372.639 1753.97,374.229 1787.1,375.596 1850.47,377.961 1913.72,380.022 1962.97,381.44 2001.91,382.455 2040.65,383.38 2076.35,384.164 2112.62,384.897 \n",
       "  2144.47,385.492 2175.24,386.027 2199.51,386.423 2227.38,386.851 2252.01,387.206 2288.71,387.7 2294.09,387.769 \n",
       "  \"/>\n",
       "<polyline clip-path=\"url(#clip5902)\" style=\"stroke:#00a9ad; stroke-width:4; stroke-opacity:1; fill:none\" points=\"\n",
       "  338.488,294.983 625.73,294.986 1353.13,295.011 1523.21,295.026 1627.72,295.039 1718.03,295.053 1787.1,295.066 1850.47,295.08 1913.72,295.096 1962.97,295.11 \n",
       "  2001.91,295.122 2040.65,295.136 2076.35,295.149 2112.62,295.165 2144.47,295.179 2175.24,295.194 2199.51,295.206 2227.38,295.222 2252.01,295.236 2288.71,295.259 \n",
       "  2294.09,295.263 \n",
       "  \"/>\n",
       "<polyline clip-path=\"url(#clip5902)\" style=\"stroke:#ed5d92; stroke-width:4; stroke-opacity:1; fill:none\" points=\"\n",
       "  338.488,294.981 625.73,294.982 1353.13,294.99 1523.21,294.995 1627.72,294.999 1718.03,295.003 1787.1,295.007 1850.47,295.012 1913.72,295.017 1962.97,295.021 \n",
       "  2001.91,295.025 2040.65,295.029 2076.35,295.034 2112.62,295.038 2144.47,295.043 2175.24,295.048 2199.51,295.051 2227.38,295.056 2252.01,295.061 2288.71,295.068 \n",
       "  2294.09,295.069 \n",
       "  \"/>\n",
       "<path clip-path=\"url(#clip5900)\" d=\"\n",
       "M351.82 1281.62 L1149.74 1281.62 L1149.74 797.779 L351.82 797.779  Z\n",
       "  \" fill=\"#ffffff\" fill-rule=\"evenodd\" fill-opacity=\"1\"/>\n",
       "<polyline clip-path=\"url(#clip5900)\" style=\"stroke:#000000; stroke-width:4; stroke-opacity:1; fill:none\" points=\"\n",
       "  351.82,1281.62 1149.74,1281.62 1149.74,797.779 351.82,797.779 351.82,1281.62 \n",
       "  \"/>\n",
       "<polyline clip-path=\"url(#clip5900)\" style=\"stroke:#000000; stroke-width:12; stroke-opacity:1; fill:none\" stroke-dasharray=\"48, 30\" points=\"\n",
       "  375.82,858.259 519.82,858.259 \n",
       "  \"/>\n",
       "<g clip-path=\"url(#clip5900)\">\n",
       "<text style=\"fill:#000000; fill-opacity:1; font-family:Arial,Helvetica Neue,Helvetica,sans-serif; font-size:48px; text-anchor:start;\" transform=\"rotate(0, 543.82, 875.759)\" x=\"543.82\" y=\"875.759\">limit</text>\n",
       "</g>\n",
       "<polyline clip-path=\"url(#clip5900)\" style=\"stroke:#e26f46; stroke-width:4; stroke-opacity:1; fill:none\" points=\"\n",
       "  375.82,918.739 519.82,918.739 \n",
       "  \"/>\n",
       "<g clip-path=\"url(#clip5900)\">\n",
       "<text style=\"fill:#000000; fill-opacity:1; font-family:Arial,Helvetica Neue,Helvetica,sans-serif; font-size:48px; text-anchor:start;\" transform=\"rotate(0, 543.82, 936.239)\" x=\"543.82\" y=\"936.239\">sig 1, lam 1 = -7.316e+02</text>\n",
       "</g>\n",
       "<polyline clip-path=\"url(#clip5900)\" style=\"stroke:#3da44d; stroke-width:4; stroke-opacity:1; fill:none\" points=\"\n",
       "  375.82,979.219 519.82,979.219 \n",
       "  \"/>\n",
       "<g clip-path=\"url(#clip5900)\">\n",
       "<text style=\"fill:#000000; fill-opacity:1; font-family:Arial,Helvetica Neue,Helvetica,sans-serif; font-size:48px; text-anchor:start;\" transform=\"rotate(0, 543.82, 996.719)\" x=\"543.82\" y=\"996.719\">sig 1, lam 2 = -3.160e-01</text>\n",
       "</g>\n",
       "<polyline clip-path=\"url(#clip5900)\" style=\"stroke:#c271d2; stroke-width:4; stroke-opacity:1; fill:none\" points=\"\n",
       "  375.82,1039.7 519.82,1039.7 \n",
       "  \"/>\n",
       "<g clip-path=\"url(#clip5900)\">\n",
       "<text style=\"fill:#000000; fill-opacity:1; font-family:Arial,Helvetica Neue,Helvetica,sans-serif; font-size:48px; text-anchor:start;\" transform=\"rotate(0, 543.82, 1057.2)\" x=\"543.82\" y=\"1057.2\">sig 1, lam 3 = -9.949e-02</text>\n",
       "</g>\n",
       "<polyline clip-path=\"url(#clip5900)\" style=\"stroke:#ac8d18; stroke-width:4; stroke-opacity:1; fill:none\" points=\"\n",
       "  375.82,1100.18 519.82,1100.18 \n",
       "  \"/>\n",
       "<g clip-path=\"url(#clip5900)\">\n",
       "<text style=\"fill:#000000; fill-opacity:1; font-family:Arial,Helvetica Neue,Helvetica,sans-serif; font-size:48px; text-anchor:start;\" transform=\"rotate(0, 543.82, 1117.68)\" x=\"543.82\" y=\"1117.68\">sig 2, lam 1 = -7.316e+02</text>\n",
       "</g>\n",
       "<polyline clip-path=\"url(#clip5900)\" style=\"stroke:#00a9ad; stroke-width:4; stroke-opacity:1; fill:none\" points=\"\n",
       "  375.82,1160.66 519.82,1160.66 \n",
       "  \"/>\n",
       "<g clip-path=\"url(#clip5900)\">\n",
       "<text style=\"fill:#000000; fill-opacity:1; font-family:Arial,Helvetica Neue,Helvetica,sans-serif; font-size:48px; text-anchor:start;\" transform=\"rotate(0, 543.82, 1178.16)\" x=\"543.82\" y=\"1178.16\">sig 2, lam 2 = -3.160e-01</text>\n",
       "</g>\n",
       "<polyline clip-path=\"url(#clip5900)\" style=\"stroke:#ed5d92; stroke-width:4; stroke-opacity:1; fill:none\" points=\"\n",
       "  375.82,1221.14 519.82,1221.14 \n",
       "  \"/>\n",
       "<g clip-path=\"url(#clip5900)\">\n",
       "<text style=\"fill:#000000; fill-opacity:1; font-family:Arial,Helvetica Neue,Helvetica,sans-serif; font-size:48px; text-anchor:start;\" transform=\"rotate(0, 543.82, 1238.64)\" x=\"543.82\" y=\"1238.64\">sig 2, lam 3 = -9.949e-02</text>\n",
       "</g>\n",
       "</svg>\n"
      ]
     },
     "execution_count": 14,
     "metadata": {},
     "output_type": "execute_result"
    }
   ],
   "source": [
    "plt = plot( σ -> 1, 1e-4, 1e-2, lw=3, linestyle=:dash, color=:black, label=\"limit\",\n",
    "    xscale=:log10, yscale=:log10, legend=:bottomleft,\n",
    "    xlabel=\"Step size h\", ylabel=\"|sigma|\" )\n",
    "for j = 1:2\n",
    "    for i = 1:3\n",
    "        plot!(plt, h->Σ.(h, λ2[i], j ), 1e-4, 1e-2, label=@sprintf(\"sig %d, lam %d = %.3e\", j, i, λ2[i]) )\n",
    "    end\n",
    "end\n",
    "plt"
   ]
  },
  {
   "cell_type": "code",
   "execution_count": 15,
   "metadata": {},
   "outputs": [],
   "source": [
    "import Roots"
   ]
  },
  {
   "cell_type": "code",
   "execution_count": 16,
   "metadata": {},
   "outputs": [
    {
     "data": {
      "text/plain": [
       "resid (generic function with 1 method)"
      ]
     },
     "execution_count": 16,
     "metadata": {},
     "output_type": "execute_result"
    }
   ],
   "source": [
    "function  resid(h,λr)\n",
    "    t = maximum( [ maximum( abs.( lambdify(sol_σ)(h,λ) ) ) for λ in λr ] )\n",
    "    return 1 - t\n",
    "end"
   ]
  },
  {
   "cell_type": "code",
   "execution_count": 17,
   "metadata": {},
   "outputs": [
    {
     "data": {
      "text/plain": [
       "0.001366896087915512"
      ]
     },
     "execution_count": 17,
     "metadata": {},
     "output_type": "execute_result"
    }
   ],
   "source": [
    "hstar = Roots.fzero( h->resid(h, λ2), 1e-2)"
   ]
  },
  {
   "cell_type": "code",
   "execution_count": 18,
   "metadata": {},
   "outputs": [
    {
     "data": {
      "image/svg+xml": [
       "<?xml version=\"1.0\" encoding=\"utf-8\"?>\n",
       "<svg xmlns=\"http://www.w3.org/2000/svg\" xmlns:xlink=\"http://www.w3.org/1999/xlink\" width=\"600\" height=\"400\" viewBox=\"0 0 2400 1600\">\n",
       "<defs>\n",
       "  <clipPath id=\"clip6300\">\n",
       "    <rect x=\"0\" y=\"0\" width=\"2400\" height=\"1600\"/>\n",
       "  </clipPath>\n",
       "</defs>\n",
       "<path clip-path=\"url(#clip6300)\" d=\"\n",
       "M0 1600 L2400 1600 L2400 0 L0 0  Z\n",
       "  \" fill=\"#ffffff\" fill-rule=\"evenodd\" fill-opacity=\"1\"/>\n",
       "<defs>\n",
       "  <clipPath id=\"clip6301\">\n",
       "    <rect x=\"480\" y=\"0\" width=\"1681\" height=\"1600\"/>\n",
       "  </clipPath>\n",
       "</defs>\n",
       "<path clip-path=\"url(#clip6300)\" d=\"\n",
       "M279.82 1425.62 L2352.76 1425.62 L2352.76 47.2441 L279.82 47.2441  Z\n",
       "  \" fill=\"#ffffff\" fill-rule=\"evenodd\" fill-opacity=\"1\"/>\n",
       "<defs>\n",
       "  <clipPath id=\"clip6302\">\n",
       "    <rect x=\"279\" y=\"47\" width=\"2074\" height=\"1379\"/>\n",
       "  </clipPath>\n",
       "</defs>\n",
       "<polyline clip-path=\"url(#clip6302)\" style=\"stroke:#000000; stroke-width:2; stroke-opacity:0.1; fill:none\" points=\"\n",
       "  338.488,1425.62 338.488,47.2441 \n",
       "  \"/>\n",
       "<polyline clip-path=\"url(#clip6302)\" style=\"stroke:#000000; stroke-width:2; stroke-opacity:0.1; fill:none\" points=\"\n",
       "  827.388,1425.62 827.388,47.2441 \n",
       "  \"/>\n",
       "<polyline clip-path=\"url(#clip6302)\" style=\"stroke:#000000; stroke-width:2; stroke-opacity:0.1; fill:none\" points=\"\n",
       "  1316.29,1425.62 1316.29,47.2441 \n",
       "  \"/>\n",
       "<polyline clip-path=\"url(#clip6302)\" style=\"stroke:#000000; stroke-width:2; stroke-opacity:0.1; fill:none\" points=\"\n",
       "  1805.19,1425.62 1805.19,47.2441 \n",
       "  \"/>\n",
       "<polyline clip-path=\"url(#clip6302)\" style=\"stroke:#000000; stroke-width:2; stroke-opacity:0.1; fill:none\" points=\"\n",
       "  2294.09,1425.62 2294.09,47.2441 \n",
       "  \"/>\n",
       "<polyline clip-path=\"url(#clip6302)\" style=\"stroke:#000000; stroke-width:2; stroke-opacity:0.1; fill:none\" points=\"\n",
       "  279.82,1324.19 2352.76,1324.19 \n",
       "  \"/>\n",
       "<polyline clip-path=\"url(#clip6302)\" style=\"stroke:#000000; stroke-width:2; stroke-opacity:0.1; fill:none\" points=\"\n",
       "  279.82,1118.34 2352.76,1118.34 \n",
       "  \"/>\n",
       "<polyline clip-path=\"url(#clip6302)\" style=\"stroke:#000000; stroke-width:2; stroke-opacity:0.1; fill:none\" points=\"\n",
       "  279.82,912.503 2352.76,912.503 \n",
       "  \"/>\n",
       "<polyline clip-path=\"url(#clip6302)\" style=\"stroke:#000000; stroke-width:2; stroke-opacity:0.1; fill:none\" points=\"\n",
       "  279.82,706.662 2352.76,706.662 \n",
       "  \"/>\n",
       "<polyline clip-path=\"url(#clip6302)\" style=\"stroke:#000000; stroke-width:2; stroke-opacity:0.1; fill:none\" points=\"\n",
       "  279.82,500.821 2352.76,500.821 \n",
       "  \"/>\n",
       "<polyline clip-path=\"url(#clip6302)\" style=\"stroke:#000000; stroke-width:2; stroke-opacity:0.1; fill:none\" points=\"\n",
       "  279.82,294.98 2352.76,294.98 \n",
       "  \"/>\n",
       "<polyline clip-path=\"url(#clip6302)\" style=\"stroke:#000000; stroke-width:2; stroke-opacity:0.1; fill:none\" points=\"\n",
       "  279.82,89.1393 2352.76,89.1393 \n",
       "  \"/>\n",
       "<polyline clip-path=\"url(#clip6300)\" style=\"stroke:#000000; stroke-width:4; stroke-opacity:1; fill:none\" points=\"\n",
       "  279.82,1425.62 2352.76,1425.62 \n",
       "  \"/>\n",
       "<polyline clip-path=\"url(#clip6300)\" style=\"stroke:#000000; stroke-width:4; stroke-opacity:1; fill:none\" points=\"\n",
       "  279.82,1425.62 279.82,47.2441 \n",
       "  \"/>\n",
       "<polyline clip-path=\"url(#clip6300)\" style=\"stroke:#000000; stroke-width:4; stroke-opacity:1; fill:none\" points=\"\n",
       "  338.488,1425.62 338.488,1409.08 \n",
       "  \"/>\n",
       "<polyline clip-path=\"url(#clip6300)\" style=\"stroke:#000000; stroke-width:4; stroke-opacity:1; fill:none\" points=\"\n",
       "  827.388,1425.62 827.388,1409.08 \n",
       "  \"/>\n",
       "<polyline clip-path=\"url(#clip6300)\" style=\"stroke:#000000; stroke-width:4; stroke-opacity:1; fill:none\" points=\"\n",
       "  1316.29,1425.62 1316.29,1409.08 \n",
       "  \"/>\n",
       "<polyline clip-path=\"url(#clip6300)\" style=\"stroke:#000000; stroke-width:4; stroke-opacity:1; fill:none\" points=\"\n",
       "  1805.19,1425.62 1805.19,1409.08 \n",
       "  \"/>\n",
       "<polyline clip-path=\"url(#clip6300)\" style=\"stroke:#000000; stroke-width:4; stroke-opacity:1; fill:none\" points=\"\n",
       "  2294.09,1425.62 2294.09,1409.08 \n",
       "  \"/>\n",
       "<polyline clip-path=\"url(#clip6300)\" style=\"stroke:#000000; stroke-width:4; stroke-opacity:1; fill:none\" points=\"\n",
       "  279.82,1324.19 304.695,1324.19 \n",
       "  \"/>\n",
       "<polyline clip-path=\"url(#clip6300)\" style=\"stroke:#000000; stroke-width:4; stroke-opacity:1; fill:none\" points=\"\n",
       "  279.82,1118.34 304.695,1118.34 \n",
       "  \"/>\n",
       "<polyline clip-path=\"url(#clip6300)\" style=\"stroke:#000000; stroke-width:4; stroke-opacity:1; fill:none\" points=\"\n",
       "  279.82,912.503 304.695,912.503 \n",
       "  \"/>\n",
       "<polyline clip-path=\"url(#clip6300)\" style=\"stroke:#000000; stroke-width:4; stroke-opacity:1; fill:none\" points=\"\n",
       "  279.82,706.662 304.695,706.662 \n",
       "  \"/>\n",
       "<polyline clip-path=\"url(#clip6300)\" style=\"stroke:#000000; stroke-width:4; stroke-opacity:1; fill:none\" points=\"\n",
       "  279.82,500.821 304.695,500.821 \n",
       "  \"/>\n",
       "<polyline clip-path=\"url(#clip6300)\" style=\"stroke:#000000; stroke-width:4; stroke-opacity:1; fill:none\" points=\"\n",
       "  279.82,294.98 304.695,294.98 \n",
       "  \"/>\n",
       "<polyline clip-path=\"url(#clip6300)\" style=\"stroke:#000000; stroke-width:4; stroke-opacity:1; fill:none\" points=\"\n",
       "  279.82,89.1393 304.695,89.1393 \n",
       "  \"/>\n",
       "<g clip-path=\"url(#clip6300)\">\n",
       "<text style=\"fill:#000000; fill-opacity:1; font-family:Arial,Helvetica Neue,Helvetica,sans-serif; font-size:48px; text-anchor:start;\" transform=\"rotate(0, 267.689, 1500.63)\" x=\"267.689\" y=\"1500.63\">10</text>\n",
       "</g>\n",
       "<g clip-path=\"url(#clip6300)\">\n",
       "<text style=\"fill:#000000; fill-opacity:1; font-family:Arial,Helvetica Neue,Helvetica,sans-serif; font-size:38px; text-anchor:start;\" transform=\"rotate(0, 321.214, 1473.22)\" x=\"321.214\" y=\"1473.22\">-</text>\n",
       "</g>\n",
       "<g clip-path=\"url(#clip6300)\">\n",
       "<text style=\"fill:#000000; fill-opacity:1; font-family:Arial,Helvetica Neue,Helvetica,sans-serif; font-size:38px; text-anchor:start;\" transform=\"rotate(0, 344.054, 1473.22)\" x=\"344.054\" y=\"1473.22\">4.0 </text>\n",
       "</g>\n",
       "<g clip-path=\"url(#clip6300)\">\n",
       "<text style=\"fill:#000000; fill-opacity:1; font-family:Arial,Helvetica Neue,Helvetica,sans-serif; font-size:48px; text-anchor:start;\" transform=\"rotate(0, 756.589, 1500.63)\" x=\"756.589\" y=\"1500.63\">10</text>\n",
       "</g>\n",
       "<g clip-path=\"url(#clip6300)\">\n",
       "<text style=\"fill:#000000; fill-opacity:1; font-family:Arial,Helvetica Neue,Helvetica,sans-serif; font-size:38px; text-anchor:start;\" transform=\"rotate(0, 810.114, 1473.22)\" x=\"810.114\" y=\"1473.22\">-</text>\n",
       "</g>\n",
       "<g clip-path=\"url(#clip6300)\">\n",
       "<text style=\"fill:#000000; fill-opacity:1; font-family:Arial,Helvetica Neue,Helvetica,sans-serif; font-size:38px; text-anchor:start;\" transform=\"rotate(0, 832.953, 1473.22)\" x=\"832.953\" y=\"1473.22\">3.5 </text>\n",
       "</g>\n",
       "<g clip-path=\"url(#clip6300)\">\n",
       "<text style=\"fill:#000000; fill-opacity:1; font-family:Arial,Helvetica Neue,Helvetica,sans-serif; font-size:48px; text-anchor:start;\" transform=\"rotate(0, 1245.49, 1500.63)\" x=\"1245.49\" y=\"1500.63\">10</text>\n",
       "</g>\n",
       "<g clip-path=\"url(#clip6300)\">\n",
       "<text style=\"fill:#000000; fill-opacity:1; font-family:Arial,Helvetica Neue,Helvetica,sans-serif; font-size:38px; text-anchor:start;\" transform=\"rotate(0, 1299.01, 1473.22)\" x=\"1299.01\" y=\"1473.22\">-</text>\n",
       "</g>\n",
       "<g clip-path=\"url(#clip6300)\">\n",
       "<text style=\"fill:#000000; fill-opacity:1; font-family:Arial,Helvetica Neue,Helvetica,sans-serif; font-size:38px; text-anchor:start;\" transform=\"rotate(0, 1321.85, 1473.22)\" x=\"1321.85\" y=\"1473.22\">3.0 </text>\n",
       "</g>\n",
       "<g clip-path=\"url(#clip6300)\">\n",
       "<text style=\"fill:#000000; fill-opacity:1; font-family:Arial,Helvetica Neue,Helvetica,sans-serif; font-size:48px; text-anchor:start;\" transform=\"rotate(0, 1734.39, 1500.63)\" x=\"1734.39\" y=\"1500.63\">10</text>\n",
       "</g>\n",
       "<g clip-path=\"url(#clip6300)\">\n",
       "<text style=\"fill:#000000; fill-opacity:1; font-family:Arial,Helvetica Neue,Helvetica,sans-serif; font-size:38px; text-anchor:start;\" transform=\"rotate(0, 1787.91, 1473.22)\" x=\"1787.91\" y=\"1473.22\">-</text>\n",
       "</g>\n",
       "<g clip-path=\"url(#clip6300)\">\n",
       "<text style=\"fill:#000000; fill-opacity:1; font-family:Arial,Helvetica Neue,Helvetica,sans-serif; font-size:38px; text-anchor:start;\" transform=\"rotate(0, 1810.75, 1473.22)\" x=\"1810.75\" y=\"1473.22\">2.5 </text>\n",
       "</g>\n",
       "<g clip-path=\"url(#clip6300)\">\n",
       "<text style=\"fill:#000000; fill-opacity:1; font-family:Arial,Helvetica Neue,Helvetica,sans-serif; font-size:48px; text-anchor:start;\" transform=\"rotate(0, 2223.29, 1500.63)\" x=\"2223.29\" y=\"1500.63\">10</text>\n",
       "</g>\n",
       "<g clip-path=\"url(#clip6300)\">\n",
       "<text style=\"fill:#000000; fill-opacity:1; font-family:Arial,Helvetica Neue,Helvetica,sans-serif; font-size:38px; text-anchor:start;\" transform=\"rotate(0, 2276.81, 1473.22)\" x=\"2276.81\" y=\"1473.22\">-</text>\n",
       "</g>\n",
       "<g clip-path=\"url(#clip6300)\">\n",
       "<text style=\"fill:#000000; fill-opacity:1; font-family:Arial,Helvetica Neue,Helvetica,sans-serif; font-size:38px; text-anchor:start;\" transform=\"rotate(0, 2299.65, 1473.22)\" x=\"2299.65\" y=\"1473.22\">2.0 </text>\n",
       "</g>\n",
       "<g clip-path=\"url(#clip6300)\">\n",
       "<text style=\"fill:#000000; fill-opacity:1; font-family:Arial,Helvetica Neue,Helvetica,sans-serif; font-size:48px; text-anchor:start;\" transform=\"rotate(0, 146.839, 1347.91)\" x=\"146.839\" y=\"1347.91\">10</text>\n",
       "</g>\n",
       "<g clip-path=\"url(#clip6300)\">\n",
       "<text style=\"fill:#000000; fill-opacity:1; font-family:Arial,Helvetica Neue,Helvetica,sans-serif; font-size:38px; text-anchor:start;\" transform=\"rotate(0, 200.364, 1320.5)\" x=\"200.364\" y=\"1320.5\">-</text>\n",
       "</g>\n",
       "<g clip-path=\"url(#clip6300)\">\n",
       "<text style=\"fill:#000000; fill-opacity:1; font-family:Arial,Helvetica Neue,Helvetica,sans-serif; font-size:38px; text-anchor:start;\" transform=\"rotate(0, 223.203, 1320.5)\" x=\"223.203\" y=\"1320.5\">5 </text>\n",
       "</g>\n",
       "<g clip-path=\"url(#clip6300)\">\n",
       "<text style=\"fill:#000000; fill-opacity:1; font-family:Arial,Helvetica Neue,Helvetica,sans-serif; font-size:48px; text-anchor:start;\" transform=\"rotate(0, 146.839, 1142.07)\" x=\"146.839\" y=\"1142.07\">10</text>\n",
       "</g>\n",
       "<g clip-path=\"url(#clip6300)\">\n",
       "<text style=\"fill:#000000; fill-opacity:1; font-family:Arial,Helvetica Neue,Helvetica,sans-serif; font-size:38px; text-anchor:start;\" transform=\"rotate(0, 200.364, 1114.66)\" x=\"200.364\" y=\"1114.66\">-</text>\n",
       "</g>\n",
       "<g clip-path=\"url(#clip6300)\">\n",
       "<text style=\"fill:#000000; fill-opacity:1; font-family:Arial,Helvetica Neue,Helvetica,sans-serif; font-size:38px; text-anchor:start;\" transform=\"rotate(0, 223.203, 1114.66)\" x=\"223.203\" y=\"1114.66\">4 </text>\n",
       "</g>\n",
       "<g clip-path=\"url(#clip6300)\">\n",
       "<text style=\"fill:#000000; fill-opacity:1; font-family:Arial,Helvetica Neue,Helvetica,sans-serif; font-size:48px; text-anchor:start;\" transform=\"rotate(0, 146.839, 936.231)\" x=\"146.839\" y=\"936.231\">10</text>\n",
       "</g>\n",
       "<g clip-path=\"url(#clip6300)\">\n",
       "<text style=\"fill:#000000; fill-opacity:1; font-family:Arial,Helvetica Neue,Helvetica,sans-serif; font-size:38px; text-anchor:start;\" transform=\"rotate(0, 200.364, 908.82)\" x=\"200.364\" y=\"908.82\">-</text>\n",
       "</g>\n",
       "<g clip-path=\"url(#clip6300)\">\n",
       "<text style=\"fill:#000000; fill-opacity:1; font-family:Arial,Helvetica Neue,Helvetica,sans-serif; font-size:38px; text-anchor:start;\" transform=\"rotate(0, 223.203, 908.82)\" x=\"223.203\" y=\"908.82\">3 </text>\n",
       "</g>\n",
       "<g clip-path=\"url(#clip6300)\">\n",
       "<text style=\"fill:#000000; fill-opacity:1; font-family:Arial,Helvetica Neue,Helvetica,sans-serif; font-size:48px; text-anchor:start;\" transform=\"rotate(0, 146.839, 730.39)\" x=\"146.839\" y=\"730.39\">10</text>\n",
       "</g>\n",
       "<g clip-path=\"url(#clip6300)\">\n",
       "<text style=\"fill:#000000; fill-opacity:1; font-family:Arial,Helvetica Neue,Helvetica,sans-serif; font-size:38px; text-anchor:start;\" transform=\"rotate(0, 200.364, 702.979)\" x=\"200.364\" y=\"702.979\">-</text>\n",
       "</g>\n",
       "<g clip-path=\"url(#clip6300)\">\n",
       "<text style=\"fill:#000000; fill-opacity:1; font-family:Arial,Helvetica Neue,Helvetica,sans-serif; font-size:38px; text-anchor:start;\" transform=\"rotate(0, 223.203, 702.979)\" x=\"223.203\" y=\"702.979\">2 </text>\n",
       "</g>\n",
       "<g clip-path=\"url(#clip6300)\">\n",
       "<text style=\"fill:#000000; fill-opacity:1; font-family:Arial,Helvetica Neue,Helvetica,sans-serif; font-size:48px; text-anchor:start;\" transform=\"rotate(0, 146.839, 524.549)\" x=\"146.839\" y=\"524.549\">10</text>\n",
       "</g>\n",
       "<g clip-path=\"url(#clip6300)\">\n",
       "<text style=\"fill:#000000; fill-opacity:1; font-family:Arial,Helvetica Neue,Helvetica,sans-serif; font-size:38px; text-anchor:start;\" transform=\"rotate(0, 200.364, 497.138)\" x=\"200.364\" y=\"497.138\">-</text>\n",
       "</g>\n",
       "<g clip-path=\"url(#clip6300)\">\n",
       "<text style=\"fill:#000000; fill-opacity:1; font-family:Arial,Helvetica Neue,Helvetica,sans-serif; font-size:38px; text-anchor:start;\" transform=\"rotate(0, 223.203, 497.138)\" x=\"223.203\" y=\"497.138\">1 </text>\n",
       "</g>\n",
       "<g clip-path=\"url(#clip6300)\">\n",
       "<text style=\"fill:#000000; fill-opacity:1; font-family:Arial,Helvetica Neue,Helvetica,sans-serif; font-size:48px; text-anchor:start;\" transform=\"rotate(0, 169.679, 318.708)\" x=\"169.679\" y=\"318.708\">10</text>\n",
       "</g>\n",
       "<g clip-path=\"url(#clip6300)\">\n",
       "<text style=\"fill:#000000; fill-opacity:1; font-family:Arial,Helvetica Neue,Helvetica,sans-serif; font-size:38px; text-anchor:start;\" transform=\"rotate(0, 223.203, 291.297)\" x=\"223.203\" y=\"291.297\">0 </text>\n",
       "</g>\n",
       "<g clip-path=\"url(#clip6300)\">\n",
       "<text style=\"fill:#000000; fill-opacity:1; font-family:Arial,Helvetica Neue,Helvetica,sans-serif; font-size:48px; text-anchor:start;\" transform=\"rotate(0, 169.679, 112.867)\" x=\"169.679\" y=\"112.867\">10</text>\n",
       "</g>\n",
       "<g clip-path=\"url(#clip6300)\">\n",
       "<text style=\"fill:#000000; fill-opacity:1; font-family:Arial,Helvetica Neue,Helvetica,sans-serif; font-size:38px; text-anchor:start;\" transform=\"rotate(0, 223.203, 85.4565)\" x=\"223.203\" y=\"85.4565\">1 </text>\n",
       "</g>\n",
       "<g clip-path=\"url(#clip6300)\">\n",
       "<text style=\"fill:#000000; fill-opacity:1; font-family:Arial,Helvetica Neue,Helvetica,sans-serif; font-size:66px; text-anchor:middle;\" transform=\"rotate(0, 1316.29, 1559.48)\" x=\"1316.29\" y=\"1559.48\">Step size h</text>\n",
       "</g>\n",
       "<g clip-path=\"url(#clip6300)\">\n",
       "<text style=\"fill:#000000; fill-opacity:1; font-family:Arial,Helvetica Neue,Helvetica,sans-serif; font-size:66px; text-anchor:middle;\" transform=\"rotate(-90, 89.2861, 736.431)\" x=\"89.2861\" y=\"736.431\">|sigma|</text>\n",
       "</g>\n",
       "<polyline clip-path=\"url(#clip6302)\" style=\"stroke:#000000; stroke-width:12; stroke-opacity:1; fill:none\" stroke-dasharray=\"48, 30\" points=\"\n",
       "  338.488,294.98 357.586,294.98 534.175,294.98 640.298,294.98 730.023,294.98 827.49,294.98 917.345,294.98 1013.68,294.98 1125.29,294.98 1224.48,294.98 \n",
       "  1311.46,294.98 1406.29,294.98 1501.69,294.98 1607.16,294.98 1707.51,294.98 1811.86,294.98 1899.69,294.98 2006.93,294.98 2107.73,294.98 2269.23,294.98 \n",
       "  2294.09,294.98 \n",
       "  \"/>\n",
       "<polyline clip-path=\"url(#clip6302)\" style=\"stroke:#e26f46; stroke-width:4; stroke-opacity:1; fill:none\" points=\"\n",
       "  338.488,584.201 625.73,517.513 1353.13,322.18 1523.21,274.372 1627.72,246.183 1718.03,222.654 1787.1,205.156 1850.47,189.451 1913.72,174.076 1962.97,162.29 \n",
       "  2001.91,153.077 2040.65,143.996 2076.35,135.696 2112.62,127.328 2144.47,120.028 2175.24,113.017 2199.51,107.511 2227.38,101.216 2252.01,95.6756 2288.71,87.4555 \n",
       "  2294.09,86.2547 \n",
       "  \"/>\n",
       "<polyline clip-path=\"url(#clip6302)\" style=\"stroke:#3da44d; stroke-width:4; stroke-opacity:1; fill:none\" points=\"\n",
       "  338.488,1283.29 625.73,1222.82 1353.13,1069.66 1523.21,1033.84 1627.72,1011.83 1718.03,992.805 1787.1,978.253 1850.47,964.899 1913.72,951.568 1962.97,941.186 \n",
       "  2001.91,932.976 2040.65,924.807 2076.35,917.277 2112.62,909.627 2144.47,902.907 2175.24,896.416 2199.51,891.294 2227.38,885.411 2252.01,880.212 2288.71,872.463 \n",
       "  2294.09,871.327 \n",
       "  \"/>\n",
       "<polyline clip-path=\"url(#clip6302)\" style=\"stroke:#c271d2; stroke-width:4; stroke-opacity:1; fill:none\" points=\"\n",
       "  338.488,1386.61 625.73,1326.14 1353.13,1173 1523.21,1137.19 1627.72,1115.19 1718.03,1096.17 1787.1,1081.63 1850.47,1068.28 1913.72,1054.96 1962.97,1044.59 \n",
       "  2001.91,1036.39 2040.65,1028.23 2076.35,1020.71 2112.62,1013.07 2144.47,1006.36 2175.24,999.88 2199.51,994.766 2227.38,988.894 2252.01,983.705 2288.71,975.971 \n",
       "  2294.09,974.838 \n",
       "  \"/>\n",
       "<polyline clip-path=\"url(#clip6302)\" style=\"stroke:#ac8d18; stroke-width:4; stroke-opacity:1; fill:none\" points=\"\n",
       "  338.488,301.505 430.419,303.072 505.947,304.632 570.048,306.183 625.73,307.725 816.781,314.685 948.075,321.275 1048.22,327.392 1129.19,332.971 1197.17,337.99 \n",
       "  1255.76,342.463 1307.23,346.426 1353.13,349.928 1402.45,353.603 1446.63,356.777 1486.65,359.531 1523.21,361.932 1578.67,365.344 1627.72,368.121 1675.27,370.595 \n",
       "  1718.03,372.639 1753.97,374.229 1787.1,375.596 1850.47,377.961 1913.72,380.022 1962.97,381.44 2001.91,382.455 2040.65,383.38 2076.35,384.164 2112.62,384.897 \n",
       "  2144.47,385.492 2175.24,386.027 2199.51,386.423 2227.38,386.851 2252.01,387.206 2288.71,387.7 2294.09,387.769 \n",
       "  \"/>\n",
       "<polyline clip-path=\"url(#clip6302)\" style=\"stroke:#00a9ad; stroke-width:4; stroke-opacity:1; fill:none\" points=\"\n",
       "  338.488,294.983 625.73,294.986 1353.13,295.011 1523.21,295.026 1627.72,295.039 1718.03,295.053 1787.1,295.066 1850.47,295.08 1913.72,295.096 1962.97,295.11 \n",
       "  2001.91,295.122 2040.65,295.136 2076.35,295.149 2112.62,295.165 2144.47,295.179 2175.24,295.194 2199.51,295.206 2227.38,295.222 2252.01,295.236 2288.71,295.259 \n",
       "  2294.09,295.263 \n",
       "  \"/>\n",
       "<polyline clip-path=\"url(#clip6302)\" style=\"stroke:#ed5d92; stroke-width:4; stroke-opacity:1; fill:none\" points=\"\n",
       "  338.488,294.981 625.73,294.982 1353.13,294.99 1523.21,294.995 1627.72,294.999 1718.03,295.003 1787.1,295.007 1850.47,295.012 1913.72,295.017 1962.97,295.021 \n",
       "  2001.91,295.025 2040.65,295.029 2076.35,295.034 2112.62,295.038 2144.47,295.043 2175.24,295.048 2199.51,295.051 2227.38,295.056 2252.01,295.061 2288.71,295.068 \n",
       "  2294.09,295.069 \n",
       "  \"/>\n",
       "<polyline clip-path=\"url(#clip6302)\" style=\"stroke:#c68125; stroke-width:4; stroke-opacity:1; fill:none\" points=\"\n",
       "  1449.01,1324.19 1449.01,89.1393 \n",
       "  \"/>\n",
       "<path clip-path=\"url(#clip6300)\" d=\"\n",
       "M351.82 1281.62 L1149.74 1281.62 L1149.74 737.299 L351.82 737.299  Z\n",
       "  \" fill=\"#ffffff\" fill-rule=\"evenodd\" fill-opacity=\"1\"/>\n",
       "<polyline clip-path=\"url(#clip6300)\" style=\"stroke:#000000; stroke-width:4; stroke-opacity:1; fill:none\" points=\"\n",
       "  351.82,1281.62 1149.74,1281.62 1149.74,737.299 351.82,737.299 351.82,1281.62 \n",
       "  \"/>\n",
       "<polyline clip-path=\"url(#clip6300)\" style=\"stroke:#000000; stroke-width:12; stroke-opacity:1; fill:none\" stroke-dasharray=\"48, 30\" points=\"\n",
       "  375.82,797.779 519.82,797.779 \n",
       "  \"/>\n",
       "<g clip-path=\"url(#clip6300)\">\n",
       "<text style=\"fill:#000000; fill-opacity:1; font-family:Arial,Helvetica Neue,Helvetica,sans-serif; font-size:48px; text-anchor:start;\" transform=\"rotate(0, 543.82, 815.279)\" x=\"543.82\" y=\"815.279\">limit</text>\n",
       "</g>\n",
       "<polyline clip-path=\"url(#clip6300)\" style=\"stroke:#e26f46; stroke-width:4; stroke-opacity:1; fill:none\" points=\"\n",
       "  375.82,858.259 519.82,858.259 \n",
       "  \"/>\n",
       "<g clip-path=\"url(#clip6300)\">\n",
       "<text style=\"fill:#000000; fill-opacity:1; font-family:Arial,Helvetica Neue,Helvetica,sans-serif; font-size:48px; text-anchor:start;\" transform=\"rotate(0, 543.82, 875.759)\" x=\"543.82\" y=\"875.759\">sig 1, lam 1 = -7.316e+02</text>\n",
       "</g>\n",
       "<polyline clip-path=\"url(#clip6300)\" style=\"stroke:#3da44d; stroke-width:4; stroke-opacity:1; fill:none\" points=\"\n",
       "  375.82,918.739 519.82,918.739 \n",
       "  \"/>\n",
       "<g clip-path=\"url(#clip6300)\">\n",
       "<text style=\"fill:#000000; fill-opacity:1; font-family:Arial,Helvetica Neue,Helvetica,sans-serif; font-size:48px; text-anchor:start;\" transform=\"rotate(0, 543.82, 936.239)\" x=\"543.82\" y=\"936.239\">sig 1, lam 2 = -3.160e-01</text>\n",
       "</g>\n",
       "<polyline clip-path=\"url(#clip6300)\" style=\"stroke:#c271d2; stroke-width:4; stroke-opacity:1; fill:none\" points=\"\n",
       "  375.82,979.219 519.82,979.219 \n",
       "  \"/>\n",
       "<g clip-path=\"url(#clip6300)\">\n",
       "<text style=\"fill:#000000; fill-opacity:1; font-family:Arial,Helvetica Neue,Helvetica,sans-serif; font-size:48px; text-anchor:start;\" transform=\"rotate(0, 543.82, 996.719)\" x=\"543.82\" y=\"996.719\">sig 1, lam 3 = -9.949e-02</text>\n",
       "</g>\n",
       "<polyline clip-path=\"url(#clip6300)\" style=\"stroke:#ac8d18; stroke-width:4; stroke-opacity:1; fill:none\" points=\"\n",
       "  375.82,1039.7 519.82,1039.7 \n",
       "  \"/>\n",
       "<g clip-path=\"url(#clip6300)\">\n",
       "<text style=\"fill:#000000; fill-opacity:1; font-family:Arial,Helvetica Neue,Helvetica,sans-serif; font-size:48px; text-anchor:start;\" transform=\"rotate(0, 543.82, 1057.2)\" x=\"543.82\" y=\"1057.2\">sig 2, lam 1 = -7.316e+02</text>\n",
       "</g>\n",
       "<polyline clip-path=\"url(#clip6300)\" style=\"stroke:#00a9ad; stroke-width:4; stroke-opacity:1; fill:none\" points=\"\n",
       "  375.82,1100.18 519.82,1100.18 \n",
       "  \"/>\n",
       "<g clip-path=\"url(#clip6300)\">\n",
       "<text style=\"fill:#000000; fill-opacity:1; font-family:Arial,Helvetica Neue,Helvetica,sans-serif; font-size:48px; text-anchor:start;\" transform=\"rotate(0, 543.82, 1117.68)\" x=\"543.82\" y=\"1117.68\">sig 2, lam 2 = -3.160e-01</text>\n",
       "</g>\n",
       "<polyline clip-path=\"url(#clip6300)\" style=\"stroke:#ed5d92; stroke-width:4; stroke-opacity:1; fill:none\" points=\"\n",
       "  375.82,1160.66 519.82,1160.66 \n",
       "  \"/>\n",
       "<g clip-path=\"url(#clip6300)\">\n",
       "<text style=\"fill:#000000; fill-opacity:1; font-family:Arial,Helvetica Neue,Helvetica,sans-serif; font-size:48px; text-anchor:start;\" transform=\"rotate(0, 543.82, 1178.16)\" x=\"543.82\" y=\"1178.16\">sig 2, lam 3 = -9.949e-02</text>\n",
       "</g>\n",
       "<polyline clip-path=\"url(#clip6300)\" style=\"stroke:#c68125; stroke-width:4; stroke-opacity:1; fill:none\" points=\"\n",
       "  375.82,1221.14 519.82,1221.14 \n",
       "  \"/>\n",
       "<g clip-path=\"url(#clip6300)\">\n",
       "<text style=\"fill:#000000; fill-opacity:1; font-family:Arial,Helvetica Neue,Helvetica,sans-serif; font-size:48px; text-anchor:start;\" transform=\"rotate(0, 543.82, 1238.64)\" x=\"543.82\" y=\"1238.64\">Critcal h</text>\n",
       "</g>\n",
       "</svg>\n"
      ]
     },
     "execution_count": 18,
     "metadata": {},
     "output_type": "execute_result"
    }
   ],
   "source": [
    "plot!( [hstar, hstar], [1e-5, 10], label=\"Critcal h\" )"
   ]
  },
  {
   "cell_type": "markdown",
   "metadata": {},
   "source": [
    "# Implicit Midpoint Example\n",
    "$$ x_{n+1} = x_n + h f\\left( t_n + \\frac{h}{2},\\, \\frac{x_n + x_{n+1}}{2} \\right) $$"
   ]
  },
  {
   "cell_type": "code",
   "execution_count": 19,
   "metadata": {},
   "outputs": [
    {
     "data": {
      "text/latex": [
       "\\begin{equation*}h \\lambda \\left(\\frac{\\sigma^{n} x_{0}}{2} + \\frac{\\sigma^{n + 1} x_{0}}{2}\\right) + \\sigma^{n} x_{0} - \\sigma^{n + 1} x_{0}\\end{equation*}"
      ],
      "text/plain": [
       "    ⎛ n       n + 1   ⎞                    \n",
       "    ⎜σ ⋅x₀   σ     ⋅x₀⎟    n       n + 1   \n",
       "h⋅λ⋅⎜───── + ─────────⎟ + σ ⋅x₀ - σ     ⋅x₀\n",
       "    ⎝  2         2    ⎠                    "
      ]
     },
     "execution_count": 19,
     "metadata": {},
     "output_type": "execute_result"
    }
   ],
   "source": [
    "ex1 = - X(n+1) + X(n) + h*λ*( (X(n) + X(n+1))//2 ) "
   ]
  },
  {
   "cell_type": "code",
   "execution_count": 20,
   "metadata": {},
   "outputs": [
    {
     "data": {
      "text/latex": [
       "\\begin{equation*}h \\lambda \\sigma + h \\lambda - 2 \\sigma + 2\\end{equation*}"
      ],
      "text/plain": [
       "h⋅λ⋅σ + h⋅λ - 2⋅σ + 2"
      ]
     },
     "execution_count": 20,
     "metadata": {},
     "output_type": "execute_result"
    }
   ],
   "source": [
    "ex2 = ex1/σ^(n)*2/x0 |> expand |> simplify"
   ]
  },
  {
   "cell_type": "code",
   "execution_count": 21,
   "metadata": {},
   "outputs": [
    {
     "data": {
      "text/latex": [
       "\\begin{equation*}i z_{x} \\sin{\\left(\\theta \\right)} + z_{x} \\cos{\\left(\\theta \\right)} + z_{x} - z_{y} \\sin{\\left(\\theta \\right)} + i z_{y} \\cos{\\left(\\theta \\right)} + i z_{y} - 2 i \\sin{\\left(\\theta \\right)} - 2 \\cos{\\left(\\theta \\right)} + 2\\end{equation*}"
      ],
      "text/plain": [
       "ⅈ⋅zₓ⋅sin(θ) + zₓ⋅cos(θ) + zₓ - z_y⋅sin(θ) + ⅈ⋅z_y⋅cos(θ) + ⅈ⋅z_y - 2⋅ⅈ⋅sin(θ) \n",
       "- 2⋅cos(θ) + 2"
      ]
     },
     "execution_count": 21,
     "metadata": {},
     "output_type": "execute_result"
    }
   ],
   "source": [
    "ex3 = ex2 |> subs(h=>1, λ=>zx + zy*1im, σ=> cos(θ) + 1im*sin(θ) ) |> expand |> simplify"
   ]
  },
  {
   "cell_type": "code",
   "execution_count": 22,
   "metadata": {},
   "outputs": [
    {
     "data": {
      "text/plain": [
       "Dict{Any,Any} with 2 entries:\n",
       "  z_x => 0\n",
       "  z_y => 2*sin(theta)/(cos(theta) + 1)"
      ]
     },
     "execution_count": 22,
     "metadata": {},
     "output_type": "execute_result"
    }
   ],
   "source": [
    "solve( [ real(ex3), imag(ex3) ], [zx, zy] )"
   ]
  },
  {
   "cell_type": "markdown",
   "metadata": {},
   "source": [
    "Since $z_x = 0$ for all $\\theta$, and $z_y$ blows up for some values, we can see that this is a vertical line at the origin.  The entire left half plane is stable.\n",
    "\n",
    "## Example problem #2 from before"
   ]
  },
  {
   "cell_type": "code",
   "execution_count": 23,
   "metadata": {},
   "outputs": [
    {
     "data": {
      "text/plain": [
       "3-element Array{Float64,1}:\n",
       " -731.5845065625867\n",
       "   -0.31600607909323586\n",
       "   -0.09948735832003104"
      ]
     },
     "execution_count": 23,
     "metadata": {},
     "output_type": "execute_result"
    }
   ],
   "source": [
    "λ2"
   ]
  },
  {
   "cell_type": "code",
   "execution_count": 24,
   "metadata": {},
   "outputs": [
    {
     "data": {
      "text/latex": [
       "\\begin{equation*}- \\frac{h \\lambda + 2}{h \\lambda - 2}\\end{equation*}"
      ],
      "text/plain": [
       "-(h⋅λ + 2) \n",
       "───────────\n",
       "  h⋅λ - 2  "
      ]
     },
     "execution_count": 24,
     "metadata": {},
     "output_type": "execute_result"
    }
   ],
   "source": [
    "sol_σ = solve( ex2, σ )[1]"
   ]
  },
  {
   "cell_type": "code",
   "execution_count": 25,
   "metadata": {},
   "outputs": [
    {
     "data": {
      "image/svg+xml": [
       "<?xml version=\"1.0\" encoding=\"utf-8\"?>\n",
       "<svg xmlns=\"http://www.w3.org/2000/svg\" xmlns:xlink=\"http://www.w3.org/1999/xlink\" width=\"600\" height=\"400\" viewBox=\"0 0 2400 1600\">\n",
       "<defs>\n",
       "  <clipPath id=\"clip6700\">\n",
       "    <rect x=\"0\" y=\"0\" width=\"2400\" height=\"1600\"/>\n",
       "  </clipPath>\n",
       "</defs>\n",
       "<path clip-path=\"url(#clip6700)\" d=\"\n",
       "M0 1600 L2400 1600 L2400 0 L0 0  Z\n",
       "  \" fill=\"#ffffff\" fill-rule=\"evenodd\" fill-opacity=\"1\"/>\n",
       "<defs>\n",
       "  <clipPath id=\"clip6701\">\n",
       "    <rect x=\"480\" y=\"0\" width=\"1681\" height=\"1600\"/>\n",
       "  </clipPath>\n",
       "</defs>\n",
       "<path clip-path=\"url(#clip6700)\" d=\"\n",
       "M319.964 1425.62 L2352.76 1425.62 L2352.76 47.2441 L319.964 47.2441  Z\n",
       "  \" fill=\"#ffffff\" fill-rule=\"evenodd\" fill-opacity=\"1\"/>\n",
       "<defs>\n",
       "  <clipPath id=\"clip6702\">\n",
       "    <rect x=\"319\" y=\"47\" width=\"2034\" height=\"1379\"/>\n",
       "  </clipPath>\n",
       "</defs>\n",
       "<polyline clip-path=\"url(#clip6702)\" style=\"stroke:#000000; stroke-width:2; stroke-opacity:0.1; fill:none\" points=\"\n",
       "  651.457,1425.62 651.457,47.2441 \n",
       "  \"/>\n",
       "<polyline clip-path=\"url(#clip6702)\" style=\"stroke:#000000; stroke-width:2; stroke-opacity:0.1; fill:none\" points=\"\n",
       "  1199.38,1425.62 1199.38,47.2441 \n",
       "  \"/>\n",
       "<polyline clip-path=\"url(#clip6702)\" style=\"stroke:#000000; stroke-width:2; stroke-opacity:0.1; fill:none\" points=\"\n",
       "  1747.3,1425.62 1747.3,47.2441 \n",
       "  \"/>\n",
       "<polyline clip-path=\"url(#clip6702)\" style=\"stroke:#000000; stroke-width:2; stroke-opacity:0.1; fill:none\" points=\"\n",
       "  2295.22,1425.62 2295.22,47.2441 \n",
       "  \"/>\n",
       "<polyline clip-path=\"url(#clip6702)\" style=\"stroke:#000000; stroke-width:2; stroke-opacity:0.1; fill:none\" points=\"\n",
       "  319.964,1351.35 2352.76,1351.35 \n",
       "  \"/>\n",
       "<polyline clip-path=\"url(#clip6702)\" style=\"stroke:#000000; stroke-width:2; stroke-opacity:0.1; fill:none\" points=\"\n",
       "  319.964,1098.33 2352.76,1098.33 \n",
       "  \"/>\n",
       "<polyline clip-path=\"url(#clip6702)\" style=\"stroke:#000000; stroke-width:2; stroke-opacity:0.1; fill:none\" points=\"\n",
       "  319.964,845.311 2352.76,845.311 \n",
       "  \"/>\n",
       "<polyline clip-path=\"url(#clip6702)\" style=\"stroke:#000000; stroke-width:2; stroke-opacity:0.1; fill:none\" points=\"\n",
       "  319.964,592.292 2352.76,592.292 \n",
       "  \"/>\n",
       "<polyline clip-path=\"url(#clip6702)\" style=\"stroke:#000000; stroke-width:2; stroke-opacity:0.1; fill:none\" points=\"\n",
       "  319.964,339.273 2352.76,339.273 \n",
       "  \"/>\n",
       "<polyline clip-path=\"url(#clip6702)\" style=\"stroke:#000000; stroke-width:2; stroke-opacity:0.1; fill:none\" points=\"\n",
       "  319.964,86.2546 2352.76,86.2546 \n",
       "  \"/>\n",
       "<polyline clip-path=\"url(#clip6700)\" style=\"stroke:#000000; stroke-width:4; stroke-opacity:1; fill:none\" points=\"\n",
       "  319.964,1425.62 2352.76,1425.62 \n",
       "  \"/>\n",
       "<polyline clip-path=\"url(#clip6700)\" style=\"stroke:#000000; stroke-width:4; stroke-opacity:1; fill:none\" points=\"\n",
       "  319.964,1425.62 319.964,47.2441 \n",
       "  \"/>\n",
       "<polyline clip-path=\"url(#clip6700)\" style=\"stroke:#000000; stroke-width:4; stroke-opacity:1; fill:none\" points=\"\n",
       "  651.457,1425.62 651.457,1409.08 \n",
       "  \"/>\n",
       "<polyline clip-path=\"url(#clip6700)\" style=\"stroke:#000000; stroke-width:4; stroke-opacity:1; fill:none\" points=\"\n",
       "  1199.38,1425.62 1199.38,1409.08 \n",
       "  \"/>\n",
       "<polyline clip-path=\"url(#clip6700)\" style=\"stroke:#000000; stroke-width:4; stroke-opacity:1; fill:none\" points=\"\n",
       "  1747.3,1425.62 1747.3,1409.08 \n",
       "  \"/>\n",
       "<polyline clip-path=\"url(#clip6700)\" style=\"stroke:#000000; stroke-width:4; stroke-opacity:1; fill:none\" points=\"\n",
       "  2295.22,1425.62 2295.22,1409.08 \n",
       "  \"/>\n",
       "<polyline clip-path=\"url(#clip6700)\" style=\"stroke:#000000; stroke-width:4; stroke-opacity:1; fill:none\" points=\"\n",
       "  319.964,1351.35 344.357,1351.35 \n",
       "  \"/>\n",
       "<polyline clip-path=\"url(#clip6700)\" style=\"stroke:#000000; stroke-width:4; stroke-opacity:1; fill:none\" points=\"\n",
       "  319.964,1098.33 344.357,1098.33 \n",
       "  \"/>\n",
       "<polyline clip-path=\"url(#clip6700)\" style=\"stroke:#000000; stroke-width:4; stroke-opacity:1; fill:none\" points=\"\n",
       "  319.964,845.311 344.357,845.311 \n",
       "  \"/>\n",
       "<polyline clip-path=\"url(#clip6700)\" style=\"stroke:#000000; stroke-width:4; stroke-opacity:1; fill:none\" points=\"\n",
       "  319.964,592.292 344.357,592.292 \n",
       "  \"/>\n",
       "<polyline clip-path=\"url(#clip6700)\" style=\"stroke:#000000; stroke-width:4; stroke-opacity:1; fill:none\" points=\"\n",
       "  319.964,339.273 344.357,339.273 \n",
       "  \"/>\n",
       "<polyline clip-path=\"url(#clip6700)\" style=\"stroke:#000000; stroke-width:4; stroke-opacity:1; fill:none\" points=\"\n",
       "  319.964,86.2546 344.357,86.2546 \n",
       "  \"/>\n",
       "<g clip-path=\"url(#clip6700)\">\n",
       "<text style=\"fill:#000000; fill-opacity:1; font-family:Arial,Helvetica Neue,Helvetica,sans-serif; font-size:48px; text-anchor:start;\" transform=\"rotate(0, 596.966, 1500.63)\" x=\"596.966\" y=\"1500.63\">10</text>\n",
       "</g>\n",
       "<g clip-path=\"url(#clip6700)\">\n",
       "<text style=\"fill:#000000; fill-opacity:1; font-family:Arial,Helvetica Neue,Helvetica,sans-serif; font-size:38px; text-anchor:start;\" transform=\"rotate(0, 650.491, 1473.22)\" x=\"650.491\" y=\"1473.22\">-</text>\n",
       "</g>\n",
       "<g clip-path=\"url(#clip6700)\">\n",
       "<text style=\"fill:#000000; fill-opacity:1; font-family:Arial,Helvetica Neue,Helvetica,sans-serif; font-size:38px; text-anchor:start;\" transform=\"rotate(0, 673.33, 1473.22)\" x=\"673.33\" y=\"1473.22\">2 </text>\n",
       "</g>\n",
       "<g clip-path=\"url(#clip6700)\">\n",
       "<text style=\"fill:#000000; fill-opacity:1; font-family:Arial,Helvetica Neue,Helvetica,sans-serif; font-size:48px; text-anchor:start;\" transform=\"rotate(0, 1156.31, 1500.63)\" x=\"1156.31\" y=\"1500.63\">10</text>\n",
       "</g>\n",
       "<g clip-path=\"url(#clip6700)\">\n",
       "<text style=\"fill:#000000; fill-opacity:1; font-family:Arial,Helvetica Neue,Helvetica,sans-serif; font-size:38px; text-anchor:start;\" transform=\"rotate(0, 1209.83, 1473.22)\" x=\"1209.83\" y=\"1473.22\">0 </text>\n",
       "</g>\n",
       "<g clip-path=\"url(#clip6700)\">\n",
       "<text style=\"fill:#000000; fill-opacity:1; font-family:Arial,Helvetica Neue,Helvetica,sans-serif; font-size:48px; text-anchor:start;\" transform=\"rotate(0, 1704.23, 1500.63)\" x=\"1704.23\" y=\"1500.63\">10</text>\n",
       "</g>\n",
       "<g clip-path=\"url(#clip6700)\">\n",
       "<text style=\"fill:#000000; fill-opacity:1; font-family:Arial,Helvetica Neue,Helvetica,sans-serif; font-size:38px; text-anchor:start;\" transform=\"rotate(0, 1757.76, 1473.22)\" x=\"1757.76\" y=\"1473.22\">2 </text>\n",
       "</g>\n",
       "<g clip-path=\"url(#clip6700)\">\n",
       "<text style=\"fill:#000000; fill-opacity:1; font-family:Arial,Helvetica Neue,Helvetica,sans-serif; font-size:48px; text-anchor:start;\" transform=\"rotate(0, 2252.15, 1500.63)\" x=\"2252.15\" y=\"1500.63\">10</text>\n",
       "</g>\n",
       "<g clip-path=\"url(#clip6700)\">\n",
       "<text style=\"fill:#000000; fill-opacity:1; font-family:Arial,Helvetica Neue,Helvetica,sans-serif; font-size:38px; text-anchor:start;\" transform=\"rotate(0, 2305.68, 1473.22)\" x=\"2305.68\" y=\"1473.22\">4 </text>\n",
       "</g>\n",
       "<g clip-path=\"url(#clip6700)\">\n",
       "<text style=\"fill:#000000; fill-opacity:1; font-family:Arial,Helvetica Neue,Helvetica,sans-serif; font-size:48px; text-anchor:start;\" transform=\"rotate(0, 154.366, 1375.08)\" x=\"154.366\" y=\"1375.08\">10</text>\n",
       "</g>\n",
       "<g clip-path=\"url(#clip6700)\">\n",
       "<text style=\"fill:#000000; fill-opacity:1; font-family:Arial,Helvetica Neue,Helvetica,sans-serif; font-size:38px; text-anchor:start;\" transform=\"rotate(0, 207.891, 1347.67)\" x=\"207.891\" y=\"1347.67\">-</text>\n",
       "</g>\n",
       "<g clip-path=\"url(#clip6700)\">\n",
       "<text style=\"fill:#000000; fill-opacity:1; font-family:Arial,Helvetica Neue,Helvetica,sans-serif; font-size:38px; text-anchor:start;\" transform=\"rotate(0, 230.73, 1347.67)\" x=\"230.73\" y=\"1347.67\">2.5 </text>\n",
       "</g>\n",
       "<g clip-path=\"url(#clip6700)\">\n",
       "<text style=\"fill:#000000; fill-opacity:1; font-family:Arial,Helvetica Neue,Helvetica,sans-serif; font-size:48px; text-anchor:start;\" transform=\"rotate(0, 154.366, 1122.06)\" x=\"154.366\" y=\"1122.06\">10</text>\n",
       "</g>\n",
       "<g clip-path=\"url(#clip6700)\">\n",
       "<text style=\"fill:#000000; fill-opacity:1; font-family:Arial,Helvetica Neue,Helvetica,sans-serif; font-size:38px; text-anchor:start;\" transform=\"rotate(0, 207.891, 1094.65)\" x=\"207.891\" y=\"1094.65\">-</text>\n",
       "</g>\n",
       "<g clip-path=\"url(#clip6700)\">\n",
       "<text style=\"fill:#000000; fill-opacity:1; font-family:Arial,Helvetica Neue,Helvetica,sans-serif; font-size:38px; text-anchor:start;\" transform=\"rotate(0, 230.73, 1094.65)\" x=\"230.73\" y=\"1094.65\">2.0 </text>\n",
       "</g>\n",
       "<g clip-path=\"url(#clip6700)\">\n",
       "<text style=\"fill:#000000; fill-opacity:1; font-family:Arial,Helvetica Neue,Helvetica,sans-serif; font-size:48px; text-anchor:start;\" transform=\"rotate(0, 154.366, 869.039)\" x=\"154.366\" y=\"869.039\">10</text>\n",
       "</g>\n",
       "<g clip-path=\"url(#clip6700)\">\n",
       "<text style=\"fill:#000000; fill-opacity:1; font-family:Arial,Helvetica Neue,Helvetica,sans-serif; font-size:38px; text-anchor:start;\" transform=\"rotate(0, 207.891, 841.628)\" x=\"207.891\" y=\"841.628\">-</text>\n",
       "</g>\n",
       "<g clip-path=\"url(#clip6700)\">\n",
       "<text style=\"fill:#000000; fill-opacity:1; font-family:Arial,Helvetica Neue,Helvetica,sans-serif; font-size:38px; text-anchor:start;\" transform=\"rotate(0, 230.73, 841.628)\" x=\"230.73\" y=\"841.628\">1.5 </text>\n",
       "</g>\n",
       "<g clip-path=\"url(#clip6700)\">\n",
       "<text style=\"fill:#000000; fill-opacity:1; font-family:Arial,Helvetica Neue,Helvetica,sans-serif; font-size:48px; text-anchor:start;\" transform=\"rotate(0, 154.366, 616.02)\" x=\"154.366\" y=\"616.02\">10</text>\n",
       "</g>\n",
       "<g clip-path=\"url(#clip6700)\">\n",
       "<text style=\"fill:#000000; fill-opacity:1; font-family:Arial,Helvetica Neue,Helvetica,sans-serif; font-size:38px; text-anchor:start;\" transform=\"rotate(0, 207.891, 588.61)\" x=\"207.891\" y=\"588.61\">-</text>\n",
       "</g>\n",
       "<g clip-path=\"url(#clip6700)\">\n",
       "<text style=\"fill:#000000; fill-opacity:1; font-family:Arial,Helvetica Neue,Helvetica,sans-serif; font-size:38px; text-anchor:start;\" transform=\"rotate(0, 230.73, 588.61)\" x=\"230.73\" y=\"588.61\">1.0 </text>\n",
       "</g>\n",
       "<g clip-path=\"url(#clip6700)\">\n",
       "<text style=\"fill:#000000; fill-opacity:1; font-family:Arial,Helvetica Neue,Helvetica,sans-serif; font-size:48px; text-anchor:start;\" transform=\"rotate(0, 154.366, 363.001)\" x=\"154.366\" y=\"363.001\">10</text>\n",
       "</g>\n",
       "<g clip-path=\"url(#clip6700)\">\n",
       "<text style=\"fill:#000000; fill-opacity:1; font-family:Arial,Helvetica Neue,Helvetica,sans-serif; font-size:38px; text-anchor:start;\" transform=\"rotate(0, 207.891, 335.591)\" x=\"207.891\" y=\"335.591\">-</text>\n",
       "</g>\n",
       "<g clip-path=\"url(#clip6700)\">\n",
       "<text style=\"fill:#000000; fill-opacity:1; font-family:Arial,Helvetica Neue,Helvetica,sans-serif; font-size:38px; text-anchor:start;\" transform=\"rotate(0, 230.73, 335.591)\" x=\"230.73\" y=\"335.591\">0.5 </text>\n",
       "</g>\n",
       "<g clip-path=\"url(#clip6700)\">\n",
       "<text style=\"fill:#000000; fill-opacity:1; font-family:Arial,Helvetica Neue,Helvetica,sans-serif; font-size:48px; text-anchor:start;\" transform=\"rotate(0, 177.206, 109.982)\" x=\"177.206\" y=\"109.982\">10</text>\n",
       "</g>\n",
       "<g clip-path=\"url(#clip6700)\">\n",
       "<text style=\"fill:#000000; fill-opacity:1; font-family:Arial,Helvetica Neue,Helvetica,sans-serif; font-size:38px; text-anchor:start;\" transform=\"rotate(0, 230.73, 82.5718)\" x=\"230.73\" y=\"82.5718\">0.0 </text>\n",
       "</g>\n",
       "<g clip-path=\"url(#clip6700)\">\n",
       "<text style=\"fill:#000000; fill-opacity:1; font-family:Arial,Helvetica Neue,Helvetica,sans-serif; font-size:66px; text-anchor:middle;\" transform=\"rotate(0, 1336.36, 1559.48)\" x=\"1336.36\" y=\"1559.48\">Step size h</text>\n",
       "</g>\n",
       "<g clip-path=\"url(#clip6700)\">\n",
       "<text style=\"fill:#000000; fill-opacity:1; font-family:Arial,Helvetica Neue,Helvetica,sans-serif; font-size:66px; text-anchor:middle;\" transform=\"rotate(-90, 89.2861, 736.431)\" x=\"89.2861\" y=\"736.431\">|sigma|</text>\n",
       "</g>\n",
       "<polyline clip-path=\"url(#clip6702)\" style=\"stroke:#009af9; stroke-width:4; stroke-opacity:1; fill:none\" points=\"\n",
       "  377.495,254.843 387.132,270.716 396.769,288.46 406.406,308.426 416.043,331.08 425.68,357.063 435.316,387.29 444.953,423.139 454.59,466.834 464.227,522.323 \n",
       "  473.864,597.729 483.501,714.648 493.137,983.394 502.774,909.425 512.411,690.25 522.048,583.164 531.685,511.989 541.321,458.866 550.958,416.69 560.595,381.904 \n",
       "  570.232,352.465 579.869,327.091 589.506,304.924 599.142,285.357 608.779,267.947 618.416,252.357 628.053,238.327 637.69,225.648 647.327,214.151 656.963,203.698 \n",
       "  666.6,194.172 676.237,185.475 685.874,177.522 695.511,170.239 705.148,163.563 714.784,157.438 724.421,151.814 734.058,146.646 743.695,141.895 753.332,137.525 \n",
       "  762.969,133.504 772.605,129.803 782.242,126.395 791.879,123.256 801.516,120.366 811.153,117.702 820.789,115.248 830.426,112.987 840.063,110.902 849.7,108.981 \n",
       "  859.337,107.21 868.974,105.577 878.61,104.072 888.247,102.685 897.884,101.405 907.521,100.226 917.158,99.1382 926.795,98.1353 936.431,97.2106 946.068,96.3579 \n",
       "  955.705,95.5716 965.342,94.8465 974.979,94.1779 984.616,93.5613 994.252,92.9927 1003.89,92.4684 1013.53,91.9849 1023.16,91.539 1032.8,91.1278 1042.44,90.7487 \n",
       "  1052.07,90.399 1061.71,90.0765 1071.35,89.7792 1080.98,89.5049 1090.62,89.252 1100.26,89.0188 1109.89,88.8038 1119.53,88.6054 1129.17,88.4225 1138.8,88.2538 \n",
       "  1148.44,88.0983 1158.08,87.9548 1167.72,87.8226 1177.35,87.7006 1186.99,87.5881 1196.63,87.4843 1206.26,87.3886 1215.9,87.3004 1225.54,87.219 1235.17,87.144 \n",
       "  1244.81,87.0748 1254.45,87.011 1264.08,86.9521 1273.72,86.8979 1283.36,86.8478 1292.99,86.8017 1302.63,86.7591 1312.27,86.7198 1321.9,86.6836 1331.54,86.6503 \n",
       "  1341.18,86.6195 1350.81,86.5911 1360.45,86.5649 1370.09,86.5408 1379.73,86.5185 1389.36,86.498 1399,86.479 1408.64,86.4616 1418.27,86.4455 1427.91,86.4306 \n",
       "  1437.55,86.4169 1447.18,86.4043 1456.82,86.3926 1466.46,86.3819 1476.09,86.372 1485.73,86.3629 1495.37,86.3544 1505,86.3467 1514.64,86.3395 1524.28,86.3329 \n",
       "  1533.91,86.3268 1543.55,86.3212 1553.19,86.316 1562.83,86.3112 1572.46,86.3068 1582.1,86.3027 1591.74,86.299 1601.37,86.2955 1611.01,86.2924 1620.65,86.2894 \n",
       "  1630.28,86.2867 1639.92,86.2842 1649.56,86.2819 1659.19,86.2798 1668.83,86.2778 1678.47,86.276 1688.1,86.2743 1697.74,86.2728 1707.38,86.2714 1717.01,86.2701 \n",
       "  1726.65,86.2689 1736.29,86.2678 1745.92,86.2667 1755.56,86.2658 1765.2,86.2649 1774.84,86.2641 1784.47,86.2634 1794.11,86.2627 1803.75,86.2621 1813.38,86.2615 \n",
       "  1823.02,86.2609 1832.66,86.2604 1842.29,86.26 1851.93,86.2596 1861.57,86.2592 1871.2,86.2588 1880.84,86.2585 1890.48,86.2582 1900.11,86.2579 1909.75,86.2576 \n",
       "  1919.39,86.2574 1929.02,86.2572 1938.66,86.257 1948.3,86.2568 1957.94,86.2566 1967.57,86.2565 1977.21,86.2563 1986.85,86.2562 1996.48,86.2561 2006.12,86.2559 \n",
       "  2015.76,86.2558 2025.39,86.2557 2035.03,86.2556 2044.67,86.2556 2054.3,86.2555 2063.94,86.2554 2073.58,86.2553 2083.21,86.2553 2092.85,86.2552 2102.49,86.2552 \n",
       "  2112.12,86.2551 2121.76,86.2551 2131.4,86.2551 2141.03,86.255 2150.67,86.255 2160.31,86.2549 2169.95,86.2549 2179.58,86.2549 2189.22,86.2549 2198.86,86.2548 \n",
       "  2208.49,86.2548 2218.13,86.2548 2227.77,86.2548 2237.4,86.2548 2247.04,86.2548 2256.68,86.2547 2266.31,86.2547 2275.95,86.2547 2285.59,86.2547 2295.22,86.2547 \n",
       "  \n",
       "  \"/>\n",
       "<polyline clip-path=\"url(#clip6702)\" style=\"stroke:#e26f46; stroke-width:4; stroke-opacity:1; fill:none\" points=\"\n",
       "  377.495,86.324 387.132,86.3299 396.769,86.3362 406.406,86.3431 416.043,86.3506 425.68,86.3587 435.316,86.3675 444.953,86.377 454.59,86.3873 464.227,86.3985 \n",
       "  473.864,86.4107 483.501,86.4239 493.137,86.4381 502.774,86.4536 512.411,86.4704 522.048,86.4886 531.685,86.5084 541.321,86.5298 550.958,86.553 560.595,86.5782 \n",
       "  570.232,86.6055 579.869,86.6351 589.506,86.6672 599.142,86.702 608.779,86.7397 618.416,86.7807 628.053,86.825 637.69,86.8732 647.327,86.9254 656.963,86.982 \n",
       "  666.6,87.0433 676.237,87.1099 685.874,87.182 695.511,87.2603 705.148,87.3451 714.784,87.4371 724.421,87.5369 734.058,87.6451 743.695,87.7624 753.332,87.8896 \n",
       "  762.969,88.0275 772.605,88.1771 782.242,88.3393 791.879,88.5152 801.516,88.7059 811.153,88.9127 820.789,89.137 830.426,89.3802 840.063,89.6439 849.7,89.9299 \n",
       "  859.337,90.2399 868.974,90.5762 878.61,90.9408 888.247,91.3362 897.884,91.765 907.521,92.2299 917.158,92.7341 926.795,93.2808 936.431,93.8737 946.068,94.5167 \n",
       "  955.705,95.2139 965.342,95.97 974.979,96.79 984.616,97.6792 994.252,98.6435 1003.89,99.6893 1013.53,100.824 1023.16,102.054 1032.8,103.388 1042.44,104.835 \n",
       "  1052.07,106.405 1061.71,108.107 1071.35,109.954 1080.98,111.958 1090.62,114.132 1100.26,116.492 1109.89,119.052 1119.53,121.83 1129.17,124.846 1138.8,128.121 \n",
       "  1148.44,131.678 1158.08,135.541 1167.72,139.738 1177.35,144.301 1186.99,149.263 1196.63,154.661 1206.26,160.539 1215.9,166.942 1225.54,173.924 1235.17,181.544 \n",
       "  1244.81,189.872 1254.45,198.986 1264.08,208.978 1273.72,219.955 1283.36,232.044 1292.99,245.398 1302.63,260.206 1312.27,276.699 1321.9,295.176 1331.54,316.023 \n",
       "  1341.18,339.759 1350.81,367.105 1360.45,399.111 1370.09,437.392 1379.73,484.632 1389.36,545.812 1399,631.937 1408.64,776.932 1418.27,1386.61 1427.91,806.178 \n",
       "  1437.55,646.496 1447.18,555.464 1456.82,491.815 1466.46,443.082 1476.09,403.797 1485.73,371.066 1495.37,343.169 1505,319.001 1514.64,297.803 1524.28,279.036 \n",
       "  1533.91,262.297 1543.55,247.28 1553.19,233.743 1562.83,221.496 1572.46,210.379 1582.1,200.263 1591.74,191.038 1601.37,182.61 1611.01,174.899 1620.65,167.836 \n",
       "  1630.28,161.359 1639.92,155.415 1649.56,149.955 1659.19,144.937 1668.83,140.323 1678.47,136.079 1688.1,132.173 1697.74,128.577 1707.38,125.267 1717.01,122.217 \n",
       "  1726.65,119.408 1736.29,116.82 1745.92,114.435 1755.56,112.237 1765.2,110.212 1774.84,108.345 1784.47,106.623 1794.11,105.037 1803.75,103.574 1813.38,102.225 \n",
       "  1823.02,100.982 1832.66,99.835 1842.29,98.7778 1851.93,97.803 1861.57,96.9041 1871.2,96.0753 1880.84,95.311 1890.48,94.6062 1900.11,93.9563 1909.75,93.357 \n",
       "  1919.39,92.8043 1929.02,92.2947 1938.66,91.8247 1948.3,91.3913 1957.94,90.9916 1967.57,90.623 1977.21,90.2831 1986.85,89.9697 1996.48,89.6806 2006.12,89.4141 \n",
       "  2015.76,89.1682 2025.39,88.9415 2035.03,88.7325 2044.67,88.5397 2054.3,88.3619 2063.94,88.1979 2073.58,88.0467 2083.21,87.9073 2092.85,87.7787 2102.49,87.6601 \n",
       "  2112.12,87.5508 2121.76,87.4499 2131.4,87.3569 2141.03,87.2712 2150.67,87.1921 2160.31,87.1191 2169.95,87.0519 2179.58,86.9898 2189.22,86.9326 2198.86,86.8799 \n",
       "  2208.49,86.8312 2218.13,86.7864 2227.77,86.745 2237.4,86.7068 2247.04,86.6716 2256.68,86.6392 2266.31,86.6093 2275.95,86.5817 2285.59,86.5562 2295.22,86.5328 \n",
       "  \n",
       "  \"/>\n",
       "<polyline clip-path=\"url(#clip6702)\" style=\"stroke:#3da44d; stroke-width:4; stroke-opacity:1; fill:none\" points=\"\n",
       "  377.495,86.2764 387.132,86.2783 396.769,86.2803 406.406,86.2825 416.043,86.2848 425.68,86.2874 435.316,86.2901 444.953,86.2931 454.59,86.2964 464.227,86.2999 \n",
       "  473.864,86.3037 483.501,86.3079 493.137,86.3124 502.774,86.3172 512.411,86.3225 522.048,86.3283 531.685,86.3345 541.321,86.3412 550.958,86.3485 560.595,86.3565 \n",
       "  570.232,86.365 579.869,86.3744 589.506,86.3845 599.142,86.3954 608.779,86.4073 618.416,86.4202 628.053,86.4342 637.69,86.4493 647.327,86.4658 656.963,86.4836 \n",
       "  666.6,86.5029 676.237,86.5238 685.874,86.5466 695.511,86.5712 705.148,86.5979 714.784,86.6269 724.421,86.6583 734.058,86.6923 743.695,86.7293 753.332,86.7693 \n",
       "  762.969,86.8127 772.605,86.8598 782.242,86.9109 791.879,86.9663 801.516,87.0263 811.153,87.0914 820.789,87.162 830.426,87.2386 840.063,87.3216 849.7,87.4116 \n",
       "  859.337,87.5092 868.974,87.6151 878.61,87.7299 888.247,87.8543 897.884,87.9893 907.521,88.1357 917.158,88.2944 926.795,88.4665 936.431,88.6531 946.068,88.8554 \n",
       "  955.705,89.0749 965.342,89.3128 974.979,89.5708 984.616,89.8506 994.252,90.154 1003.89,90.483 1013.53,90.8398 1023.16,91.2266 1032.8,91.6462 1042.44,92.1011 \n",
       "  1052.07,92.5944 1061.71,93.1293 1071.35,93.7094 1080.98,94.3385 1090.62,95.0207 1100.26,95.7605 1109.89,96.5627 1119.53,97.4328 1129.17,98.3763 1138.8,99.3995 \n",
       "  1148.44,100.509 1158.08,101.713 1167.72,103.018 1177.35,104.434 1186.99,105.97 1196.63,107.636 1206.26,109.443 1215.9,111.403 1225.54,113.53 1235.17,115.838 \n",
       "  1244.81,118.342 1254.45,121.06 1264.08,124.01 1273.72,127.213 1283.36,130.691 1292.99,134.469 1302.63,138.574 1312.27,143.035 1321.9,147.886 1331.54,153.163 \n",
       "  1341.18,158.908 1350.81,165.164 1360.45,171.985 1370.09,179.427 1379.73,187.558 1389.36,196.452 1399,206.198 1408.64,216.898 1418.27,228.673 1427.91,241.67 \n",
       "  1437.55,256.066 1447.18,272.08 1456.82,289.99 1466.46,310.154 1476.09,333.051 1485.73,359.34 1495.37,389.962 1505,426.349 1514.64,470.819 1524.28,527.533 \n",
       "  1533.91,605.178 1543.55,727.565 1553.19,1030.92 1562.83,880.856 1572.46,679.314 1582.1,576.428 1591.74,507.145 1601.37,455.103 1611.01,413.631 1620.65,379.34 \n",
       "  1630.28,350.271 1639.92,325.185 1649.56,303.248 1659.19,283.871 1668.83,266.62 1678.47,251.166 1688.1,237.252 1697.74,224.674 1707.38,213.267 1717.01,202.893 \n",
       "  1726.65,193.438 1736.29,184.804 1745.92,176.908 1755.56,169.676 1765.2,163.047 1774.84,156.965 1784.47,151.379 1794.11,146.246 1803.75,141.527 1813.38,137.187 \n",
       "  1823.02,133.193 1832.66,129.516 1842.29,126.131 1851.93,123.013 1861.57,120.142 1871.2,117.496 1880.84,115.058 1890.48,112.811 1900.11,110.741 1909.75,108.832 \n",
       "  1919.39,107.073 1929.02,105.451 1938.66,103.956 1948.3,102.577 1957.94,101.306 1967.57,100.134 1977.21,99.0539 1986.85,98.0576 1996.48,97.1389 2006.12,96.2917 \n",
       "  2015.76,95.5106 2025.39,94.7903 2035.03,94.126 2044.67,93.5135 2054.3,92.9486 2063.94,92.4278 2073.58,91.9474 2083.21,91.5045 2092.85,91.096 2102.49,90.7193 \n",
       "  2112.12,90.3719 2121.76,90.0515 2131.4,89.7561 2141.03,89.4837 2150.67,89.2324 2160.31,89.0007 2169.95,88.7871 2179.58,88.59 2189.22,88.4083 2198.86,88.2408 \n",
       "  2208.49,88.0862 2218.13,87.9437 2227.77,87.8123 2237.4,87.6911 2247.04,87.5793 2256.68,87.4763 2266.31,87.3812 2275.95,87.2936 2285.59,87.2127 2295.22,87.1382 \n",
       "  \n",
       "  \"/>\n",
       "<path clip-path=\"url(#clip6700)\" d=\"\n",
       "M1989.93 372.684 L2280.76 372.684 L2280.76 130.764 L1989.93 130.764  Z\n",
       "  \" fill=\"#ffffff\" fill-rule=\"evenodd\" fill-opacity=\"1\"/>\n",
       "<polyline clip-path=\"url(#clip6700)\" style=\"stroke:#000000; stroke-width:4; stroke-opacity:1; fill:none\" points=\"\n",
       "  1989.93,372.684 2280.76,372.684 2280.76,130.764 1989.93,130.764 1989.93,372.684 \n",
       "  \"/>\n",
       "<polyline clip-path=\"url(#clip6700)\" style=\"stroke:#009af9; stroke-width:4; stroke-opacity:1; fill:none\" points=\"\n",
       "  2013.93,191.244 2157.93,191.244 \n",
       "  \"/>\n",
       "<g clip-path=\"url(#clip6700)\">\n",
       "<text style=\"fill:#000000; fill-opacity:1; font-family:Arial,Helvetica Neue,Helvetica,sans-serif; font-size:48px; text-anchor:start;\" transform=\"rotate(0, 2181.93, 208.744)\" x=\"2181.93\" y=\"208.744\">y1</text>\n",
       "</g>\n",
       "<polyline clip-path=\"url(#clip6700)\" style=\"stroke:#e26f46; stroke-width:4; stroke-opacity:1; fill:none\" points=\"\n",
       "  2013.93,251.724 2157.93,251.724 \n",
       "  \"/>\n",
       "<g clip-path=\"url(#clip6700)\">\n",
       "<text style=\"fill:#000000; fill-opacity:1; font-family:Arial,Helvetica Neue,Helvetica,sans-serif; font-size:48px; text-anchor:start;\" transform=\"rotate(0, 2181.93, 269.224)\" x=\"2181.93\" y=\"269.224\">y2</text>\n",
       "</g>\n",
       "<polyline clip-path=\"url(#clip6700)\" style=\"stroke:#3da44d; stroke-width:4; stroke-opacity:1; fill:none\" points=\"\n",
       "  2013.93,312.204 2157.93,312.204 \n",
       "  \"/>\n",
       "<g clip-path=\"url(#clip6700)\">\n",
       "<text style=\"fill:#000000; fill-opacity:1; font-family:Arial,Helvetica Neue,Helvetica,sans-serif; font-size:48px; text-anchor:start;\" transform=\"rotate(0, 2181.93, 329.704)\" x=\"2181.93\" y=\"329.704\">y3</text>\n",
       "</g>\n",
       "</svg>\n"
      ]
     },
     "execution_count": 25,
     "metadata": {},
     "output_type": "execute_result"
    }
   ],
   "source": [
    "hr = 10 .^LinRange(-3, 4, 200)\n",
    "data = [ abs.( lambdify(sol_σ)(h,λ) ) for h in hr, λ in λ2 ]\n",
    "plot( hr, data, xlabel=\"Step size h\", ylabel=\"|sigma|\", \n",
    "    yscale=:log10, xscale=:log10 )"
   ]
  },
  {
   "cell_type": "markdown",
   "metadata": {},
   "source": [
    "We can see that it is always good."
   ]
  }
 ],
 "metadata": {
  "kernelspec": {
   "display_name": "Julia 1.4.0",
   "language": "julia",
   "name": "julia-1.4"
  },
  "language_info": {
   "file_extension": ".jl",
   "mimetype": "application/julia",
   "name": "julia",
   "version": "1.4.0"
  }
 },
 "nbformat": 4,
 "nbformat_minor": 4
}
